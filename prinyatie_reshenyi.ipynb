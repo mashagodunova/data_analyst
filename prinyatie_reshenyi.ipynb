{
 "cells": [
  {
   "cell_type": "markdown",
   "metadata": {},
   "source": [
    "### Описание данных\n",
    "#### Данные для первой части\n",
    "Hypothesis — краткое описание гипотезы;\n",
    "\n",
    "Reach — охват пользователей по 10-балльной шкале;\n",
    "\n",
    "Impact — влияние на пользователей по 10-балльной шкале;\n",
    "\n",
    "Confidence — уверенность в гипотезе по 10-балльной шкале;\n",
    "\n",
    "Efforts — затраты ресурсов на проверку гипотезы по 10-балльной шкале. Чем больше значение Efforts, тем дороже проверка гипотезы.\n",
    "#### Данные для второй части\n",
    "transactionId — идентификатор заказа;\n",
    "\n",
    "visitorId — идентификатор пользователя, совершившего заказ;\n",
    "\n",
    "date — дата, когда был совершён заказ;\n",
    "\n",
    "revenue — выручка заказа;\n",
    "\n",
    "group — группа A/B-теста, в которую попал заказ.\n",
    "\n",
    "date — дата;\n",
    "\n",
    "group — группа A/B-теста;\n",
    "\n",
    "visitors — количество пользователей в указанную дату в указанной группе A/B-теста"
   ]
  },
  {
   "cell_type": "markdown",
   "metadata": {},
   "source": [
    "# Загрузка и предобрботка данных"
   ]
  },
  {
   "cell_type": "code",
   "execution_count": 34,
   "metadata": {},
   "outputs": [],
   "source": [
    "import numpy as np\n",
    "import pandas as pd\n",
    "import seaborn as sns\n",
    "from matplotlib import pyplot as plt\n",
    "from IPython.display import display\n",
    "\n",
    "import scipy.stats as stats\n",
    "import datetime as dt"
   ]
  },
  {
   "cell_type": "code",
   "execution_count": 35,
   "metadata": {},
   "outputs": [],
   "source": [
    "hypothesis = pd.read_csv('/datasets/hypothesis.csv')\n",
    "orders = pd.read_csv('/datasets/orders.csv')\n",
    "visitors = pd.read_csv('/datasets/visitors.csv')"
   ]
  },
  {
   "cell_type": "markdown",
   "metadata": {},
   "source": [
    "## Таблица hypothesis"
   ]
  },
  {
   "cell_type": "code",
   "execution_count": 36,
   "metadata": {
    "scrolled": true
   },
   "outputs": [
    {
     "data": {
      "text/html": [
       "<div>\n",
       "<style scoped>\n",
       "    .dataframe tbody tr th:only-of-type {\n",
       "        vertical-align: middle;\n",
       "    }\n",
       "\n",
       "    .dataframe tbody tr th {\n",
       "        vertical-align: top;\n",
       "    }\n",
       "\n",
       "    .dataframe thead th {\n",
       "        text-align: right;\n",
       "    }\n",
       "</style>\n",
       "<table border=\"1\" class=\"dataframe\">\n",
       "  <thead>\n",
       "    <tr style=\"text-align: right;\">\n",
       "      <th></th>\n",
       "      <th>Hypothesis</th>\n",
       "      <th>Reach</th>\n",
       "      <th>Impact</th>\n",
       "      <th>Confidence</th>\n",
       "      <th>Efforts</th>\n",
       "    </tr>\n",
       "  </thead>\n",
       "  <tbody>\n",
       "    <tr>\n",
       "      <th>0</th>\n",
       "      <td>Добавить два новых канала привлечения трафика,...</td>\n",
       "      <td>3</td>\n",
       "      <td>10</td>\n",
       "      <td>8</td>\n",
       "      <td>6</td>\n",
       "    </tr>\n",
       "    <tr>\n",
       "      <th>1</th>\n",
       "      <td>Запустить собственную службу доставки, что сок...</td>\n",
       "      <td>2</td>\n",
       "      <td>5</td>\n",
       "      <td>4</td>\n",
       "      <td>10</td>\n",
       "    </tr>\n",
       "    <tr>\n",
       "      <th>2</th>\n",
       "      <td>Добавить блоки рекомендаций товаров на сайт ин...</td>\n",
       "      <td>8</td>\n",
       "      <td>3</td>\n",
       "      <td>7</td>\n",
       "      <td>3</td>\n",
       "    </tr>\n",
       "    <tr>\n",
       "      <th>3</th>\n",
       "      <td>Изменить структура категорий, что увеличит кон...</td>\n",
       "      <td>8</td>\n",
       "      <td>3</td>\n",
       "      <td>3</td>\n",
       "      <td>8</td>\n",
       "    </tr>\n",
       "    <tr>\n",
       "      <th>4</th>\n",
       "      <td>Изменить цвет фона главной страницы, чтобы уве...</td>\n",
       "      <td>3</td>\n",
       "      <td>1</td>\n",
       "      <td>1</td>\n",
       "      <td>1</td>\n",
       "    </tr>\n",
       "    <tr>\n",
       "      <th>5</th>\n",
       "      <td>Добавить страницу отзывов клиентов о магазине,...</td>\n",
       "      <td>3</td>\n",
       "      <td>2</td>\n",
       "      <td>2</td>\n",
       "      <td>3</td>\n",
       "    </tr>\n",
       "    <tr>\n",
       "      <th>6</th>\n",
       "      <td>Показать на главной странице баннеры с актуаль...</td>\n",
       "      <td>5</td>\n",
       "      <td>3</td>\n",
       "      <td>8</td>\n",
       "      <td>3</td>\n",
       "    </tr>\n",
       "    <tr>\n",
       "      <th>7</th>\n",
       "      <td>Добавить форму подписки на все основные страни...</td>\n",
       "      <td>10</td>\n",
       "      <td>7</td>\n",
       "      <td>8</td>\n",
       "      <td>5</td>\n",
       "    </tr>\n",
       "    <tr>\n",
       "      <th>8</th>\n",
       "      <td>Запустить акцию, дающую скидку на товар в день...</td>\n",
       "      <td>1</td>\n",
       "      <td>9</td>\n",
       "      <td>9</td>\n",
       "      <td>5</td>\n",
       "    </tr>\n",
       "  </tbody>\n",
       "</table>\n",
       "</div>"
      ],
      "text/plain": [
       "                                          Hypothesis  Reach  Impact  \\\n",
       "0  Добавить два новых канала привлечения трафика,...      3      10   \n",
       "1  Запустить собственную службу доставки, что сок...      2       5   \n",
       "2  Добавить блоки рекомендаций товаров на сайт ин...      8       3   \n",
       "3  Изменить структура категорий, что увеличит кон...      8       3   \n",
       "4  Изменить цвет фона главной страницы, чтобы уве...      3       1   \n",
       "5  Добавить страницу отзывов клиентов о магазине,...      3       2   \n",
       "6  Показать на главной странице баннеры с актуаль...      5       3   \n",
       "7  Добавить форму подписки на все основные страни...     10       7   \n",
       "8  Запустить акцию, дающую скидку на товар в день...      1       9   \n",
       "\n",
       "   Confidence  Efforts  \n",
       "0           8        6  \n",
       "1           4       10  \n",
       "2           7        3  \n",
       "3           3        8  \n",
       "4           1        1  \n",
       "5           2        3  \n",
       "6           8        3  \n",
       "7           8        5  \n",
       "8           9        5  "
      ]
     },
     "metadata": {},
     "output_type": "display_data"
    },
    {
     "name": "stdout",
     "output_type": "stream",
     "text": [
      "<class 'pandas.core.frame.DataFrame'>\n",
      "RangeIndex: 9 entries, 0 to 8\n",
      "Data columns (total 5 columns):\n",
      " #   Column      Non-Null Count  Dtype \n",
      "---  ------      --------------  ----- \n",
      " 0   Hypothesis  9 non-null      object\n",
      " 1   Reach       9 non-null      int64 \n",
      " 2   Impact      9 non-null      int64 \n",
      " 3   Confidence  9 non-null      int64 \n",
      " 4   Efforts     9 non-null      int64 \n",
      "dtypes: int64(4), object(1)\n",
      "memory usage: 488.0+ bytes\n",
      "None\n"
     ]
    }
   ],
   "source": [
    "display(hypothesis)\n",
    "print(hypothesis.info())"
   ]
  },
  {
   "cell_type": "markdown",
   "metadata": {},
   "source": [
    "## Таблица orders"
   ]
  },
  {
   "cell_type": "code",
   "execution_count": 37,
   "metadata": {},
   "outputs": [
    {
     "data": {
      "text/html": [
       "<div>\n",
       "<style scoped>\n",
       "    .dataframe tbody tr th:only-of-type {\n",
       "        vertical-align: middle;\n",
       "    }\n",
       "\n",
       "    .dataframe tbody tr th {\n",
       "        vertical-align: top;\n",
       "    }\n",
       "\n",
       "    .dataframe thead th {\n",
       "        text-align: right;\n",
       "    }\n",
       "</style>\n",
       "<table border=\"1\" class=\"dataframe\">\n",
       "  <thead>\n",
       "    <tr style=\"text-align: right;\">\n",
       "      <th></th>\n",
       "      <th>transactionId</th>\n",
       "      <th>visitorId</th>\n",
       "      <th>date</th>\n",
       "      <th>revenue</th>\n",
       "      <th>group</th>\n",
       "    </tr>\n",
       "  </thead>\n",
       "  <tbody>\n",
       "    <tr>\n",
       "      <th>0</th>\n",
       "      <td>3667963787</td>\n",
       "      <td>3312258926</td>\n",
       "      <td>2019-08-15</td>\n",
       "      <td>1650</td>\n",
       "      <td>B</td>\n",
       "    </tr>\n",
       "    <tr>\n",
       "      <th>1</th>\n",
       "      <td>2804400009</td>\n",
       "      <td>3642806036</td>\n",
       "      <td>2019-08-15</td>\n",
       "      <td>730</td>\n",
       "      <td>B</td>\n",
       "    </tr>\n",
       "    <tr>\n",
       "      <th>2</th>\n",
       "      <td>2961555356</td>\n",
       "      <td>4069496402</td>\n",
       "      <td>2019-08-15</td>\n",
       "      <td>400</td>\n",
       "      <td>A</td>\n",
       "    </tr>\n",
       "    <tr>\n",
       "      <th>3</th>\n",
       "      <td>3797467345</td>\n",
       "      <td>1196621759</td>\n",
       "      <td>2019-08-15</td>\n",
       "      <td>9759</td>\n",
       "      <td>B</td>\n",
       "    </tr>\n",
       "    <tr>\n",
       "      <th>4</th>\n",
       "      <td>2282983706</td>\n",
       "      <td>2322279887</td>\n",
       "      <td>2019-08-15</td>\n",
       "      <td>2308</td>\n",
       "      <td>B</td>\n",
       "    </tr>\n",
       "    <tr>\n",
       "      <th>5</th>\n",
       "      <td>182168103</td>\n",
       "      <td>935554773</td>\n",
       "      <td>2019-08-15</td>\n",
       "      <td>2210</td>\n",
       "      <td>B</td>\n",
       "    </tr>\n",
       "    <tr>\n",
       "      <th>6</th>\n",
       "      <td>398296753</td>\n",
       "      <td>2900797465</td>\n",
       "      <td>2019-08-15</td>\n",
       "      <td>1860</td>\n",
       "      <td>B</td>\n",
       "    </tr>\n",
       "    <tr>\n",
       "      <th>7</th>\n",
       "      <td>2626614568</td>\n",
       "      <td>78758296</td>\n",
       "      <td>2019-08-15</td>\n",
       "      <td>1044</td>\n",
       "      <td>A</td>\n",
       "    </tr>\n",
       "    <tr>\n",
       "      <th>8</th>\n",
       "      <td>1576988021</td>\n",
       "      <td>295230930</td>\n",
       "      <td>2019-08-15</td>\n",
       "      <td>13710</td>\n",
       "      <td>A</td>\n",
       "    </tr>\n",
       "    <tr>\n",
       "      <th>9</th>\n",
       "      <td>1506739906</td>\n",
       "      <td>1882260405</td>\n",
       "      <td>2019-08-15</td>\n",
       "      <td>1855</td>\n",
       "      <td>B</td>\n",
       "    </tr>\n",
       "  </tbody>\n",
       "</table>\n",
       "</div>"
      ],
      "text/plain": [
       "   transactionId   visitorId        date  revenue group\n",
       "0     3667963787  3312258926  2019-08-15     1650     B\n",
       "1     2804400009  3642806036  2019-08-15      730     B\n",
       "2     2961555356  4069496402  2019-08-15      400     A\n",
       "3     3797467345  1196621759  2019-08-15     9759     B\n",
       "4     2282983706  2322279887  2019-08-15     2308     B\n",
       "5      182168103   935554773  2019-08-15     2210     B\n",
       "6      398296753  2900797465  2019-08-15     1860     B\n",
       "7     2626614568    78758296  2019-08-15     1044     A\n",
       "8     1576988021   295230930  2019-08-15    13710     A\n",
       "9     1506739906  1882260405  2019-08-15     1855     B"
      ]
     },
     "metadata": {},
     "output_type": "display_data"
    },
    {
     "name": "stdout",
     "output_type": "stream",
     "text": [
      "<class 'pandas.core.frame.DataFrame'>\n",
      "RangeIndex: 1197 entries, 0 to 1196\n",
      "Data columns (total 5 columns):\n",
      " #   Column         Non-Null Count  Dtype \n",
      "---  ------         --------------  ----- \n",
      " 0   transactionId  1197 non-null   int64 \n",
      " 1   visitorId      1197 non-null   int64 \n",
      " 2   date           1197 non-null   object\n",
      " 3   revenue        1197 non-null   int64 \n",
      " 4   group          1197 non-null   object\n",
      "dtypes: int64(3), object(2)\n",
      "memory usage: 46.9+ KB\n",
      "None\n"
     ]
    }
   ],
   "source": [
    "display(orders.head(10))\n",
    "print(orders.info())"
   ]
  },
  {
   "cell_type": "code",
   "execution_count": 38,
   "metadata": {},
   "outputs": [
    {
     "name": "stdout",
     "output_type": "stream",
     "text": [
      "0\n"
     ]
    }
   ],
   "source": [
    "print(orders.duplicated().sum())"
   ]
  },
  {
   "cell_type": "code",
   "execution_count": 39,
   "metadata": {},
   "outputs": [],
   "source": [
    "# Изменение типа столбца date с object на datetime\n",
    "orders[\"date\"] = pd.to_datetime(orders[\"date\"], format='%Y-%m-%d')"
   ]
  },
  {
   "cell_type": "code",
   "execution_count": 40,
   "metadata": {},
   "outputs": [
    {
     "name": "stdout",
     "output_type": "stream",
     "text": [
      "<class 'pandas.core.frame.DataFrame'>\n",
      "RangeIndex: 1197 entries, 0 to 1196\n",
      "Data columns (total 5 columns):\n",
      " #   Column         Non-Null Count  Dtype         \n",
      "---  ------         --------------  -----         \n",
      " 0   transactionId  1197 non-null   int64         \n",
      " 1   visitorId      1197 non-null   int64         \n",
      " 2   date           1197 non-null   datetime64[ns]\n",
      " 3   revenue        1197 non-null   int64         \n",
      " 4   group          1197 non-null   object        \n",
      "dtypes: datetime64[ns](1), int64(3), object(1)\n",
      "memory usage: 46.9+ KB\n",
      "None\n"
     ]
    }
   ],
   "source": [
    "print(orders.info())"
   ]
  },
  {
   "cell_type": "markdown",
   "metadata": {},
   "source": [
    "## Таблица visitors"
   ]
  },
  {
   "cell_type": "code",
   "execution_count": 41,
   "metadata": {},
   "outputs": [
    {
     "data": {
      "text/html": [
       "<div>\n",
       "<style scoped>\n",
       "    .dataframe tbody tr th:only-of-type {\n",
       "        vertical-align: middle;\n",
       "    }\n",
       "\n",
       "    .dataframe tbody tr th {\n",
       "        vertical-align: top;\n",
       "    }\n",
       "\n",
       "    .dataframe thead th {\n",
       "        text-align: right;\n",
       "    }\n",
       "</style>\n",
       "<table border=\"1\" class=\"dataframe\">\n",
       "  <thead>\n",
       "    <tr style=\"text-align: right;\">\n",
       "      <th></th>\n",
       "      <th>date</th>\n",
       "      <th>group</th>\n",
       "      <th>visitors</th>\n",
       "    </tr>\n",
       "  </thead>\n",
       "  <tbody>\n",
       "    <tr>\n",
       "      <th>0</th>\n",
       "      <td>2019-08-01</td>\n",
       "      <td>A</td>\n",
       "      <td>719</td>\n",
       "    </tr>\n",
       "    <tr>\n",
       "      <th>1</th>\n",
       "      <td>2019-08-02</td>\n",
       "      <td>A</td>\n",
       "      <td>619</td>\n",
       "    </tr>\n",
       "    <tr>\n",
       "      <th>2</th>\n",
       "      <td>2019-08-03</td>\n",
       "      <td>A</td>\n",
       "      <td>507</td>\n",
       "    </tr>\n",
       "    <tr>\n",
       "      <th>3</th>\n",
       "      <td>2019-08-04</td>\n",
       "      <td>A</td>\n",
       "      <td>717</td>\n",
       "    </tr>\n",
       "    <tr>\n",
       "      <th>4</th>\n",
       "      <td>2019-08-05</td>\n",
       "      <td>A</td>\n",
       "      <td>756</td>\n",
       "    </tr>\n",
       "    <tr>\n",
       "      <th>5</th>\n",
       "      <td>2019-08-06</td>\n",
       "      <td>A</td>\n",
       "      <td>667</td>\n",
       "    </tr>\n",
       "    <tr>\n",
       "      <th>6</th>\n",
       "      <td>2019-08-07</td>\n",
       "      <td>A</td>\n",
       "      <td>644</td>\n",
       "    </tr>\n",
       "    <tr>\n",
       "      <th>7</th>\n",
       "      <td>2019-08-08</td>\n",
       "      <td>A</td>\n",
       "      <td>610</td>\n",
       "    </tr>\n",
       "    <tr>\n",
       "      <th>8</th>\n",
       "      <td>2019-08-09</td>\n",
       "      <td>A</td>\n",
       "      <td>617</td>\n",
       "    </tr>\n",
       "    <tr>\n",
       "      <th>9</th>\n",
       "      <td>2019-08-10</td>\n",
       "      <td>A</td>\n",
       "      <td>406</td>\n",
       "    </tr>\n",
       "  </tbody>\n",
       "</table>\n",
       "</div>"
      ],
      "text/plain": [
       "         date group  visitors\n",
       "0  2019-08-01     A       719\n",
       "1  2019-08-02     A       619\n",
       "2  2019-08-03     A       507\n",
       "3  2019-08-04     A       717\n",
       "4  2019-08-05     A       756\n",
       "5  2019-08-06     A       667\n",
       "6  2019-08-07     A       644\n",
       "7  2019-08-08     A       610\n",
       "8  2019-08-09     A       617\n",
       "9  2019-08-10     A       406"
      ]
     },
     "metadata": {},
     "output_type": "display_data"
    }
   ],
   "source": [
    "display(visitors.head(10))"
   ]
  },
  {
   "cell_type": "code",
   "execution_count": 42,
   "metadata": {},
   "outputs": [
    {
     "name": "stdout",
     "output_type": "stream",
     "text": [
      "0\n"
     ]
    }
   ],
   "source": [
    "print(visitors.duplicated().sum())"
   ]
  },
  {
   "cell_type": "code",
   "execution_count": 43,
   "metadata": {},
   "outputs": [],
   "source": [
    "# Изменение формата date\n",
    "visitors[\"date\"] = pd.to_datetime(visitors[\"date\"], format='%Y-%m-%d')"
   ]
  },
  {
   "cell_type": "code",
   "execution_count": 44,
   "metadata": {},
   "outputs": [
    {
     "name": "stdout",
     "output_type": "stream",
     "text": [
      "<class 'pandas.core.frame.DataFrame'>\n",
      "RangeIndex: 62 entries, 0 to 61\n",
      "Data columns (total 3 columns):\n",
      " #   Column    Non-Null Count  Dtype         \n",
      "---  ------    --------------  -----         \n",
      " 0   date      62 non-null     datetime64[ns]\n",
      " 1   group     62 non-null     object        \n",
      " 2   visitors  62 non-null     int64         \n",
      "dtypes: datetime64[ns](1), int64(1), object(1)\n",
      "memory usage: 1.6+ KB\n",
      "None\n"
     ]
    }
   ],
   "source": [
    "print(visitors.info())"
   ]
  },
  {
   "cell_type": "code",
   "execution_count": 45,
   "metadata": {
    "scrolled": true
   },
   "outputs": [
    {
     "name": "stdout",
     "output_type": "stream",
     "text": [
      "group    4.845447\n",
      "dtype: float64\n"
     ]
    }
   ],
   "source": [
    "print(orders.groupby('visitorId').agg({'group' : 'nunique'}).query('group>1').count()/len(orders)*100) "
   ]
  },
  {
   "cell_type": "code",
   "execution_count": 46,
   "metadata": {},
   "outputs": [
    {
     "data": {
      "text/plain": [
       "group    58\n",
       "dtype: int64"
      ]
     },
     "execution_count": 46,
     "metadata": {},
     "output_type": "execute_result"
    }
   ],
   "source": [
    "check_user_group = orders.groupby(['visitorId']).agg({'group' : 'nunique'})\n",
    "check_user_group = check_user_group.query('group == 2')\n",
    "check_user_group.count()"
   ]
  },
  {
   "cell_type": "markdown",
   "metadata": {},
   "source": [
    "Повторяющиеся в двух группах пользователи составляют менее 5%, в абсолютном значении их 58. Это очень малая доля от общего количества пользователей (1197), а потому они не могут значительно исказить результаты проверки, при этом, если удалить всех таких пользователей, возможно, группы станут менее сбалансированными. Соответственно, кажется разумным работать с данными в том виде, в котором они представлены (с учетом дубликатов). "
   ]
  },
  {
   "cell_type": "markdown",
   "metadata": {},
   "source": [
    "# Часть 1. Приоритизация гипотез."
   ]
  },
  {
   "cell_type": "markdown",
   "metadata": {},
   "source": [
    "В файле /datasets/hypothesis.csv 9 гипотез по увеличению выручки интернет-магазина с указанными параметрами Reach, Impact, Confidence, Effort.\n",
    "- Примените фреймворк ICE для приоритизации гипотез. Отсортируйте их по убыванию приоритета."
   ]
  },
  {
   "cell_type": "code",
   "execution_count": 47,
   "metadata": {},
   "outputs": [
    {
     "data": {
      "text/html": [
       "<div>\n",
       "<style scoped>\n",
       "    .dataframe tbody tr th:only-of-type {\n",
       "        vertical-align: middle;\n",
       "    }\n",
       "\n",
       "    .dataframe tbody tr th {\n",
       "        vertical-align: top;\n",
       "    }\n",
       "\n",
       "    .dataframe thead th {\n",
       "        text-align: right;\n",
       "    }\n",
       "</style>\n",
       "<table border=\"1\" class=\"dataframe\">\n",
       "  <thead>\n",
       "    <tr style=\"text-align: right;\">\n",
       "      <th></th>\n",
       "      <th>ICE</th>\n",
       "      <th>Hypothesis</th>\n",
       "    </tr>\n",
       "  </thead>\n",
       "  <tbody>\n",
       "    <tr>\n",
       "      <th>8</th>\n",
       "      <td>16.2</td>\n",
       "      <td>Запустить акцию, дающую скидку на товар в день...</td>\n",
       "    </tr>\n",
       "    <tr>\n",
       "      <th>0</th>\n",
       "      <td>13.3</td>\n",
       "      <td>Добавить два новых канала привлечения трафика,...</td>\n",
       "    </tr>\n",
       "    <tr>\n",
       "      <th>7</th>\n",
       "      <td>11.2</td>\n",
       "      <td>Добавить форму подписки на все основные страни...</td>\n",
       "    </tr>\n",
       "    <tr>\n",
       "      <th>6</th>\n",
       "      <td>8.0</td>\n",
       "      <td>Показать на главной странице баннеры с актуаль...</td>\n",
       "    </tr>\n",
       "    <tr>\n",
       "      <th>2</th>\n",
       "      <td>7.0</td>\n",
       "      <td>Добавить блоки рекомендаций товаров на сайт ин...</td>\n",
       "    </tr>\n",
       "    <tr>\n",
       "      <th>1</th>\n",
       "      <td>2.0</td>\n",
       "      <td>Запустить собственную службу доставки, что сок...</td>\n",
       "    </tr>\n",
       "    <tr>\n",
       "      <th>5</th>\n",
       "      <td>1.3</td>\n",
       "      <td>Добавить страницу отзывов клиентов о магазине,...</td>\n",
       "    </tr>\n",
       "    <tr>\n",
       "      <th>3</th>\n",
       "      <td>1.1</td>\n",
       "      <td>Изменить структура категорий, что увеличит кон...</td>\n",
       "    </tr>\n",
       "    <tr>\n",
       "      <th>4</th>\n",
       "      <td>1.0</td>\n",
       "      <td>Изменить цвет фона главной страницы, чтобы уве...</td>\n",
       "    </tr>\n",
       "  </tbody>\n",
       "</table>\n",
       "</div>"
      ],
      "text/plain": [
       "    ICE                                         Hypothesis\n",
       "8  16.2  Запустить акцию, дающую скидку на товар в день...\n",
       "0  13.3  Добавить два новых канала привлечения трафика,...\n",
       "7  11.2  Добавить форму подписки на все основные страни...\n",
       "6   8.0  Показать на главной странице баннеры с актуаль...\n",
       "2   7.0  Добавить блоки рекомендаций товаров на сайт ин...\n",
       "1   2.0  Запустить собственную службу доставки, что сок...\n",
       "5   1.3  Добавить страницу отзывов клиентов о магазине,...\n",
       "3   1.1  Изменить структура категорий, что увеличит кон...\n",
       "4   1.0  Изменить цвет фона главной страницы, чтобы уве..."
      ]
     },
     "metadata": {},
     "output_type": "display_data"
    }
   ],
   "source": [
    "hypothesis['ICE'] = ((hypothesis['Impact'] * hypothesis['Confidence']) / hypothesis['Efforts']).round(1)\n",
    "hypothesis['RICE'] = (hypothesis['Reach']  *hypothesis['Impact'] * hypothesis['Confidence']) / hypothesis['Efforts']\n",
    "display(hypothesis[['ICE', 'Hypothesis']].sort_values(by='ICE', ascending=False))"
   ]
  },
  {
   "cell_type": "markdown",
   "metadata": {},
   "source": [
    "- Примените фреймворк RICE для приоритизации гипотез. Отсортируйте их по убыванию приоритета."
   ]
  },
  {
   "cell_type": "code",
   "execution_count": 48,
   "metadata": {},
   "outputs": [
    {
     "data": {
      "text/html": [
       "<div>\n",
       "<style scoped>\n",
       "    .dataframe tbody tr th:only-of-type {\n",
       "        vertical-align: middle;\n",
       "    }\n",
       "\n",
       "    .dataframe tbody tr th {\n",
       "        vertical-align: top;\n",
       "    }\n",
       "\n",
       "    .dataframe thead th {\n",
       "        text-align: right;\n",
       "    }\n",
       "</style>\n",
       "<table border=\"1\" class=\"dataframe\">\n",
       "  <thead>\n",
       "    <tr style=\"text-align: right;\">\n",
       "      <th></th>\n",
       "      <th>RICE</th>\n",
       "      <th>Hypothesis</th>\n",
       "      <th>Reach</th>\n",
       "    </tr>\n",
       "  </thead>\n",
       "  <tbody>\n",
       "    <tr>\n",
       "      <th>7</th>\n",
       "      <td>112.0</td>\n",
       "      <td>Добавить форму подписки на все основные страни...</td>\n",
       "      <td>10</td>\n",
       "    </tr>\n",
       "    <tr>\n",
       "      <th>2</th>\n",
       "      <td>56.0</td>\n",
       "      <td>Добавить блоки рекомендаций товаров на сайт ин...</td>\n",
       "      <td>8</td>\n",
       "    </tr>\n",
       "    <tr>\n",
       "      <th>0</th>\n",
       "      <td>40.0</td>\n",
       "      <td>Добавить два новых канала привлечения трафика,...</td>\n",
       "      <td>3</td>\n",
       "    </tr>\n",
       "    <tr>\n",
       "      <th>6</th>\n",
       "      <td>40.0</td>\n",
       "      <td>Показать на главной странице баннеры с актуаль...</td>\n",
       "      <td>5</td>\n",
       "    </tr>\n",
       "    <tr>\n",
       "      <th>8</th>\n",
       "      <td>16.2</td>\n",
       "      <td>Запустить акцию, дающую скидку на товар в день...</td>\n",
       "      <td>1</td>\n",
       "    </tr>\n",
       "    <tr>\n",
       "      <th>3</th>\n",
       "      <td>9.0</td>\n",
       "      <td>Изменить структура категорий, что увеличит кон...</td>\n",
       "      <td>8</td>\n",
       "    </tr>\n",
       "    <tr>\n",
       "      <th>1</th>\n",
       "      <td>4.0</td>\n",
       "      <td>Запустить собственную службу доставки, что сок...</td>\n",
       "      <td>2</td>\n",
       "    </tr>\n",
       "    <tr>\n",
       "      <th>5</th>\n",
       "      <td>4.0</td>\n",
       "      <td>Добавить страницу отзывов клиентов о магазине,...</td>\n",
       "      <td>3</td>\n",
       "    </tr>\n",
       "    <tr>\n",
       "      <th>4</th>\n",
       "      <td>3.0</td>\n",
       "      <td>Изменить цвет фона главной страницы, чтобы уве...</td>\n",
       "      <td>3</td>\n",
       "    </tr>\n",
       "  </tbody>\n",
       "</table>\n",
       "</div>"
      ],
      "text/plain": [
       "    RICE                                         Hypothesis  Reach\n",
       "7  112.0  Добавить форму подписки на все основные страни...     10\n",
       "2   56.0  Добавить блоки рекомендаций товаров на сайт ин...      8\n",
       "0   40.0  Добавить два новых канала привлечения трафика,...      3\n",
       "6   40.0  Показать на главной странице баннеры с актуаль...      5\n",
       "8   16.2  Запустить акцию, дающую скидку на товар в день...      1\n",
       "3    9.0  Изменить структура категорий, что увеличит кон...      8\n",
       "1    4.0  Запустить собственную службу доставки, что сок...      2\n",
       "5    4.0  Добавить страницу отзывов клиентов о магазине,...      3\n",
       "4    3.0  Изменить цвет фона главной страницы, чтобы уве...      3"
      ]
     },
     "execution_count": 48,
     "metadata": {},
     "output_type": "execute_result"
    }
   ],
   "source": [
    "hypothesis[['RICE', 'Hypothesis', 'Reach']].sort_values(by='RICE', ascending=False)"
   ]
  },
  {
   "cell_type": "markdown",
   "metadata": {},
   "source": [
    "- Укажите, как изменилась приоритизация гипотез при применении RICE вместо ICE. Объясните, почему так произошло."
   ]
  },
  {
   "cell_type": "markdown",
   "metadata": {},
   "source": [
    "Можно заметить, что фреймворки дают разные результаты при применении к датафрейму. Так, различаются самые приоритетные гипотезы (ICE - 8, 0, 7; RICE - 7, 2, 0). Такое различие объясняется тем, что во втором случае мы учитываем параметр пользовательского охвата, что важно при приоритизации гипотез, поэтому для нас приоритетными будут гипотезы 7,2 0. "
   ]
  },
  {
   "cell_type": "markdown",
   "metadata": {},
   "source": [
    "# Часть 2. Анализ A/B-теста"
   ]
  },
  {
   "cell_type": "markdown",
   "metadata": {},
   "source": [
    "1. Постройте график кумулятивной выручки по группам. Сделайте выводы и предположения."
   ]
  },
  {
   "cell_type": "code",
   "execution_count": 49,
   "metadata": {},
   "outputs": [
    {
     "name": "stdout",
     "output_type": "stream",
     "text": [
      "        date group  orders  buyers  revenue  visitors\n",
      "0 2019-08-01     A      24      20   148579       719\n",
      "1 2019-08-01     B      21      20   101217       713\n",
      "2 2019-08-02     A      44      38   242401      1338\n",
      "3 2019-08-02     B      45      43   266748      1294\n",
      "4 2019-08-03     A      68      62   354874      1845\n"
     ]
    }
   ],
   "source": [
    "date_group = orders[['date','group']].drop_duplicates().sort_values(by=['date', 'group']) #отбираем уникальные группы и даты\n",
    "orders_cumulative = date_group.apply(lambda x: orders[np.logical_and(x['date'] >= orders['date'], x['group']==orders['group'])]\\\n",
    ".agg({'date':'max', 'group':'max', 'transactionId':'nunique', 'visitorId':'nunique', 'revenue':'sum'}), axis = 1)\n",
    "orders_cumulative.columns = ['date', 'group', 'orders', 'buyers', 'revenue']\n",
    "visitors_cumulative = date_group.apply(lambda x: visitors[np.logical_and(x['date'] >= visitors['date'], x['group']==visitors['group'])]\\\n",
    ".agg({'date':'max', 'group':'max', 'visitors':'sum'}), axis = 1)\n",
    "cumulative_data = orders_cumulative.merge(visitors_cumulative, left_on=['date', 'group'], right_on=['date', 'group'])\n",
    "print(cumulative_data.head(5))"
   ]
  },
  {
   "cell_type": "code",
   "execution_count": 50,
   "metadata": {
    "scrolled": true
   },
   "outputs": [
    {
     "data": {
      "image/png": "[encoded data removed]",
      "text/plain": [
       "<Figure size 1080x360 with 1 Axes>"
      ]
     },
     "metadata": {
      "needs_background": "light"
     },
     "output_type": "display_data"
    }
   ],
   "source": [
    "cumulative_revenue_A = cumulative_data[cumulative_data['group']=='A'][['date','revenue', 'orders']]\n",
    "cumulative_revenue_B = cumulative_data[cumulative_data['group']=='B'][['date','revenue', 'orders']]\n",
    "plt.figure(figsize=(15,5))\n",
    "plt.plot(cumulative_revenue_A['date'], cumulative_revenue_A['revenue'], label='Кумулятивная выручка группы A')\n",
    "plt.plot(cumulative_revenue_B['date'], cumulative_revenue_B['revenue'], label='Кумулятивная выручка группы B')\n",
    "plt.grid()\n",
    "plt.title(\"Кумулятивная выручка по группам\")\n",
    "plt.xlabel(\"Выручка\")\n",
    "plt.ylabel(\"Дата\")\n",
    "plt.legend();"
   ]
  },
  {
   "cell_type": "markdown",
   "metadata": {},
   "source": [
    "Как мы видим, группа B стабильно показывает большую выручку чем группа A. \n",
    "Выручка группы B изначально растет быстрее, чем выручка A, при этом примерно 18 августа наблюдается резкий рост выручки B, возможно, связанный с какими-либо сезонными причинами. До этого момента наблюдался относительно синхронный рост выручек обеих групп. "
   ]
  },
  {
   "cell_type": "markdown",
   "metadata": {},
   "source": [
    "2. Постройте график кумулятивного среднего чека по группам. Сделайте выводы и предположения."
   ]
  },
  {
   "cell_type": "code",
   "execution_count": 51,
   "metadata": {},
   "outputs": [
    {
     "data": {
      "image/png": "[encoded data removed]",
      "text/plain": [
       "<Figure size 720x288 with 1 Axes>"
      ]
     },
     "metadata": {
      "needs_background": "light"
     },
     "output_type": "display_data"
    }
   ],
   "source": [
    "plt.figure(figsize=(10,4))\n",
    "plt.plot(cumulative_revenue_A['date'], cumulative_revenue_A['revenue']/cumulative_revenue_A['orders'], label = 'A')\n",
    "plt.plot(cumulative_revenue_B['date'], cumulative_revenue_B['revenue']/cumulative_revenue_B['orders'], label = 'B')\n",
    "plt.title('Графики кумулятивного среднего чека по группам A/B')\n",
    "plt.ylabel('Средний чек')\n",
    "plt.xlabel('Дата')\n",
    "plt.legend()\n",
    "plt.show()"
   ]
  },
  {
   "cell_type": "markdown",
   "metadata": {},
   "source": [
    "Данные графика кумулятивного среднего чека коррелируют с данными о выручке по группам. Так, заметно почти полностью стабильное преобладание значений среднего чека по группе B над значениями среднего чека по группе A. В то же время, примерно 13 августа наблюдается резкий рост среднего чека A, но уже ~19 августа резко возрастает средний чек группы B. После этого средний чек B медленно снижается, а средний чек A медленно растет. Как уже было сказано, аномальный рост среднего чека B может быть объяснен сезонным ростом спроса. "
   ]
  },
  {
   "cell_type": "markdown",
   "metadata": {},
   "source": [
    "3. Постройте график относительного изменения кумулятивного среднего чека группы B к группе A. Сделайте выводы и предположения."
   ]
  },
  {
   "cell_type": "code",
   "execution_count": 69,
   "metadata": {},
   "outputs": [
    {
     "data": {
      "image/png": "[encoded data removed]",
      "text/plain": [
       "<Figure size 1080x360 with 1 Axes>"
      ]
     },
     "metadata": {
      "needs_background": "light"
     },
     "output_type": "display_data"
    }
   ],
   "source": [
    "cumulative_revenue = cumulative_revenue_A.merge(cumulative_revenue_B, left_on='date', right_on='date', how='left', suffixes=['A', 'B'])\n",
    "plt.figure(figsize=(15,5))\n",
    "plt.grid()\n",
    "plt.plot(cumulative_revenue['date'], (cumulative_revenue['revenueB']/cumulative_revenue['ordersB'])/ \\\n",
    "         (cumulative_revenue['revenueA']/cumulative_revenue['ordersA'])-1)\n",
    "plt.title('Кумулятивный средний чек по группам')\n",
    "plt.xlabel(\"Дата\")\n",
    "plt.ylabel(\"Значения среднего чека\")\n",
    "plt.axhline(y=0, color='red', linestyle='--') \n",
    "plt.show()"
   ]
  },
  {
   "cell_type": "markdown",
   "metadata": {},
   "source": [
    "Вновь видим, как чек группы Б превышает чек А с 1 по 13 августа (при этом снижение начинается примерно 8 августа), потом наблюдается резкий рост Б и вновь постепенное снижение, но уже более медленное. "
   ]
  },
  {
   "cell_type": "markdown",
   "metadata": {},
   "source": [
    "4. Постройте график кумулятивного среднего количества заказов на посетителя по группам. Сделайте выводы и предположения"
   ]
  },
  {
   "cell_type": "code",
   "execution_count": 71,
   "metadata": {},
   "outputs": [
    {
     "data": {
      "image/png": "[encoded data removed]",
      "text/plain": [
       "<Figure size 1080x360 with 1 Axes>"
      ]
     },
     "metadata": {
      "needs_background": "light"
     },
     "output_type": "display_data"
    }
   ],
   "source": [
    "cumulative_data['order_amount'] = cumulative_data['orders']/cumulative_data['visitors']\n",
    "cumulative_amount_A = cumulative_data[cumulative_data['group']=='A']\n",
    "cumulative_amount_B = cumulative_data[cumulative_data['group']=='B']\n",
    "plt.figure(figsize=(15,5))\n",
    "plt.grid()\n",
    "plt.plot(cumulative_amount_A['date'], cumulative_amount_A['order_amount'], label='кумулятивноe среднеe количество заказов на посетителя A')\n",
    "plt.plot(cumulative_amount_B['date'], cumulative_amount_B['order_amount'], label='кумулятивноe среднеe количество заказов на посетителя B')\n",
    "plt.title('Кумулятивноe среднеe количество заказов на посетителя ')\n",
    "plt.xlabel(\"Дата\")\n",
    "plt.ylabel(\"Среднее количество заказов\")\n",
    "plt.legend();"
   ]
  },
  {
   "cell_type": "markdown",
   "metadata": {},
   "source": [
    "Примерно со 2 по 5 августа среднее количество заказов группы А было больше, но после пика (примерно 3 августа) оно начало сильно снижаться, а с 6 августа данный показатель стабильно лидирует для группы Б. Начинается примерно с 9 августа показатель почти неизменен (несмотря на незначительные пики и снижения) для обеих групп. В целом кумулятивное среднее количество заказов стабильно больше у группы Б, нежели у А. "
   ]
  },
  {
   "cell_type": "markdown",
   "metadata": {},
   "source": [
    "5. Постройте график относительного изменения кумулятивного среднего количества заказов на посетителя группы B к группе A. Сделайте выводы и предположения."
   ]
  },
  {
   "cell_type": "code",
   "execution_count": 72,
   "metadata": {},
   "outputs": [
    {
     "data": {
      "image/png": "[encoded data removed]",
      "text/plain": [
       "<Figure size 1080x360 with 1 Axes>"
      ]
     },
     "metadata": {
      "needs_background": "light"
     },
     "output_type": "display_data"
    }
   ],
   "source": [
    "cumulative_amount = cumulative_amount_A[['date','order_amount']].merge(cumulative_amount_B[['date','order_amount']],\n",
    "                            left_on='date', right_on='date', how='left', suffixes=['A', 'B'])\n",
    "plt.figure(figsize=(15,5))\n",
    "plt.grid()\n",
    "plt.plot(cumulative_amount['date'], cumulative_amount['order_amountB']/cumulative_amount['order_amountA']-1, \n",
    "         label=\"Относительное изменение кумулятивного среднего количества заказов на посетителя группы B к группе A\")\n",
    "plt.axhline(y=0, color='red', linestyle='--')\n",
    "plt.title('Относительное изменение кумулятивного среднего количества заказов на посетителя группы B к группе A')\n",
    "plt.xlabel(\"Дата\")\n",
    "plt.ylabel(\"Среднее количество заказов\")\n",
    "plt.show()"
   ]
  },
  {
   "cell_type": "markdown",
   "metadata": {},
   "source": [
    "За исключением 2 августа, с 1 по 5 августа среднее количество заказов в группе А было больше на 5-10%, чем в группе Б. С 6 августа и до конца периода исследуемый показатель был больше у группы Б на 10-20%, при этом примерно с 15 августа, когда был пик значений показателя (на 21% больше, чем в группе А), начинается снижение среднего количества заказов в группе Б. "
   ]
  },
  {
   "cell_type": "markdown",
   "metadata": {},
   "source": [
    "6. Постройте точечный график количества заказов по пользователям. Сделайте выводы и предположения."
   ]
  },
  {
   "cell_type": "code",
   "execution_count": 55,
   "metadata": {},
   "outputs": [],
   "source": [
    "ordersByUsers = orders.groupby('visitorId', as_index = False).agg({'transactionId':'nunique'}).sort_values(by='transactionId', ascending = False)\n"
   ]
  },
  {
   "cell_type": "code",
   "execution_count": 73,
   "metadata": {},
   "outputs": [
    {
     "data": {
      "image/png": "[encoded data removed]",
      "text/plain": [
       "<Figure size 720x432 with 1 Axes>"
      ]
     },
     "metadata": {
      "needs_background": "light"
     },
     "output_type": "display_data"
    }
   ],
   "source": [
    "plt.figure(figsize=(10,6))\n",
    "plt.grid()\n",
    "plt.scatter(pd.Series(range(0, len(ordersByUsers))), ordersByUsers['transactionId'])\n",
    "plt.title('Точечная диаграмма числа заказов на одного пользователя')\n",
    "plt.xlabel(\"Количество пользователей\")\n",
    "plt.ylabel(\"Число заказов\")\n",
    "plt.locator_params (axis='y', nbins= 20 ) \n",
    "plt.show()\n"
   ]
  },
  {
   "cell_type": "markdown",
   "metadata": {},
   "source": [
    "Большая часть пользователей совершили 1 заказ, поэтому график имеет большой \"хвост\" в виде единичных значений "
   ]
  },
  {
   "cell_type": "markdown",
   "metadata": {},
   "source": [
    "7. Посчитайте 95-й и 99-й перцентили количества заказов на пользователя. Выберите границу для определения аномальных пользователей."
   ]
  },
  {
   "cell_type": "code",
   "execution_count": 57,
   "metadata": {},
   "outputs": [
    {
     "name": "stdout",
     "output_type": "stream",
     "text": [
      "95-й перцентиль: 2.0\n",
      "99-й перцентиль: 4.0\n"
     ]
    }
   ],
   "source": [
    "percentiles = np.percentile(ordersByUsers['transactionId'], [95, 99])\n",
    "print('95-й перцентиль:', percentiles[0])\n",
    "print('99-й перцентиль:', percentiles[1])"
   ]
  },
  {
   "cell_type": "markdown",
   "metadata": {},
   "source": [
    "Можно заметить, что большинство пользователей совершали заказы не более 2 раз (95%), только 1% пользователей соверишили более 4 заказов, поэтому в качестве границы аномальных пользователей выберем показатель, равный 2 заказам"
   ]
  },
  {
   "cell_type": "markdown",
   "metadata": {},
   "source": [
    "8. Постройте точечный график стоимостей заказов. Сделайте выводы и предположения."
   ]
  },
  {
   "cell_type": "code",
   "execution_count": 74,
   "metadata": {},
   "outputs": [
    {
     "data": {
      "image/png": "[encoded data removed]",
      "text/plain": [
       "<Figure size 720x288 with 1 Axes>"
      ]
     },
     "metadata": {
      "needs_background": "light"
     },
     "output_type": "display_data"
    }
   ],
   "source": [
    "plt.figure(figsize=(10,4))\n",
    "plt.scatter(pd.Series(range(0, len(orders))), orders['revenue'])\n",
    "plt.title('Точечная диаграмма стоимостей заказов')\n",
    "plt.xlabel(\"Количество заказов\")\n",
    "plt.ylabel(\"Стоимость заказа\")\n",
    "plt.show()"
   ]
  },
  {
   "cell_type": "code",
   "execution_count": 75,
   "metadata": {},
   "outputs": [
    {
     "data": {
      "image/png": "[encoded data removed]",
      "text/plain": [
       "<Figure size 720x288 with 1 Axes>"
      ]
     },
     "metadata": {
      "needs_background": "light"
     },
     "output_type": "display_data"
    }
   ],
   "source": [
    "#исключаем аномальные значения\n",
    "plt.figure(figsize=(10,4))\n",
    "plt.scatter(pd.Series(range(0, len(orders[orders['revenue']<=195000]['revenue']))), orders[orders['revenue']<=195000]['revenue'])\n",
    "plt.title('Точечная диаграмма стоимостей заказов')\n",
    "plt.xlabel(\"Количество заказов\")\n",
    "plt.ylabel(\"Стоимость заказа\")\n",
    "plt.show()\n"
   ]
  },
  {
   "cell_type": "markdown",
   "metadata": {},
   "source": [
    "На первой диаграмме видны два очевидных выброса: 1.3 млн. и 200 тыс. После исключения выбросов границы аномалий можно определить с помощью перцентилей. "
   ]
  },
  {
   "cell_type": "markdown",
   "metadata": {},
   "source": [
    "9. Посчитайте 95-й и 99-й перцентили стоимости заказов. Выберите границу для определения аномальных заказов."
   ]
  },
  {
   "cell_type": "code",
   "execution_count": 60,
   "metadata": {},
   "outputs": [
    {
     "name": "stdout",
     "output_type": "stream",
     "text": [
      "95-й перцентиль стоимости: 28000\n",
      "99-й перцентиль стоимости: 58233\n"
     ]
    }
   ],
   "source": [
    "percentiles = np.percentile(orders['revenue'], [95, 99])\n",
    "print('95-й перцентиль стоимости:', round(percentiles[0]))\n",
    "print('99-й перцентиль стоимости:', round(percentiles[1]))"
   ]
  },
  {
   "cell_type": "markdown",
   "metadata": {},
   "source": [
    "Заметим, что между 95-м и 99-м перцентилями наблюдается большой размах, такие заказы стоит учесть, а потому в качестве границы установим значение 99-ого перцентиля"
   ]
  },
  {
   "cell_type": "markdown",
   "metadata": {},
   "source": [
    "10. Посчитайте статистическую значимость различий в среднем количестве заказов на посетителя между группами по «сырым» данным. Сделайте выводы и предположения"
   ]
  },
  {
   "cell_type": "markdown",
   "metadata": {},
   "source": [
    "Объявим переменные sampleA и sampleB, в которых пользователям из разных групп будет соответствовать количество заказов. Тем, кто ничего не заказал, будут соответствовать нули. Это нужно, чтобы подготовить выборки к проверке критерием Манна-Уитни. "
   ]
  },
  {
   "cell_type": "code",
   "execution_count": 61,
   "metadata": {},
   "outputs": [
    {
     "name": "stdout",
     "output_type": "stream",
     "text": [
      "        date  ordersPerDateA  revenuePerDateA  ordersPerDateB  \\\n",
      "0 2019-08-01              24           148579              21   \n",
      "1 2019-08-02              20            93822              24   \n",
      "2 2019-08-03              24           112473              16   \n",
      "3 2019-08-04              16            70825              17   \n",
      "4 2019-08-05              25           124218              23   \n",
      "\n",
      "   revenuePerDateB  ordersCummulativeA  revenueCummulativeA  \\\n",
      "0           101217                  24               148579   \n",
      "1           165531                  44               242401   \n",
      "2           114248                  68               354874   \n",
      "3           108571                  84               425699   \n",
      "4            92428                 109               549917   \n",
      "\n",
      "   ordersCummulativeB  revenueCummulativeB  visitorsPerDateA  \\\n",
      "0                  21               101217               719   \n",
      "1                  45               266748               619   \n",
      "2                  61               380996               507   \n",
      "3                  78               489567               717   \n",
      "4                 101               581995               756   \n",
      "\n",
      "   visitorsPerDateB  visitorsCummulativeA  visitorsCummulativeB  \n",
      "0               713                   719                   713  \n",
      "1               581                  1338                  1294  \n",
      "2               509                  1845                  1803  \n",
      "3               770                  2562                  2573  \n",
      "4               707                  3318                  3280  \n"
     ]
    }
   ],
   "source": [
    "visitorsADaily = visitors[visitors['group'] == 'A'][['date', 'visitors']]\n",
    "visitorsADaily.columns = ['date', 'visitorsPerDateA']\n",
    "\n",
    "visitorsACummulative = visitorsADaily.apply(\n",
    "    lambda x: visitorsADaily[visitorsADaily['date'] <= x['date']].agg(\n",
    "        {'date': 'max', 'visitorsPerDateA': 'sum'}\n",
    "    ),\n",
    "    axis=1,\n",
    ")\n",
    "visitorsACummulative.columns = ['date', 'visitorsCummulativeA']\n",
    "\n",
    "visitorsBDaily = visitors[visitors['group'] == 'B'][['date', 'visitors']]\n",
    "visitorsBDaily.columns = ['date', 'visitorsPerDateB']\n",
    "\n",
    "visitorsBCummulative = visitorsBDaily.apply(\n",
    "    lambda x: visitorsBDaily[visitorsBDaily['date'] <= x['date']].agg(\n",
    "        {'date': 'max', 'visitorsPerDateB': 'sum'}\n",
    "    ),\n",
    "    axis=1,\n",
    ")\n",
    "visitorsBCummulative.columns = ['date', 'visitorsCummulativeB']\n",
    "\n",
    "ordersADaily = (\n",
    "    orders[orders['group'] == 'A'][['date', 'transactionId', 'visitorId', 'revenue']]\n",
    "    .groupby('date', as_index=False)\n",
    "    .agg({'transactionId': pd.Series.nunique, 'revenue': 'sum'})\n",
    ")\n",
    "ordersADaily.columns = ['date', 'ordersPerDateA', 'revenuePerDateA']\n",
    "\n",
    "ordersACummulative = ordersADaily.apply(\n",
    "    lambda x: ordersADaily[ordersADaily['date'] <= x['date']].agg(\n",
    "        {'date': 'max', 'ordersPerDateA': 'sum', 'revenuePerDateA': 'sum'}\n",
    "    ),\n",
    "    axis=1,\n",
    ").sort_values(by=['date'])\n",
    "ordersACummulative.columns = [\n",
    "    'date',\n",
    "    'ordersCummulativeA',\n",
    "    'revenueCummulativeA',\n",
    "]\n",
    "\n",
    "ordersBDaily = (\n",
    "    orders[orders['group'] == 'B'][['date', 'transactionId', 'visitorId', 'revenue']]\n",
    "    .groupby('date', as_index=False)\n",
    "    .agg({'transactionId': pd.Series.nunique, 'revenue': 'sum'})\n",
    ")\n",
    "ordersBDaily.columns = ['date', 'ordersPerDateB', 'revenuePerDateB']\n",
    "\n",
    "ordersBCummulative = ordersBDaily.apply(\n",
    "    lambda x: ordersBDaily[ordersBDaily['date'] <= x['date']].agg(\n",
    "        {'date': 'max', 'ordersPerDateB': 'sum', 'revenuePerDateB': 'sum'}\n",
    "    ),\n",
    "    axis=1,\n",
    ").sort_values(by=['date'])\n",
    "ordersBCummulative.columns = [\n",
    "    'date',\n",
    "    'ordersCummulativeB',\n",
    "    'revenueCummulativeB',\n",
    "]\n",
    "\n",
    "data = (\n",
    "    ordersADaily.merge(\n",
    "        ordersBDaily, left_on='date', right_on='date', how='left'\n",
    "    )\n",
    "    .merge(ordersACummulative, left_on='date', right_on='date', how='left')\n",
    "    .merge(ordersBCummulative, left_on='date', right_on='date', how='left')\n",
    "    .merge(visitorsADaily, left_on='date', right_on='date', how='left')\n",
    "    .merge(visitorsBDaily, left_on='date', right_on='date', how='left')\n",
    "    .merge(visitorsACummulative, left_on='date', right_on='date', how='left')\n",
    "    .merge(visitorsBCummulative, left_on='date', right_on='date', how='left')\n",
    ")\n",
    "\n",
    "print(data.head(5))"
   ]
  },
  {
   "cell_type": "markdown",
   "metadata": {},
   "source": [
    "Используется тест Манна-Уитни, так как он позволяет оценить нормальность распределения данных при наличии выбросов. \n",
    "\n",
    "Нулевая гипотеза: различий в среднем среднем количестве заказов на посетителя между группами нет. \n",
    "\n",
    "Альтернативная гипотеза: различия в среднем среднем количестве заказов на посетителя между руппами есть. "
   ]
  },
  {
   "cell_type": "code",
   "execution_count": 62,
   "metadata": {},
   "outputs": [
    {
     "name": "stdout",
     "output_type": "stream",
     "text": [
      "p-value: 0.01679\n",
      "Относительная разница между сравниваемыми величинами: 0.138\n"
     ]
    }
   ],
   "source": [
    "ordersByUsersA = (\n",
    "    orders[orders['group'] == 'A']\n",
    "    .groupby('visitorId', as_index=False)\n",
    "    .agg({'transactionId': pd.Series.nunique})\n",
    ")\n",
    "ordersByUsersA.columns = ['userId', 'orders']\n",
    "\n",
    "ordersByUsersB = (\n",
    "    orders[orders['group'] == 'B']\n",
    "    .groupby('visitorId', as_index=False)\n",
    "    .agg({'transactionId': pd.Series.nunique})\n",
    ")\n",
    "ordersByUsersB.columns = ['userId', 'orders'] \n",
    "\n",
    "sampleA = pd.concat([ordersByUsersA['orders'],pd.Series(0, index=np.arange(data['visitorsPerDateA'].sum() - len(ordersByUsersA['orders'])), name='orders')],axis=0)\n",
    "\n",
    "sampleB = pd.concat([ordersByUsersB['orders'],pd.Series(0, index=np.arange(data['visitorsPerDateB'].sum() - len(ordersByUsersB['orders'])), name='orders')],axis=0)\n",
    "print(\"p-value:\",\"{0:.5f}\".format(stats.mannwhitneyu(sampleA, sampleB)[1]))\n",
    "\n",
    "print(\"Относительная разница между сравниваемыми величинами:\",\"{0:.3f}\".format(sampleB.mean() / sampleA.mean() - 1))\n"
   ]
  },
  {
   "cell_type": "markdown",
   "metadata": {},
   "source": [
    "В качестве нулевой гипотезы было выдвинуто утверждение, что статистически значимых различий в среднем количестве заказов на посетителя между группами нет. Так как p-value меньше 5%, гипотезу отвергаем, вычисленное различие (в \"пользу\" группа Б) равно 13.8% и является значительным для рассматриваемых групп"
   ]
  },
  {
   "cell_type": "markdown",
   "metadata": {},
   "source": [
    "11. Посчитайте статистическую значимость различий в среднем чеке заказа между группами по «сырым» данным. Сделайте выводы и предположения."
   ]
  },
  {
   "cell_type": "markdown",
   "metadata": {},
   "source": [
    "Проверим статистическую значимость различий в среднем чеке между сегментами. Нулевая гипотеза: различий в среднем чеке между группами нет. Альтернативная гипотеза: различия в среднем чеке между группами есть. Для проверки используем критерий Манна-Уитни, так как работаем с неочищенными данными, содержащими аномальные значения. "
   ]
  },
  {
   "cell_type": "code",
   "execution_count": 63,
   "metadata": {},
   "outputs": [
    {
     "name": "stdout",
     "output_type": "stream",
     "text": [
      "p-value: 0.729\n",
      "Относительная разница между сравниваемыми величинами: 0.259\n"
     ]
    }
   ],
   "source": [
    "print(\"p-value:\",'{0:.3f}'.format(stats.mannwhitneyu(orders[orders['group']=='A']['revenue'], orders[orders['group']=='B']['revenue'])[1]))\n",
    "print(\"Относительная разница между сравниваемыми величинами:\",'{0:.3f}'.format(orders[orders['group']=='B']['revenue'].mean()/orders[orders['group']=='A']['revenue'].mean()-1))\n"
   ]
  },
  {
   "cell_type": "markdown",
   "metadata": {},
   "source": [
    "В качестве нулевой гипотезы было выдвинуто утверждение, что статистически значимых различий в среднем чеке заказа между группами нет. P-value значительно больше 5%, следовательно, нулевая гипотеза не отвергается. Этот результат подтверждается вычисленной разницей в среднем чеке, которая примерно на 26% больше для группы Б. "
   ]
  },
  {
   "cell_type": "markdown",
   "metadata": {},
   "source": [
    "12. Посчитайте статистическую значимость различий в среднем количестве заказов на посетителя между группами по «очищенным» данным. Сделайте выводы и предположения."
   ]
  },
  {
   "cell_type": "markdown",
   "metadata": {},
   "source": [
    "Ранее мы определили показатели аномальных пользователей с помощью перцентилей по количеству заказов и выручке. Так, \"аномальными\" считаются пользователи, совершившие более 2 заказов или совершившие заказ более, чем на 58233.2 руб. "
   ]
  },
  {
   "cell_type": "code",
   "execution_count": 64,
   "metadata": {},
   "outputs": [
    {
     "name": "stdout",
     "output_type": "stream",
     "text": [
      "1099    148427295\n",
      "18      199603092\n",
      "23      237748145\n",
      "37      249864742\n",
      "68      457167155\n",
      "dtype: int64\n"
     ]
    }
   ],
   "source": [
    "usersWithManyOrders = pd.concat([ordersByUsersA[ordersByUsersA['orders'] > 2]['userId'], ordersByUsersB[ordersByUsersB['orders'] > 2]['userId']], axis = 0)\n",
    "usersWithExpensiveOrders = orders[orders['revenue'] > 58233.2]['visitorId']\n",
    "abnormalUsers = pd.concat([usersWithManyOrders, usersWithExpensiveOrders], axis=0).drop_duplicates().sort_values()\n",
    "print(abnormalUsers.head(5))"
   ]
  },
  {
   "cell_type": "markdown",
   "metadata": {},
   "source": [
    "Узнаем, как фильтрация пользователей повлияла на общее количество данных - подсчитаем сначала абсолютные потери:"
   ]
  },
  {
   "cell_type": "code",
   "execution_count": 65,
   "metadata": {},
   "outputs": [
    {
     "name": "stdout",
     "output_type": "stream",
     "text": [
      "31\n"
     ]
    }
   ],
   "source": [
    "print(abnormalUsers.shape[0]) "
   ]
  },
  {
   "cell_type": "code",
   "execution_count": 66,
   "metadata": {},
   "outputs": [
    {
     "name": "stdout",
     "output_type": "stream",
     "text": [
      "0.025898078529657476\n"
     ]
    }
   ],
   "source": [
    "print(abnormalUsers.shape[0]/len(orders)) "
   ]
  },
  {
   "cell_type": "markdown",
   "metadata": {},
   "source": [
    "Всего 31 аномальных пользователя, это достаточно незначительная часть от общего количества наблюдений (менее 3%), поэтому, предположительно, относительные результаты (тестов) также не покажут сильных изменений"
   ]
  },
  {
   "cell_type": "code",
   "execution_count": 67,
   "metadata": {},
   "outputs": [
    {
     "name": "stdout",
     "output_type": "stream",
     "text": [
      "p-value: 0.01007\n",
      "Относительный показатель: 0.174\n"
     ]
    }
   ],
   "source": [
    "sampleAFiltered = pd.concat(\n",
    "    [\n",
    "        ordersByUsersA[\n",
    "            np.logical_not(ordersByUsersA['userId'].isin(abnormalUsers))\n",
    "        ]['orders'],\n",
    "        pd.Series(\n",
    "            0,\n",
    "            index=np.arange(\n",
    "                data['visitorsPerDateA'].sum() - len(ordersByUsersA['orders'])\n",
    "            ),\n",
    "            name='orders',\n",
    "        ),\n",
    "    ],\n",
    "    axis=0,\n",
    ")\n",
    "\n",
    "sampleBFiltered = pd.concat(\n",
    "    [\n",
    "        ordersByUsersB[\n",
    "            np.logical_not(ordersByUsersB['userId'].isin(abnormalUsers))\n",
    "        ]['orders'],\n",
    "        pd.Series(\n",
    "            0,\n",
    "            index=np.arange(\n",
    "                data['visitorsPerDateB'].sum() - len(ordersByUsersB['orders'])\n",
    "            ),\n",
    "            name='orders',\n",
    "        ),\n",
    "    ],\n",
    "    axis=0,\n",
    ")\n",
    "print(\"p-value:\",'{0:.5f}'.format(stats.mannwhitneyu(sampleAFiltered, sampleBFiltered)[1]))\n",
    "print(\"Относительный показатель:\",'{0:.3f}'.format(sampleBFiltered.mean()/sampleAFiltered.mean()-1))"
   ]
  },
  {
   "cell_type": "markdown",
   "metadata": {},
   "source": [
    "P-value после очистки данных все еще меньше 5%, а значит, различия в среднем количестве заказов на посетителя между группами есть (нулевая гипотеза: различий нет). После удаления аномальных значений также увеличилось относительное различие в среднем значении (17,4%)"
   ]
  },
  {
   "cell_type": "markdown",
   "metadata": {},
   "source": [
    "13. Посчитайте статистическую значимость различий в среднем чеке заказа между группами по «очищенным» данным. Сделайте выводы и предположения."
   ]
  },
  {
   "cell_type": "code",
   "execution_count": 77,
   "metadata": {},
   "outputs": [
    {
     "name": "stdout",
     "output_type": "stream",
     "text": [
      "p-value: 0.798\n",
      "Относительный показатель: -0.020\n"
     ]
    }
   ],
   "source": [
    "\n",
    "print('p-value:',\n",
    "    '{0:.3f}'.format(\n",
    "        stats.mannwhitneyu(\n",
    "            orders[\n",
    "                np.logical_and(\n",
    "                    orders['group'] == 'A',\n",
    "                    np.logical_not(orders['visitorId'].isin(abnormalUsers)),\n",
    "                )\n",
    "            ]['revenue'],\n",
    "            orders[\n",
    "                np.logical_and(\n",
    "                    orders['group'] == 'B',\n",
    "                    np.logical_not(orders['visitorId'].isin(abnormalUsers)),\n",
    "                )\n",
    "            ]['revenue'],\n",
    "        )[1]\n",
    "    )\n",
    ")\n",
    "\n",
    "print(\"Относительный показатель:\",\n",
    "    \"{0:.3f}\".format(\n",
    "        orders[\n",
    "            np.logical_and(\n",
    "                orders['group'] == 'B',\n",
    "                np.logical_not(orders['visitorId'].isin(abnormalUsers)),\n",
    "            )\n",
    "        ]['revenue'].mean()\n",
    "        / orders[\n",
    "            np.logical_and(\n",
    "                orders['group'] == 'A',\n",
    "                np.logical_not(orders['visitorId'].isin(abnormalUsers)),\n",
    "            )\n",
    "        ]['revenue'].mean()\n",
    "        - 1\n",
    "    )\n",
    ")"
   ]
  },
  {
   "cell_type": "markdown",
   "metadata": {},
   "source": [
    "Как и в случае с неочищенными данными, нулевую гипотезу отвергать не стоит. При этом средний чек группы Б оказался меньше среднего чека группы А (на 2%), что можно объяснить удалением аномальных значений"
   ]
  },
  {
   "cell_type": "markdown",
   "metadata": {},
   "source": [
    "14. Выводы:\n",
    "Во всех экспериментах был получен результат, говорящий о том. что различия в среднем количестве заказов на посетителя между группами есть. Показатель относительно больше для группы Б: по неочищенным данным - на 13,8%, по очищенным от аномальных значений данным - на 17,4%.\n",
    "Также эксперименты на \"сырых\" и очищенных данных показали, что значимые различия различия в средних чеках групп A и Б отстутствуют. В то же время в эксперименте с неочищенными данными средний чек группы Б был значительно больше среднего чека группы А (на 26%) за счет больших аномальных значений, после очистки данных средний чек группы А стал превосходить средний чек Б на 2%\n",
    "Таким образом, можно констатировать победу группы Б, так как, хотя группа А незначительно (2%) превосходит группу Б в среднем чеке, по показателю среднего количества заказов относительный \"выигрыш\" группы Б достаточно весом (17,4%)"
   ]
  }
 ],
 "metadata": {
  "ExecuteTimeLog": [
   {
    "duration": 1347,
    "start_time": "2023-01-29T22:27:49.730Z"
   },
   {
    "duration": 237,
    "start_time": "2023-01-29T22:28:03.959Z"
   },
   {
    "duration": 12,
    "start_time": "2023-01-29T22:29:29.640Z"
   },
   {
    "duration": 20,
    "start_time": "2023-01-29T22:29:45.901Z"
   },
   {
    "duration": 17,
    "start_time": "2023-01-29T22:29:58.347Z"
   },
   {
    "duration": 16,
    "start_time": "2023-01-29T22:30:06.483Z"
   },
   {
    "duration": 20,
    "start_time": "2023-01-29T22:30:11.650Z"
   },
   {
    "duration": 21,
    "start_time": "2023-01-29T22:31:20.074Z"
   },
   {
    "duration": 15,
    "start_time": "2023-01-29T22:31:28.715Z"
   },
   {
    "duration": 16,
    "start_time": "2023-01-29T22:31:32.759Z"
   },
   {
    "duration": 18,
    "start_time": "2023-01-29T22:32:49.605Z"
   },
   {
    "duration": 26,
    "start_time": "2023-01-29T22:33:08.467Z"
   },
   {
    "duration": 5,
    "start_time": "2023-01-29T22:33:12.458Z"
   },
   {
    "duration": 22,
    "start_time": "2023-01-29T22:35:57.929Z"
   },
   {
    "duration": 313,
    "start_time": "2023-01-29T22:36:46.472Z"
   },
   {
    "duration": 203,
    "start_time": "2023-01-29T22:38:08.510Z"
   },
   {
    "duration": 8,
    "start_time": "2023-01-29T22:38:17.717Z"
   },
   {
    "duration": 8,
    "start_time": "2023-01-29T22:38:33.357Z"
   },
   {
    "duration": 11,
    "start_time": "2023-01-29T22:38:42.228Z"
   },
   {
    "duration": 12,
    "start_time": "2023-01-29T22:38:51.552Z"
   },
   {
    "duration": 16,
    "start_time": "2023-01-29T22:40:55.298Z"
   },
   {
    "duration": 5,
    "start_time": "2023-01-29T22:44:47.621Z"
   },
   {
    "duration": 4,
    "start_time": "2023-01-29T22:45:23.286Z"
   },
   {
    "duration": 11,
    "start_time": "2023-01-29T22:45:32.870Z"
   },
   {
    "duration": 43,
    "start_time": "2023-01-29T22:53:33.536Z"
   },
   {
    "duration": 13,
    "start_time": "2023-01-29T22:54:28.716Z"
   },
   {
    "duration": 10,
    "start_time": "2023-01-29T22:56:48.232Z"
   },
   {
    "duration": 18,
    "start_time": "2023-01-29T23:46:24.014Z"
   },
   {
    "duration": 286,
    "start_time": "2023-01-29T23:46:56.957Z"
   },
   {
    "duration": 18,
    "start_time": "2023-01-29T23:47:37.062Z"
   },
   {
    "duration": 7,
    "start_time": "2023-01-30T07:44:46.482Z"
   },
   {
    "duration": 1331,
    "start_time": "2023-01-30T07:44:53.062Z"
   },
   {
    "duration": 175,
    "start_time": "2023-01-30T07:44:54.395Z"
   },
   {
    "duration": 18,
    "start_time": "2023-01-30T07:44:54.572Z"
   },
   {
    "duration": 19,
    "start_time": "2023-01-30T07:44:54.592Z"
   },
   {
    "duration": 8,
    "start_time": "2023-01-30T07:44:54.612Z"
   },
   {
    "duration": 36,
    "start_time": "2023-01-30T07:44:54.621Z"
   },
   {
    "duration": 32,
    "start_time": "2023-01-30T07:44:54.658Z"
   },
   {
    "duration": 83,
    "start_time": "2023-01-30T07:44:54.691Z"
   },
   {
    "duration": 0,
    "start_time": "2023-01-30T07:44:54.775Z"
   },
   {
    "duration": 0,
    "start_time": "2023-01-30T07:44:54.776Z"
   },
   {
    "duration": 0,
    "start_time": "2023-01-30T07:44:54.777Z"
   },
   {
    "duration": 0,
    "start_time": "2023-01-30T07:44:54.778Z"
   },
   {
    "duration": 0,
    "start_time": "2023-01-30T07:44:54.779Z"
   },
   {
    "duration": 0,
    "start_time": "2023-01-30T07:44:54.780Z"
   },
   {
    "duration": 3,
    "start_time": "2023-01-30T07:45:10.467Z"
   },
   {
    "duration": 77,
    "start_time": "2023-01-30T07:45:10.473Z"
   },
   {
    "duration": 14,
    "start_time": "2023-01-30T07:45:10.552Z"
   },
   {
    "duration": 17,
    "start_time": "2023-01-30T07:45:10.567Z"
   },
   {
    "duration": 8,
    "start_time": "2023-01-30T07:45:10.586Z"
   },
   {
    "duration": 10,
    "start_time": "2023-01-30T07:45:10.595Z"
   },
   {
    "duration": 12,
    "start_time": "2023-01-30T07:45:10.606Z"
   },
   {
    "duration": 11,
    "start_time": "2023-01-30T07:45:10.619Z"
   },
   {
    "duration": 18,
    "start_time": "2023-01-30T07:45:10.631Z"
   },
   {
    "duration": 5,
    "start_time": "2023-01-30T07:45:10.651Z"
   },
   {
    "duration": 21,
    "start_time": "2023-01-30T07:45:10.658Z"
   },
   {
    "duration": 13,
    "start_time": "2023-01-30T07:45:10.680Z"
   },
   {
    "duration": 9,
    "start_time": "2023-01-30T07:45:10.694Z"
   },
   {
    "duration": 269,
    "start_time": "2023-01-30T07:45:10.704Z"
   },
   {
    "duration": 252,
    "start_time": "2023-01-30T07:45:18.596Z"
   },
   {
    "duration": 201,
    "start_time": "2023-01-30T07:45:47.664Z"
   },
   {
    "duration": 9,
    "start_time": "2023-01-30T07:46:01.172Z"
   },
   {
    "duration": 9,
    "start_time": "2023-01-30T07:46:09.958Z"
   },
   {
    "duration": 307,
    "start_time": "2023-01-30T07:46:13.340Z"
   },
   {
    "duration": 318,
    "start_time": "2023-01-30T07:46:54.992Z"
   },
   {
    "duration": 282,
    "start_time": "2023-01-30T07:46:58.674Z"
   },
   {
    "duration": 279,
    "start_time": "2023-01-30T07:47:25.772Z"
   },
   {
    "duration": 281,
    "start_time": "2023-01-30T07:49:20.265Z"
   },
   {
    "duration": 179,
    "start_time": "2023-01-30T13:19:06.958Z"
   },
   {
    "duration": 350,
    "start_time": "2023-01-30T13:19:20.367Z"
   },
   {
    "duration": 1128,
    "start_time": "2023-01-30T13:33:30.736Z"
   },
   {
    "duration": 10,
    "start_time": "2023-01-30T13:34:51.404Z"
   },
   {
    "duration": 10,
    "start_time": "2023-01-30T13:35:14.918Z"
   },
   {
    "duration": 12,
    "start_time": "2023-01-30T13:35:20.724Z"
   },
   {
    "duration": 4,
    "start_time": "2023-01-30T13:36:33.576Z"
   },
   {
    "duration": 72,
    "start_time": "2023-01-30T13:36:33.582Z"
   },
   {
    "duration": 16,
    "start_time": "2023-01-30T13:36:33.655Z"
   },
   {
    "duration": 30,
    "start_time": "2023-01-30T13:36:33.673Z"
   },
   {
    "duration": 16,
    "start_time": "2023-01-30T13:36:33.706Z"
   },
   {
    "duration": 23,
    "start_time": "2023-01-30T13:36:33.724Z"
   },
   {
    "duration": 34,
    "start_time": "2023-01-30T13:36:33.749Z"
   },
   {
    "duration": 13,
    "start_time": "2023-01-30T13:36:33.785Z"
   },
   {
    "duration": 16,
    "start_time": "2023-01-30T13:36:33.799Z"
   },
   {
    "duration": 15,
    "start_time": "2023-01-30T13:36:33.816Z"
   },
   {
    "duration": 24,
    "start_time": "2023-01-30T13:36:33.832Z"
   },
   {
    "duration": 13,
    "start_time": "2023-01-30T13:36:33.858Z"
   },
   {
    "duration": 10,
    "start_time": "2023-01-30T13:36:33.873Z"
   },
   {
    "duration": 173,
    "start_time": "2023-01-30T13:36:33.885Z"
   },
   {
    "duration": 0,
    "start_time": "2023-01-30T13:36:34.060Z"
   },
   {
    "duration": 0,
    "start_time": "2023-01-30T13:36:34.061Z"
   },
   {
    "duration": 0,
    "start_time": "2023-01-30T13:36:34.062Z"
   },
   {
    "duration": 0,
    "start_time": "2023-01-30T13:36:34.063Z"
   },
   {
    "duration": 0,
    "start_time": "2023-01-30T13:36:34.064Z"
   },
   {
    "duration": 292,
    "start_time": "2023-01-30T13:36:53.165Z"
   },
   {
    "duration": 14,
    "start_time": "2023-01-30T13:36:57.764Z"
   },
   {
    "duration": 210,
    "start_time": "2023-01-30T13:36:58.816Z"
   },
   {
    "duration": 185,
    "start_time": "2023-01-30T13:37:02.015Z"
   },
   {
    "duration": 328,
    "start_time": "2023-01-30T13:37:03.977Z"
   },
   {
    "duration": 1191,
    "start_time": "2023-01-30T13:37:06.356Z"
   },
   {
    "duration": 224,
    "start_time": "2023-01-30T13:37:34.176Z"
   },
   {
    "duration": 256,
    "start_time": "2023-01-30T13:38:49.485Z"
   },
   {
    "duration": 256,
    "start_time": "2023-01-30T13:39:52.216Z"
   },
   {
    "duration": 14,
    "start_time": "2023-01-30T13:56:15.097Z"
   },
   {
    "duration": 194,
    "start_time": "2023-01-30T13:56:53.144Z"
   },
   {
    "duration": 270,
    "start_time": "2023-01-30T13:59:07.257Z"
   },
   {
    "duration": 10,
    "start_time": "2023-01-30T14:03:04.896Z"
   },
   {
    "duration": 63,
    "start_time": "2023-01-31T15:10:35.092Z"
   },
   {
    "duration": 1200,
    "start_time": "2023-01-31T15:10:41.036Z"
   },
   {
    "duration": 231,
    "start_time": "2023-01-31T15:10:42.238Z"
   },
   {
    "duration": 19,
    "start_time": "2023-01-31T15:10:42.471Z"
   },
   {
    "duration": 15,
    "start_time": "2023-01-31T15:10:42.492Z"
   },
   {
    "duration": 5,
    "start_time": "2023-01-31T15:10:42.509Z"
   },
   {
    "duration": 6,
    "start_time": "2023-01-31T15:10:42.515Z"
   },
   {
    "duration": 12,
    "start_time": "2023-01-31T15:10:42.523Z"
   },
   {
    "duration": 35,
    "start_time": "2023-01-31T15:10:42.536Z"
   },
   {
    "duration": 7,
    "start_time": "2023-01-31T15:10:42.572Z"
   },
   {
    "duration": 3,
    "start_time": "2023-01-31T15:10:42.581Z"
   },
   {
    "duration": 12,
    "start_time": "2023-01-31T15:10:42.586Z"
   },
   {
    "duration": 12,
    "start_time": "2023-01-31T15:10:42.599Z"
   },
   {
    "duration": 8,
    "start_time": "2023-01-31T15:10:42.613Z"
   },
   {
    "duration": 111,
    "start_time": "2023-01-31T15:10:42.622Z"
   },
   {
    "duration": 0,
    "start_time": "2023-01-31T15:10:42.735Z"
   },
   {
    "duration": 0,
    "start_time": "2023-01-31T15:10:42.736Z"
   },
   {
    "duration": 0,
    "start_time": "2023-01-31T15:10:42.737Z"
   },
   {
    "duration": 0,
    "start_time": "2023-01-31T15:10:42.738Z"
   },
   {
    "duration": 0,
    "start_time": "2023-01-31T15:10:42.739Z"
   },
   {
    "duration": 0,
    "start_time": "2023-01-31T15:10:42.742Z"
   },
   {
    "duration": 0,
    "start_time": "2023-01-31T15:10:42.744Z"
   },
   {
    "duration": 270,
    "start_time": "2023-01-31T15:11:30.842Z"
   },
   {
    "duration": 8,
    "start_time": "2023-01-31T15:11:32.833Z"
   },
   {
    "duration": 278,
    "start_time": "2023-01-31T15:11:45.147Z"
   },
   {
    "duration": 191,
    "start_time": "2023-01-31T15:11:47.471Z"
   },
   {
    "duration": 317,
    "start_time": "2023-01-31T15:11:48.816Z"
   },
   {
    "duration": 216,
    "start_time": "2023-01-31T15:11:49.783Z"
   },
   {
    "duration": 13,
    "start_time": "2023-01-31T15:12:13.416Z"
   },
   {
    "duration": 264,
    "start_time": "2023-01-31T15:13:25.985Z"
   },
   {
    "duration": 7,
    "start_time": "2023-01-31T15:23:54.706Z"
   },
   {
    "duration": 8,
    "start_time": "2023-01-31T15:24:04.792Z"
   },
   {
    "duration": 831,
    "start_time": "2023-01-31T15:24:58.217Z"
   },
   {
    "duration": 114,
    "start_time": "2023-01-31T15:25:16.287Z"
   },
   {
    "duration": 258,
    "start_time": "2023-01-31T15:25:41.452Z"
   },
   {
    "duration": 207,
    "start_time": "2023-01-31T15:26:07.515Z"
   },
   {
    "duration": 217,
    "start_time": "2023-01-31T15:26:21.972Z"
   },
   {
    "duration": 124,
    "start_time": "2023-01-31T15:28:36.945Z"
   },
   {
    "duration": 110,
    "start_time": "2023-01-31T15:28:48.757Z"
   },
   {
    "duration": 141,
    "start_time": "2023-01-31T15:28:53.560Z"
   },
   {
    "duration": 115,
    "start_time": "2023-01-31T15:28:58.673Z"
   },
   {
    "duration": 139,
    "start_time": "2023-01-31T15:29:33.528Z"
   },
   {
    "duration": 181,
    "start_time": "2023-01-31T15:31:31.663Z"
   },
   {
    "duration": 400,
    "start_time": "2023-01-31T15:31:39.423Z"
   },
   {
    "duration": 136,
    "start_time": "2023-01-31T15:31:49.440Z"
   },
   {
    "duration": 162,
    "start_time": "2023-01-31T15:31:53.523Z"
   },
   {
    "duration": 200,
    "start_time": "2023-01-31T15:32:18.188Z"
   },
   {
    "duration": 145,
    "start_time": "2023-01-31T15:32:21.990Z"
   },
   {
    "duration": 740,
    "start_time": "2023-01-31T15:36:40.269Z"
   },
   {
    "duration": 5,
    "start_time": "2023-01-31T15:36:58.184Z"
   },
   {
    "duration": 104,
    "start_time": "2023-01-31T15:43:08.194Z"
   },
   {
    "duration": 145,
    "start_time": "2023-01-31T15:43:35.591Z"
   },
   {
    "duration": 125,
    "start_time": "2023-01-31T15:43:47.157Z"
   },
   {
    "duration": 131,
    "start_time": "2023-01-31T15:45:14.168Z"
   },
   {
    "duration": 136,
    "start_time": "2023-01-31T15:45:26.180Z"
   },
   {
    "duration": 129,
    "start_time": "2023-01-31T15:46:05.574Z"
   },
   {
    "duration": 131,
    "start_time": "2023-01-31T15:46:08.107Z"
   },
   {
    "duration": 129,
    "start_time": "2023-01-31T15:46:31.196Z"
   },
   {
    "duration": 127,
    "start_time": "2023-01-31T15:46:31.912Z"
   },
   {
    "duration": 170,
    "start_time": "2023-01-31T15:46:34.904Z"
   },
   {
    "duration": 119,
    "start_time": "2023-01-31T15:46:57.653Z"
   },
   {
    "duration": 4,
    "start_time": "2023-01-31T15:54:05.680Z"
   },
   {
    "duration": 62,
    "start_time": "2023-01-31T15:54:32.822Z"
   },
   {
    "duration": 56,
    "start_time": "2023-01-31T15:54:35.957Z"
   },
   {
    "duration": 4,
    "start_time": "2023-01-31T15:54:39.812Z"
   },
   {
    "duration": 5,
    "start_time": "2023-01-31T15:54:48.452Z"
   },
   {
    "duration": 202,
    "start_time": "2023-01-31T16:59:33.323Z"
   },
   {
    "duration": 103,
    "start_time": "2023-01-31T17:00:33.601Z"
   },
   {
    "duration": 204,
    "start_time": "2023-01-31T17:01:23.901Z"
   },
   {
    "duration": 223,
    "start_time": "2023-01-31T17:02:30.154Z"
   },
   {
    "duration": 342,
    "start_time": "2023-01-31T17:02:52.123Z"
   },
   {
    "duration": 335,
    "start_time": "2023-01-31T17:04:59.639Z"
   },
   {
    "duration": 374,
    "start_time": "2023-01-31T17:05:07.234Z"
   },
   {
    "duration": 356,
    "start_time": "2023-01-31T17:05:12.435Z"
   },
   {
    "duration": 329,
    "start_time": "2023-01-31T17:05:19.543Z"
   },
   {
    "duration": 359,
    "start_time": "2023-01-31T17:05:26.406Z"
   },
   {
    "duration": 351,
    "start_time": "2023-01-31T17:09:32.125Z"
   },
   {
    "duration": 330,
    "start_time": "2023-01-31T17:14:16.196Z"
   },
   {
    "duration": 9,
    "start_time": "2023-01-31T17:33:52.394Z"
   },
   {
    "duration": 11,
    "start_time": "2023-01-31T17:38:02.891Z"
   },
   {
    "duration": 10,
    "start_time": "2023-01-31T17:39:53.121Z"
   },
   {
    "duration": 10,
    "start_time": "2023-01-31T17:52:34.697Z"
   },
   {
    "duration": 33,
    "start_time": "2023-01-31T17:53:19.973Z"
   },
   {
    "duration": 779,
    "start_time": "2023-01-31T17:54:29.984Z"
   },
   {
    "duration": 16,
    "start_time": "2023-01-31T17:54:52.182Z"
   },
   {
    "duration": 50,
    "start_time": "2023-02-01T20:53:25.898Z"
   },
   {
    "duration": 1299,
    "start_time": "2023-02-01T20:53:33.626Z"
   },
   {
    "duration": 166,
    "start_time": "2023-02-01T20:53:34.926Z"
   },
   {
    "duration": 19,
    "start_time": "2023-02-01T20:53:35.093Z"
   },
   {
    "duration": 14,
    "start_time": "2023-02-01T20:53:35.114Z"
   },
   {
    "duration": 4,
    "start_time": "2023-02-01T20:53:35.129Z"
   },
   {
    "duration": 5,
    "start_time": "2023-02-01T20:53:35.135Z"
   },
   {
    "duration": 15,
    "start_time": "2023-02-01T20:53:35.141Z"
   },
   {
    "duration": 11,
    "start_time": "2023-02-01T20:53:35.158Z"
   },
   {
    "duration": 5,
    "start_time": "2023-02-01T20:53:35.170Z"
   },
   {
    "duration": 4,
    "start_time": "2023-02-01T20:53:35.177Z"
   },
   {
    "duration": 30,
    "start_time": "2023-02-01T20:53:35.182Z"
   },
   {
    "duration": 13,
    "start_time": "2023-02-01T20:53:35.214Z"
   },
   {
    "duration": 8,
    "start_time": "2023-02-01T20:53:35.229Z"
   },
   {
    "duration": 288,
    "start_time": "2023-02-01T20:53:35.239Z"
   },
   {
    "duration": 281,
    "start_time": "2023-02-01T20:53:35.529Z"
   },
   {
    "duration": 182,
    "start_time": "2023-02-01T20:53:35.811Z"
   },
   {
    "duration": 353,
    "start_time": "2023-02-01T20:53:35.994Z"
   },
   {
    "duration": 247,
    "start_time": "2023-02-01T20:53:36.349Z"
   },
   {
    "duration": 296,
    "start_time": "2023-02-01T20:53:36.598Z"
   },
   {
    "duration": 14,
    "start_time": "2023-02-01T20:53:36.896Z"
   },
   {
    "duration": 171,
    "start_time": "2023-02-01T20:53:36.911Z"
   },
   {
    "duration": 4,
    "start_time": "2023-02-01T20:53:37.110Z"
   },
   {
    "duration": 142,
    "start_time": "2023-02-01T20:53:37.116Z"
   },
   {
    "duration": 134,
    "start_time": "2023-02-01T20:53:37.260Z"
   },
   {
    "duration": 4,
    "start_time": "2023-02-01T20:53:37.395Z"
   },
   {
    "duration": 412,
    "start_time": "2023-02-01T20:53:37.400Z"
   },
   {
    "duration": 9,
    "start_time": "2023-02-01T20:53:37.813Z"
   },
   {
    "duration": 7,
    "start_time": "2023-02-01T20:53:37.825Z"
   },
   {
    "duration": 24,
    "start_time": "2023-02-01T20:53:37.834Z"
   },
   {
    "duration": 12,
    "start_time": "2023-02-01T20:53:37.859Z"
   },
   {
    "duration": 4,
    "start_time": "2023-02-01T20:54:07.756Z"
   },
   {
    "duration": 5,
    "start_time": "2023-02-01T20:54:29.793Z"
   },
   {
    "duration": 1069,
    "start_time": "2023-02-03T04:03:32.647Z"
   },
   {
    "duration": 80,
    "start_time": "2023-02-03T04:03:33.717Z"
   },
   {
    "duration": 19,
    "start_time": "2023-02-03T04:03:33.798Z"
   },
   {
    "duration": 15,
    "start_time": "2023-02-03T04:03:33.819Z"
   },
   {
    "duration": 5,
    "start_time": "2023-02-03T04:03:33.835Z"
   },
   {
    "duration": 5,
    "start_time": "2023-02-03T04:03:33.842Z"
   },
   {
    "duration": 11,
    "start_time": "2023-02-03T04:03:33.848Z"
   },
   {
    "duration": 33,
    "start_time": "2023-02-03T04:03:33.860Z"
   },
   {
    "duration": 4,
    "start_time": "2023-02-03T04:03:33.895Z"
   },
   {
    "duration": 6,
    "start_time": "2023-02-03T04:03:33.901Z"
   },
   {
    "duration": 11,
    "start_time": "2023-02-03T04:03:33.909Z"
   },
   {
    "duration": 12,
    "start_time": "2023-02-03T04:03:33.922Z"
   },
   {
    "duration": 13,
    "start_time": "2023-02-03T04:03:33.936Z"
   },
   {
    "duration": 285,
    "start_time": "2023-02-03T04:03:33.950Z"
   },
   {
    "duration": 272,
    "start_time": "2023-02-03T04:03:34.237Z"
   },
   {
    "duration": 183,
    "start_time": "2023-02-03T04:03:34.510Z"
   },
   {
    "duration": 323,
    "start_time": "2023-02-03T04:03:34.694Z"
   },
   {
    "duration": 240,
    "start_time": "2023-02-03T04:03:35.019Z"
   },
   {
    "duration": 307,
    "start_time": "2023-02-03T04:03:35.261Z"
   },
   {
    "duration": 6,
    "start_time": "2023-02-03T04:03:35.570Z"
   },
   {
    "duration": 153,
    "start_time": "2023-02-03T04:03:35.577Z"
   },
   {
    "duration": 3,
    "start_time": "2023-02-03T04:03:35.732Z"
   },
   {
    "duration": 145,
    "start_time": "2023-02-03T04:03:35.737Z"
   },
   {
    "duration": 172,
    "start_time": "2023-02-03T04:03:35.885Z"
   },
   {
    "duration": 5,
    "start_time": "2023-02-03T04:03:36.059Z"
   },
   {
    "duration": 460,
    "start_time": "2023-02-03T04:03:36.065Z"
   },
   {
    "duration": 9,
    "start_time": "2023-02-03T04:03:36.526Z"
   },
   {
    "duration": 7,
    "start_time": "2023-02-03T04:03:36.538Z"
   },
   {
    "duration": 22,
    "start_time": "2023-02-03T04:03:36.546Z"
   },
   {
    "duration": 15,
    "start_time": "2023-02-03T04:03:36.591Z"
   },
   {
    "duration": 1057,
    "start_time": "2023-02-03T04:11:28.542Z"
   },
   {
    "duration": 76,
    "start_time": "2023-02-03T04:11:29.601Z"
   },
   {
    "duration": 18,
    "start_time": "2023-02-03T04:11:29.679Z"
   },
   {
    "duration": 15,
    "start_time": "2023-02-03T04:11:29.699Z"
   },
   {
    "duration": 7,
    "start_time": "2023-02-03T04:11:29.715Z"
   },
   {
    "duration": 10,
    "start_time": "2023-02-03T04:11:29.723Z"
   },
   {
    "duration": 12,
    "start_time": "2023-02-03T04:11:29.734Z"
   },
   {
    "duration": 7,
    "start_time": "2023-02-03T04:11:29.747Z"
   },
   {
    "duration": 4,
    "start_time": "2023-02-03T04:11:29.756Z"
   },
   {
    "duration": 29,
    "start_time": "2023-02-03T04:11:29.763Z"
   },
   {
    "duration": 11,
    "start_time": "2023-02-03T04:11:29.794Z"
   },
   {
    "duration": 13,
    "start_time": "2023-02-03T04:11:29.807Z"
   },
   {
    "duration": 8,
    "start_time": "2023-02-03T04:11:29.822Z"
   },
   {
    "duration": 297,
    "start_time": "2023-02-03T04:11:29.831Z"
   },
   {
    "duration": 284,
    "start_time": "2023-02-03T04:11:30.130Z"
   },
   {
    "duration": 201,
    "start_time": "2023-02-03T04:11:30.415Z"
   },
   {
    "duration": 295,
    "start_time": "2023-02-03T04:11:30.618Z"
   },
   {
    "duration": 237,
    "start_time": "2023-02-03T04:11:30.914Z"
   },
   {
    "duration": 298,
    "start_time": "2023-02-03T04:11:31.153Z"
   },
   {
    "duration": 8,
    "start_time": "2023-02-03T04:11:31.453Z"
   },
   {
    "duration": 189,
    "start_time": "2023-02-03T04:11:31.464Z"
   },
   {
    "duration": 5,
    "start_time": "2023-02-03T04:11:31.655Z"
   },
   {
    "duration": 153,
    "start_time": "2023-02-03T04:11:31.661Z"
   },
   {
    "duration": 181,
    "start_time": "2023-02-03T04:11:31.816Z"
   },
   {
    "duration": 5,
    "start_time": "2023-02-03T04:11:31.999Z"
   },
   {
    "duration": 332,
    "start_time": "2023-02-03T04:11:32.006Z"
   },
   {
    "duration": 201,
    "start_time": "2023-02-03T04:11:32.340Z"
   },
   {
    "duration": 11,
    "start_time": "2023-02-03T04:11:32.544Z"
   },
   {
    "duration": 8,
    "start_time": "2023-02-03T04:11:32.557Z"
   },
   {
    "duration": 47,
    "start_time": "2023-02-03T04:11:32.566Z"
   },
   {
    "duration": 14,
    "start_time": "2023-02-03T04:11:32.615Z"
   },
   {
    "duration": 53,
    "start_time": "2023-02-03T20:19:05.400Z"
   },
   {
    "duration": 1216,
    "start_time": "2023-02-03T20:19:10.301Z"
   },
   {
    "duration": 239,
    "start_time": "2023-02-03T20:19:11.519Z"
   },
   {
    "duration": 17,
    "start_time": "2023-02-03T20:19:11.760Z"
   },
   {
    "duration": 20,
    "start_time": "2023-02-03T20:19:11.779Z"
   },
   {
    "duration": 8,
    "start_time": "2023-02-03T20:19:11.800Z"
   },
   {
    "duration": 19,
    "start_time": "2023-02-03T20:19:11.809Z"
   },
   {
    "duration": 17,
    "start_time": "2023-02-03T20:19:11.829Z"
   },
   {
    "duration": 15,
    "start_time": "2023-02-03T20:19:11.848Z"
   },
   {
    "duration": 6,
    "start_time": "2023-02-03T20:19:11.864Z"
   },
   {
    "duration": 27,
    "start_time": "2023-02-03T20:19:11.872Z"
   },
   {
    "duration": 26,
    "start_time": "2023-02-03T20:19:11.900Z"
   },
   {
    "duration": 83,
    "start_time": "2023-02-03T20:19:11.928Z"
   },
   {
    "duration": 0,
    "start_time": "2023-02-03T20:19:12.013Z"
   },
   {
    "duration": 0,
    "start_time": "2023-02-03T20:19:12.014Z"
   },
   {
    "duration": 0,
    "start_time": "2023-02-03T20:19:12.015Z"
   },
   {
    "duration": 0,
    "start_time": "2023-02-03T20:19:12.016Z"
   },
   {
    "duration": 0,
    "start_time": "2023-02-03T20:19:12.017Z"
   },
   {
    "duration": 0,
    "start_time": "2023-02-03T20:19:12.018Z"
   },
   {
    "duration": 0,
    "start_time": "2023-02-03T20:19:12.020Z"
   },
   {
    "duration": 0,
    "start_time": "2023-02-03T20:19:12.021Z"
   },
   {
    "duration": 0,
    "start_time": "2023-02-03T20:19:12.023Z"
   },
   {
    "duration": 0,
    "start_time": "2023-02-03T20:19:12.024Z"
   },
   {
    "duration": 0,
    "start_time": "2023-02-03T20:19:12.026Z"
   },
   {
    "duration": 0,
    "start_time": "2023-02-03T20:19:12.027Z"
   },
   {
    "duration": 0,
    "start_time": "2023-02-03T20:19:12.028Z"
   },
   {
    "duration": 0,
    "start_time": "2023-02-03T20:19:12.029Z"
   },
   {
    "duration": 0,
    "start_time": "2023-02-03T20:19:12.031Z"
   },
   {
    "duration": 0,
    "start_time": "2023-02-03T20:19:12.067Z"
   },
   {
    "duration": 0,
    "start_time": "2023-02-03T20:19:12.068Z"
   },
   {
    "duration": 0,
    "start_time": "2023-02-03T20:19:12.070Z"
   },
   {
    "duration": 0,
    "start_time": "2023-02-03T20:19:12.071Z"
   },
   {
    "duration": 1,
    "start_time": "2023-02-03T20:19:12.072Z"
   },
   {
    "duration": 3,
    "start_time": "2023-02-03T20:19:49.695Z"
   },
   {
    "duration": 78,
    "start_time": "2023-02-03T20:19:49.715Z"
   },
   {
    "duration": 18,
    "start_time": "2023-02-03T20:19:49.795Z"
   },
   {
    "duration": 15,
    "start_time": "2023-02-03T20:19:49.814Z"
   },
   {
    "duration": 6,
    "start_time": "2023-02-03T20:19:49.830Z"
   },
   {
    "duration": 4,
    "start_time": "2023-02-03T20:19:49.838Z"
   },
   {
    "duration": 11,
    "start_time": "2023-02-03T20:19:49.843Z"
   },
   {
    "duration": 14,
    "start_time": "2023-02-03T20:19:49.856Z"
   },
   {
    "duration": 7,
    "start_time": "2023-02-03T20:19:49.872Z"
   },
   {
    "duration": 6,
    "start_time": "2023-02-03T20:19:49.880Z"
   },
   {
    "duration": 11,
    "start_time": "2023-02-03T20:19:49.888Z"
   },
   {
    "duration": 4,
    "start_time": "2023-02-03T20:19:49.901Z"
   },
   {
    "duration": 15,
    "start_time": "2023-02-03T20:19:49.907Z"
   },
   {
    "duration": 8,
    "start_time": "2023-02-03T20:19:49.924Z"
   },
   {
    "duration": 307,
    "start_time": "2023-02-03T20:19:49.934Z"
   },
   {
    "duration": 291,
    "start_time": "2023-02-03T20:19:50.242Z"
   },
   {
    "duration": 181,
    "start_time": "2023-02-03T20:19:50.535Z"
   },
   {
    "duration": 327,
    "start_time": "2023-02-03T20:19:50.717Z"
   },
   {
    "duration": 224,
    "start_time": "2023-02-03T20:19:51.047Z"
   },
   {
    "duration": 296,
    "start_time": "2023-02-03T20:19:51.273Z"
   },
   {
    "duration": 6,
    "start_time": "2023-02-03T20:19:51.571Z"
   },
   {
    "duration": 148,
    "start_time": "2023-02-03T20:19:51.578Z"
   },
   {
    "duration": 4,
    "start_time": "2023-02-03T20:19:51.728Z"
   },
   {
    "duration": 141,
    "start_time": "2023-02-03T20:19:51.734Z"
   },
   {
    "duration": 135,
    "start_time": "2023-02-03T20:19:51.877Z"
   },
   {
    "duration": 4,
    "start_time": "2023-02-03T20:19:52.014Z"
   },
   {
    "duration": 296,
    "start_time": "2023-02-03T20:19:52.019Z"
   },
   {
    "duration": 202,
    "start_time": "2023-02-03T20:19:52.317Z"
   },
   {
    "duration": 10,
    "start_time": "2023-02-03T20:19:52.521Z"
   },
   {
    "duration": 10,
    "start_time": "2023-02-03T20:19:52.532Z"
   },
   {
    "duration": 44,
    "start_time": "2023-02-03T20:19:52.543Z"
   },
   {
    "duration": 12,
    "start_time": "2023-02-03T20:19:52.589Z"
   },
   {
    "duration": 8,
    "start_time": "2023-02-03T20:30:40.021Z"
   },
   {
    "duration": 12,
    "start_time": "2023-02-03T20:30:58.679Z"
   },
   {
    "duration": 10,
    "start_time": "2023-02-03T20:31:01.868Z"
   },
   {
    "duration": 6,
    "start_time": "2023-02-03T20:31:08.371Z"
   },
   {
    "duration": 7,
    "start_time": "2023-02-03T20:31:14.086Z"
   },
   {
    "duration": 10,
    "start_time": "2023-02-03T20:31:37.813Z"
   },
   {
    "duration": 10,
    "start_time": "2023-02-03T20:32:00.706Z"
   },
   {
    "duration": 5,
    "start_time": "2023-02-03T20:32:24.181Z"
   },
   {
    "duration": 11,
    "start_time": "2023-02-03T20:32:27.356Z"
   },
   {
    "duration": 10,
    "start_time": "2023-02-03T20:32:38.007Z"
   },
   {
    "duration": 12,
    "start_time": "2023-02-03T20:32:49.203Z"
   },
   {
    "duration": 9,
    "start_time": "2023-02-03T20:33:06.524Z"
   },
   {
    "duration": 13,
    "start_time": "2023-02-03T20:34:09.448Z"
   },
   {
    "duration": 11,
    "start_time": "2023-02-03T20:34:26.414Z"
   },
   {
    "duration": 18,
    "start_time": "2023-02-03T20:35:32.248Z"
   },
   {
    "duration": 12,
    "start_time": "2023-02-03T20:35:42.130Z"
   },
   {
    "duration": 17,
    "start_time": "2023-02-03T20:36:04.523Z"
   },
   {
    "duration": 11,
    "start_time": "2023-02-03T20:36:13.954Z"
   },
   {
    "duration": 13,
    "start_time": "2023-02-03T20:36:28.099Z"
   },
   {
    "duration": 14,
    "start_time": "2023-02-03T20:36:40.673Z"
   },
   {
    "duration": 16,
    "start_time": "2023-02-03T21:18:33.628Z"
   },
   {
    "duration": 17,
    "start_time": "2023-02-03T21:21:29.416Z"
   },
   {
    "duration": 24,
    "start_time": "2023-02-03T21:21:39.938Z"
   },
   {
    "duration": 221,
    "start_time": "2023-02-03T21:38:38.655Z"
   },
   {
    "duration": 219,
    "start_time": "2023-02-03T21:39:02.269Z"
   },
   {
    "duration": 226,
    "start_time": "2023-02-03T21:39:22.578Z"
   },
   {
    "duration": 95,
    "start_time": "2023-02-03T22:05:31.703Z"
   },
   {
    "duration": 98,
    "start_time": "2023-02-03T22:05:57.442Z"
   },
   {
    "duration": 86,
    "start_time": "2023-02-03T22:06:38.549Z"
   },
   {
    "duration": 3,
    "start_time": "2023-02-03T22:06:57.861Z"
   },
   {
    "duration": 82,
    "start_time": "2023-02-03T22:06:57.868Z"
   },
   {
    "duration": 14,
    "start_time": "2023-02-03T22:06:57.952Z"
   },
   {
    "duration": 15,
    "start_time": "2023-02-03T22:06:57.968Z"
   },
   {
    "duration": 4,
    "start_time": "2023-02-03T22:06:57.985Z"
   },
   {
    "duration": 6,
    "start_time": "2023-02-03T22:06:57.990Z"
   },
   {
    "duration": 12,
    "start_time": "2023-02-03T22:06:57.998Z"
   },
   {
    "duration": 7,
    "start_time": "2023-02-03T22:06:58.011Z"
   },
   {
    "duration": 7,
    "start_time": "2023-02-03T22:06:58.020Z"
   },
   {
    "duration": 38,
    "start_time": "2023-02-03T22:06:58.029Z"
   },
   {
    "duration": 12,
    "start_time": "2023-02-03T22:06:58.070Z"
   },
   {
    "duration": 29,
    "start_time": "2023-02-03T22:06:58.084Z"
   },
   {
    "duration": 13,
    "start_time": "2023-02-03T22:06:58.115Z"
   },
   {
    "duration": 44,
    "start_time": "2023-02-03T22:06:58.130Z"
   },
   {
    "duration": 151,
    "start_time": "2023-02-03T22:06:58.175Z"
   },
   {
    "duration": 214,
    "start_time": "2023-02-03T22:06:58.327Z"
   },
   {
    "duration": 176,
    "start_time": "2023-02-03T22:06:58.542Z"
   },
   {
    "duration": 250,
    "start_time": "2023-02-03T22:06:58.719Z"
   },
   {
    "duration": 229,
    "start_time": "2023-02-03T22:06:58.971Z"
   },
   {
    "duration": 226,
    "start_time": "2023-02-03T22:06:59.201Z"
   },
   {
    "duration": 6,
    "start_time": "2023-02-03T22:06:59.429Z"
   },
   {
    "duration": 167,
    "start_time": "2023-02-03T22:06:59.437Z"
   },
   {
    "duration": 4,
    "start_time": "2023-02-03T22:06:59.606Z"
   },
   {
    "duration": 138,
    "start_time": "2023-02-03T22:06:59.611Z"
   },
   {
    "duration": 132,
    "start_time": "2023-02-03T22:06:59.751Z"
   },
   {
    "duration": 4,
    "start_time": "2023-02-03T22:06:59.885Z"
   },
   {
    "duration": 266,
    "start_time": "2023-02-03T22:06:59.891Z"
   },
   {
    "duration": 102,
    "start_time": "2023-02-03T22:07:00.159Z"
   },
   {
    "duration": 0,
    "start_time": "2023-02-03T22:07:00.263Z"
   },
   {
    "duration": 0,
    "start_time": "2023-02-03T22:07:00.267Z"
   },
   {
    "duration": 0,
    "start_time": "2023-02-03T22:07:00.268Z"
   },
   {
    "duration": 0,
    "start_time": "2023-02-03T22:07:00.269Z"
   },
   {
    "duration": 3,
    "start_time": "2023-02-03T22:08:24.410Z"
   },
   {
    "duration": 81,
    "start_time": "2023-02-03T22:08:24.417Z"
   },
   {
    "duration": 21,
    "start_time": "2023-02-03T22:08:24.500Z"
   },
   {
    "duration": 15,
    "start_time": "2023-02-03T22:08:24.523Z"
   },
   {
    "duration": 6,
    "start_time": "2023-02-03T22:08:24.539Z"
   },
   {
    "duration": 5,
    "start_time": "2023-02-03T22:08:24.546Z"
   },
   {
    "duration": 24,
    "start_time": "2023-02-03T22:08:24.552Z"
   },
   {
    "duration": 11,
    "start_time": "2023-02-03T22:08:24.577Z"
   },
   {
    "duration": 6,
    "start_time": "2023-02-03T22:08:24.590Z"
   },
   {
    "duration": 4,
    "start_time": "2023-02-03T22:08:24.598Z"
   },
   {
    "duration": 11,
    "start_time": "2023-02-03T22:08:24.605Z"
   },
   {
    "duration": 7,
    "start_time": "2023-02-03T22:08:24.617Z"
   },
   {
    "duration": 15,
    "start_time": "2023-02-03T22:08:24.625Z"
   },
   {
    "duration": 34,
    "start_time": "2023-02-03T22:08:24.641Z"
   },
   {
    "duration": 318,
    "start_time": "2023-02-03T22:08:24.677Z"
   },
   {
    "duration": 224,
    "start_time": "2023-02-03T22:08:24.997Z"
   },
   {
    "duration": 186,
    "start_time": "2023-02-03T22:08:25.222Z"
   },
   {
    "duration": 271,
    "start_time": "2023-02-03T22:08:25.410Z"
   },
   {
    "duration": 242,
    "start_time": "2023-02-03T22:08:25.682Z"
   },
   {
    "duration": 289,
    "start_time": "2023-02-03T22:08:25.926Z"
   },
   {
    "duration": 6,
    "start_time": "2023-02-03T22:08:26.219Z"
   },
   {
    "duration": 166,
    "start_time": "2023-02-03T22:08:26.227Z"
   },
   {
    "duration": 4,
    "start_time": "2023-02-03T22:08:26.395Z"
   },
   {
    "duration": 140,
    "start_time": "2023-02-03T22:08:26.401Z"
   },
   {
    "duration": 137,
    "start_time": "2023-02-03T22:08:26.543Z"
   },
   {
    "duration": 5,
    "start_time": "2023-02-03T22:08:26.682Z"
   },
   {
    "duration": 245,
    "start_time": "2023-02-03T22:08:26.688Z"
   },
   {
    "duration": 180,
    "start_time": "2023-02-03T22:08:26.935Z"
   },
   {
    "duration": 10,
    "start_time": "2023-02-03T22:08:27.116Z"
   },
   {
    "duration": 8,
    "start_time": "2023-02-03T22:08:27.128Z"
   },
   {
    "duration": 54,
    "start_time": "2023-02-03T22:08:27.138Z"
   },
   {
    "duration": 14,
    "start_time": "2023-02-03T22:08:27.193Z"
   },
   {
    "duration": 13,
    "start_time": "2023-02-03T22:13:21.042Z"
   },
   {
    "duration": 11,
    "start_time": "2023-02-03T22:13:27.186Z"
   },
   {
    "duration": 44,
    "start_time": "2023-02-03T22:14:45.119Z"
   },
   {
    "duration": 9,
    "start_time": "2023-02-03T22:14:49.204Z"
   },
   {
    "duration": 18,
    "start_time": "2023-02-03T22:15:10.514Z"
   },
   {
    "duration": 16,
    "start_time": "2023-02-03T22:15:18.310Z"
   },
   {
    "duration": 4,
    "start_time": "2023-02-03T22:15:23.114Z"
   },
   {
    "duration": 81,
    "start_time": "2023-02-03T22:15:23.119Z"
   },
   {
    "duration": 14,
    "start_time": "2023-02-03T22:15:23.202Z"
   },
   {
    "duration": 13,
    "start_time": "2023-02-03T22:15:23.218Z"
   },
   {
    "duration": 4,
    "start_time": "2023-02-03T22:15:23.233Z"
   },
   {
    "duration": 6,
    "start_time": "2023-02-03T22:15:23.239Z"
   },
   {
    "duration": 12,
    "start_time": "2023-02-03T22:15:23.246Z"
   },
   {
    "duration": 9,
    "start_time": "2023-02-03T22:15:23.260Z"
   },
   {
    "duration": 4,
    "start_time": "2023-02-03T22:15:23.270Z"
   },
   {
    "duration": 5,
    "start_time": "2023-02-03T22:15:23.276Z"
   },
   {
    "duration": 14,
    "start_time": "2023-02-03T22:15:23.284Z"
   },
   {
    "duration": 17,
    "start_time": "2023-02-03T22:15:23.300Z"
   },
   {
    "duration": 10,
    "start_time": "2023-02-03T22:15:23.318Z"
   },
   {
    "duration": 43,
    "start_time": "2023-02-03T22:15:23.330Z"
   },
   {
    "duration": 256,
    "start_time": "2023-02-03T22:15:23.375Z"
   },
   {
    "duration": 244,
    "start_time": "2023-02-03T22:15:23.632Z"
   },
   {
    "duration": 214,
    "start_time": "2023-02-03T22:15:23.878Z"
   },
   {
    "duration": 297,
    "start_time": "2023-02-03T22:15:24.094Z"
   },
   {
    "duration": 295,
    "start_time": "2023-02-03T22:15:24.392Z"
   },
   {
    "duration": 288,
    "start_time": "2023-02-03T22:15:24.689Z"
   },
   {
    "duration": 6,
    "start_time": "2023-02-03T22:15:24.979Z"
   },
   {
    "duration": 164,
    "start_time": "2023-02-03T22:15:24.987Z"
   },
   {
    "duration": 4,
    "start_time": "2023-02-03T22:15:25.152Z"
   },
   {
    "duration": 127,
    "start_time": "2023-02-03T22:15:25.167Z"
   },
   {
    "duration": 129,
    "start_time": "2023-02-03T22:15:25.296Z"
   },
   {
    "duration": 4,
    "start_time": "2023-02-03T22:15:25.427Z"
   },
   {
    "duration": 218,
    "start_time": "2023-02-03T22:15:25.433Z"
   },
   {
    "duration": 160,
    "start_time": "2023-02-03T22:15:25.653Z"
   },
   {
    "duration": 9,
    "start_time": "2023-02-03T22:15:25.815Z"
   },
   {
    "duration": 9,
    "start_time": "2023-02-03T22:15:25.826Z"
   },
   {
    "duration": 47,
    "start_time": "2023-02-03T22:15:25.836Z"
   },
   {
    "duration": 12,
    "start_time": "2023-02-03T22:15:25.885Z"
   },
   {
    "duration": 4,
    "start_time": "2023-02-03T22:22:43.390Z"
   },
   {
    "duration": 82,
    "start_time": "2023-02-03T22:22:43.400Z"
   },
   {
    "duration": 21,
    "start_time": "2023-02-03T22:22:43.484Z"
   },
   {
    "duration": 15,
    "start_time": "2023-02-03T22:22:43.507Z"
   },
   {
    "duration": 4,
    "start_time": "2023-02-03T22:22:43.524Z"
   },
   {
    "duration": 6,
    "start_time": "2023-02-03T22:22:43.529Z"
   },
   {
    "duration": 14,
    "start_time": "2023-02-03T22:22:43.537Z"
   },
   {
    "duration": 17,
    "start_time": "2023-02-03T22:22:43.552Z"
   },
   {
    "duration": 6,
    "start_time": "2023-02-03T22:22:43.570Z"
   },
   {
    "duration": 6,
    "start_time": "2023-02-03T22:22:43.578Z"
   },
   {
    "duration": 11,
    "start_time": "2023-02-03T22:22:43.586Z"
   },
   {
    "duration": 14,
    "start_time": "2023-02-03T22:22:43.598Z"
   },
   {
    "duration": 0,
    "start_time": "2023-02-03T22:22:43.613Z"
   },
   {
    "duration": 0,
    "start_time": "2023-02-03T22:22:43.615Z"
   },
   {
    "duration": 0,
    "start_time": "2023-02-03T22:22:43.616Z"
   },
   {
    "duration": 0,
    "start_time": "2023-02-03T22:22:43.617Z"
   },
   {
    "duration": 0,
    "start_time": "2023-02-03T22:22:43.618Z"
   },
   {
    "duration": 334,
    "start_time": "2023-02-03T22:22:43.620Z"
   },
   {
    "duration": 236,
    "start_time": "2023-02-03T22:22:43.956Z"
   },
   {
    "duration": 283,
    "start_time": "2023-02-03T22:22:44.194Z"
   },
   {
    "duration": 7,
    "start_time": "2023-02-03T22:22:44.480Z"
   },
   {
    "duration": 150,
    "start_time": "2023-02-03T22:22:44.489Z"
   },
   {
    "duration": 5,
    "start_time": "2023-02-03T22:22:44.640Z"
   },
   {
    "duration": 134,
    "start_time": "2023-02-03T22:22:44.646Z"
   },
   {
    "duration": 162,
    "start_time": "2023-02-03T22:22:44.783Z"
   },
   {
    "duration": 5,
    "start_time": "2023-02-03T22:22:44.946Z"
   },
   {
    "duration": 221,
    "start_time": "2023-02-03T22:22:44.954Z"
   },
   {
    "duration": 163,
    "start_time": "2023-02-03T22:22:45.177Z"
   },
   {
    "duration": 10,
    "start_time": "2023-02-03T22:22:45.342Z"
   },
   {
    "duration": 19,
    "start_time": "2023-02-03T22:22:45.354Z"
   },
   {
    "duration": 44,
    "start_time": "2023-02-03T22:22:45.375Z"
   },
   {
    "duration": 12,
    "start_time": "2023-02-03T22:22:45.420Z"
   },
   {
    "duration": 3,
    "start_time": "2023-02-03T22:23:01.312Z"
   },
   {
    "duration": 95,
    "start_time": "2023-02-03T22:23:01.322Z"
   },
   {
    "duration": 15,
    "start_time": "2023-02-03T22:23:01.419Z"
   },
   {
    "duration": 34,
    "start_time": "2023-02-03T22:23:01.436Z"
   },
   {
    "duration": 21,
    "start_time": "2023-02-03T22:23:01.472Z"
   },
   {
    "duration": 23,
    "start_time": "2023-02-03T22:23:01.496Z"
   },
   {
    "duration": 46,
    "start_time": "2023-02-03T22:23:01.520Z"
   },
   {
    "duration": 35,
    "start_time": "2023-02-03T22:23:01.568Z"
   },
   {
    "duration": 31,
    "start_time": "2023-02-03T22:23:01.605Z"
   },
   {
    "duration": 20,
    "start_time": "2023-02-03T22:23:01.638Z"
   },
   {
    "duration": 30,
    "start_time": "2023-02-03T22:23:01.660Z"
   },
   {
    "duration": 34,
    "start_time": "2023-02-03T22:23:01.691Z"
   },
   {
    "duration": 0,
    "start_time": "2023-02-03T22:23:01.727Z"
   },
   {
    "duration": 0,
    "start_time": "2023-02-03T22:23:01.728Z"
   },
   {
    "duration": 0,
    "start_time": "2023-02-03T22:23:01.729Z"
   },
   {
    "duration": 0,
    "start_time": "2023-02-03T22:23:01.730Z"
   },
   {
    "duration": 0,
    "start_time": "2023-02-03T22:23:01.731Z"
   },
   {
    "duration": 0,
    "start_time": "2023-02-03T22:23:01.732Z"
   },
   {
    "duration": 0,
    "start_time": "2023-02-03T22:23:01.734Z"
   },
   {
    "duration": 0,
    "start_time": "2023-02-03T22:23:01.735Z"
   },
   {
    "duration": 0,
    "start_time": "2023-02-03T22:23:01.736Z"
   },
   {
    "duration": 0,
    "start_time": "2023-02-03T22:23:01.738Z"
   },
   {
    "duration": 0,
    "start_time": "2023-02-03T22:23:01.739Z"
   },
   {
    "duration": 0,
    "start_time": "2023-02-03T22:23:01.741Z"
   },
   {
    "duration": 0,
    "start_time": "2023-02-03T22:23:01.743Z"
   },
   {
    "duration": 0,
    "start_time": "2023-02-03T22:23:01.744Z"
   },
   {
    "duration": 0,
    "start_time": "2023-02-03T22:23:01.746Z"
   },
   {
    "duration": 0,
    "start_time": "2023-02-03T22:23:01.747Z"
   },
   {
    "duration": 0,
    "start_time": "2023-02-03T22:23:01.748Z"
   },
   {
    "duration": 0,
    "start_time": "2023-02-03T22:23:01.749Z"
   },
   {
    "duration": 0,
    "start_time": "2023-02-03T22:23:01.750Z"
   },
   {
    "duration": 0,
    "start_time": "2023-02-03T22:23:01.751Z"
   },
   {
    "duration": 3,
    "start_time": "2023-02-03T22:23:30.427Z"
   },
   {
    "duration": 102,
    "start_time": "2023-02-03T22:23:30.434Z"
   },
   {
    "duration": 17,
    "start_time": "2023-02-03T22:23:30.538Z"
   },
   {
    "duration": 28,
    "start_time": "2023-02-03T22:23:30.557Z"
   },
   {
    "duration": 33,
    "start_time": "2023-02-03T22:23:30.587Z"
   },
   {
    "duration": 32,
    "start_time": "2023-02-03T22:23:30.621Z"
   },
   {
    "duration": 21,
    "start_time": "2023-02-03T22:23:30.655Z"
   },
   {
    "duration": 12,
    "start_time": "2023-02-03T22:23:30.678Z"
   },
   {
    "duration": 23,
    "start_time": "2023-02-03T22:23:30.692Z"
   },
   {
    "duration": 20,
    "start_time": "2023-02-03T22:23:30.717Z"
   },
   {
    "duration": 30,
    "start_time": "2023-02-03T22:23:30.740Z"
   },
   {
    "duration": 30,
    "start_time": "2023-02-03T22:23:30.772Z"
   },
   {
    "duration": 26,
    "start_time": "2023-02-03T22:23:30.803Z"
   },
   {
    "duration": 35,
    "start_time": "2023-02-03T22:23:30.831Z"
   },
   {
    "duration": 279,
    "start_time": "2023-02-03T22:23:30.868Z"
   },
   {
    "duration": 212,
    "start_time": "2023-02-03T22:23:31.149Z"
   },
   {
    "duration": 287,
    "start_time": "2023-02-03T22:23:31.362Z"
   },
   {
    "duration": 295,
    "start_time": "2023-02-03T22:23:31.650Z"
   },
   {
    "duration": 228,
    "start_time": "2023-02-03T22:23:31.947Z"
   },
   {
    "duration": 281,
    "start_time": "2023-02-03T22:23:32.176Z"
   },
   {
    "duration": 11,
    "start_time": "2023-02-03T22:23:32.459Z"
   },
   {
    "duration": 174,
    "start_time": "2023-02-03T22:23:32.472Z"
   },
   {
    "duration": 5,
    "start_time": "2023-02-03T22:23:32.648Z"
   },
   {
    "duration": 136,
    "start_time": "2023-02-03T22:23:32.667Z"
   },
   {
    "duration": 139,
    "start_time": "2023-02-03T22:23:32.804Z"
   },
   {
    "duration": 4,
    "start_time": "2023-02-03T22:23:32.945Z"
   },
   {
    "duration": 237,
    "start_time": "2023-02-03T22:23:32.951Z"
   },
   {
    "duration": 148,
    "start_time": "2023-02-03T22:23:33.190Z"
   },
   {
    "duration": 10,
    "start_time": "2023-02-03T22:23:33.341Z"
   },
   {
    "duration": 21,
    "start_time": "2023-02-03T22:23:33.353Z"
   },
   {
    "duration": 25,
    "start_time": "2023-02-03T22:23:33.376Z"
   },
   {
    "duration": 12,
    "start_time": "2023-02-03T22:23:33.403Z"
   },
   {
    "duration": 21,
    "start_time": "2023-02-03T22:24:51.196Z"
   },
   {
    "duration": 3,
    "start_time": "2023-02-03T22:24:59.161Z"
   },
   {
    "duration": 77,
    "start_time": "2023-02-03T22:24:59.176Z"
   },
   {
    "duration": 13,
    "start_time": "2023-02-03T22:24:59.255Z"
   },
   {
    "duration": 13,
    "start_time": "2023-02-03T22:24:59.269Z"
   },
   {
    "duration": 4,
    "start_time": "2023-02-03T22:24:59.284Z"
   },
   {
    "duration": 4,
    "start_time": "2023-02-03T22:24:59.290Z"
   },
   {
    "duration": 11,
    "start_time": "2023-02-03T22:24:59.295Z"
   },
   {
    "duration": 9,
    "start_time": "2023-02-03T22:24:59.307Z"
   },
   {
    "duration": 5,
    "start_time": "2023-02-03T22:24:59.317Z"
   },
   {
    "duration": 4,
    "start_time": "2023-02-03T22:24:59.324Z"
   },
   {
    "duration": 51,
    "start_time": "2023-02-03T22:24:59.329Z"
   },
   {
    "duration": 26,
    "start_time": "2023-02-03T22:24:59.382Z"
   },
   {
    "duration": 12,
    "start_time": "2023-02-03T22:24:59.410Z"
   },
   {
    "duration": 11,
    "start_time": "2023-02-03T22:24:59.424Z"
   },
   {
    "duration": 260,
    "start_time": "2023-02-03T22:24:59.466Z"
   },
   {
    "duration": 206,
    "start_time": "2023-02-03T22:24:59.728Z"
   },
   {
    "duration": 191,
    "start_time": "2023-02-03T22:24:59.936Z"
   },
   {
    "duration": 304,
    "start_time": "2023-02-03T22:25:00.128Z"
   },
   {
    "duration": 240,
    "start_time": "2023-02-03T22:25:00.435Z"
   },
   {
    "duration": 294,
    "start_time": "2023-02-03T22:25:00.676Z"
   },
   {
    "duration": 8,
    "start_time": "2023-02-03T22:25:00.972Z"
   },
   {
    "duration": 181,
    "start_time": "2023-02-03T22:25:00.982Z"
   },
   {
    "duration": 4,
    "start_time": "2023-02-03T22:25:01.167Z"
   },
   {
    "duration": 234,
    "start_time": "2023-02-03T22:25:01.172Z"
   },
   {
    "duration": 126,
    "start_time": "2023-02-03T22:25:01.407Z"
   },
   {
    "duration": 5,
    "start_time": "2023-02-03T22:25:01.536Z"
   },
   {
    "duration": 213,
    "start_time": "2023-02-03T22:25:01.542Z"
   },
   {
    "duration": 151,
    "start_time": "2023-02-03T22:25:01.757Z"
   },
   {
    "duration": 10,
    "start_time": "2023-02-03T22:25:01.910Z"
   },
   {
    "duration": 29,
    "start_time": "2023-02-03T22:25:01.922Z"
   },
   {
    "duration": 59,
    "start_time": "2023-02-03T22:25:01.954Z"
   },
   {
    "duration": 47,
    "start_time": "2023-02-03T22:25:02.015Z"
   },
   {
    "duration": 3,
    "start_time": "2023-02-03T23:01:39.545Z"
   },
   {
    "duration": 82,
    "start_time": "2023-02-03T23:01:39.553Z"
   },
   {
    "duration": 15,
    "start_time": "2023-02-03T23:01:39.636Z"
   },
   {
    "duration": 14,
    "start_time": "2023-02-03T23:01:39.652Z"
   },
   {
    "duration": 5,
    "start_time": "2023-02-03T23:01:39.668Z"
   },
   {
    "duration": 5,
    "start_time": "2023-02-03T23:01:39.675Z"
   },
   {
    "duration": 12,
    "start_time": "2023-02-03T23:01:39.681Z"
   },
   {
    "duration": 9,
    "start_time": "2023-02-03T23:01:39.695Z"
   },
   {
    "duration": 6,
    "start_time": "2023-02-03T23:01:39.706Z"
   },
   {
    "duration": 5,
    "start_time": "2023-02-03T23:01:39.715Z"
   },
   {
    "duration": 44,
    "start_time": "2023-02-03T23:01:39.723Z"
   },
   {
    "duration": 20,
    "start_time": "2023-02-03T23:01:39.770Z"
   },
   {
    "duration": 12,
    "start_time": "2023-02-03T23:01:39.792Z"
   },
   {
    "duration": 11,
    "start_time": "2023-02-03T23:01:39.805Z"
   },
   {
    "duration": 291,
    "start_time": "2023-02-03T23:01:39.817Z"
   },
   {
    "duration": 219,
    "start_time": "2023-02-03T23:01:40.110Z"
   },
   {
    "duration": 206,
    "start_time": "2023-02-03T23:01:40.331Z"
   },
   {
    "duration": 315,
    "start_time": "2023-02-03T23:01:40.538Z"
   },
   {
    "duration": 232,
    "start_time": "2023-02-03T23:01:40.866Z"
   },
   {
    "duration": 274,
    "start_time": "2023-02-03T23:01:41.100Z"
   },
   {
    "duration": 7,
    "start_time": "2023-02-03T23:01:41.376Z"
   },
   {
    "duration": 170,
    "start_time": "2023-02-03T23:01:41.385Z"
   },
   {
    "duration": 10,
    "start_time": "2023-02-03T23:01:41.557Z"
   },
   {
    "duration": 132,
    "start_time": "2023-02-03T23:01:41.568Z"
   },
   {
    "duration": 127,
    "start_time": "2023-02-03T23:01:41.701Z"
   },
   {
    "duration": 4,
    "start_time": "2023-02-03T23:01:41.830Z"
   },
   {
    "duration": 242,
    "start_time": "2023-02-03T23:01:41.835Z"
   },
   {
    "duration": 188,
    "start_time": "2023-02-03T23:01:42.079Z"
   },
   {
    "duration": 10,
    "start_time": "2023-02-03T23:01:42.269Z"
   },
   {
    "duration": 8,
    "start_time": "2023-02-03T23:01:42.281Z"
   },
   {
    "duration": 31,
    "start_time": "2023-02-03T23:01:42.291Z"
   },
   {
    "duration": 14,
    "start_time": "2023-02-03T23:01:42.324Z"
   },
   {
    "duration": 3,
    "start_time": "2023-02-03T23:02:06.617Z"
   },
   {
    "duration": 80,
    "start_time": "2023-02-03T23:02:06.629Z"
   },
   {
    "duration": 17,
    "start_time": "2023-02-03T23:02:06.711Z"
   },
   {
    "duration": 18,
    "start_time": "2023-02-03T23:02:06.730Z"
   },
   {
    "duration": 5,
    "start_time": "2023-02-03T23:02:06.750Z"
   },
   {
    "duration": 7,
    "start_time": "2023-02-03T23:02:06.756Z"
   },
   {
    "duration": 13,
    "start_time": "2023-02-03T23:02:06.764Z"
   },
   {
    "duration": 11,
    "start_time": "2023-02-03T23:02:06.778Z"
   },
   {
    "duration": 20,
    "start_time": "2023-02-03T23:02:06.791Z"
   },
   {
    "duration": 15,
    "start_time": "2023-02-03T23:02:06.813Z"
   },
   {
    "duration": 12,
    "start_time": "2023-02-03T23:02:06.831Z"
   },
   {
    "duration": 24,
    "start_time": "2023-02-03T23:02:06.846Z"
   },
   {
    "duration": 12,
    "start_time": "2023-02-03T23:02:06.871Z"
   },
   {
    "duration": 10,
    "start_time": "2023-02-03T23:02:06.884Z"
   },
   {
    "duration": 305,
    "start_time": "2023-02-03T23:02:06.896Z"
   },
   {
    "duration": 223,
    "start_time": "2023-02-03T23:02:07.202Z"
   },
   {
    "duration": 200,
    "start_time": "2023-02-03T23:02:07.427Z"
   },
   {
    "duration": 324,
    "start_time": "2023-02-03T23:02:07.629Z"
   },
   {
    "duration": 331,
    "start_time": "2023-02-03T23:02:07.955Z"
   },
   {
    "duration": 292,
    "start_time": "2023-02-03T23:02:08.288Z"
   },
   {
    "duration": 8,
    "start_time": "2023-02-03T23:02:08.581Z"
   },
   {
    "duration": 165,
    "start_time": "2023-02-03T23:02:08.590Z"
   },
   {
    "duration": 6,
    "start_time": "2023-02-03T23:02:08.756Z"
   },
   {
    "duration": 146,
    "start_time": "2023-02-03T23:02:08.767Z"
   },
   {
    "duration": 140,
    "start_time": "2023-02-03T23:02:08.916Z"
   },
   {
    "duration": 12,
    "start_time": "2023-02-03T23:02:09.058Z"
   },
   {
    "duration": 222,
    "start_time": "2023-02-03T23:02:09.072Z"
   },
   {
    "duration": 167,
    "start_time": "2023-02-03T23:02:09.296Z"
   },
   {
    "duration": 11,
    "start_time": "2023-02-03T23:02:09.467Z"
   },
   {
    "duration": 8,
    "start_time": "2023-02-03T23:02:09.479Z"
   },
   {
    "duration": 30,
    "start_time": "2023-02-03T23:02:09.489Z"
   },
   {
    "duration": 13,
    "start_time": "2023-02-03T23:02:09.521Z"
   },
   {
    "duration": 135,
    "start_time": "2023-02-03T23:03:52.978Z"
   },
   {
    "duration": 9,
    "start_time": "2023-02-03T23:13:13.097Z"
   },
   {
    "duration": 51,
    "start_time": "2023-02-03T23:21:44.343Z"
   },
   {
    "duration": 8,
    "start_time": "2023-02-03T23:22:14.569Z"
   },
   {
    "duration": 3,
    "start_time": "2023-02-03T23:23:25.612Z"
   },
   {
    "duration": 55,
    "start_time": "2023-02-03T23:24:56.080Z"
   },
   {
    "duration": 1152,
    "start_time": "2023-02-04T02:42:32.597Z"
   },
   {
    "duration": 171,
    "start_time": "2023-02-04T02:42:33.751Z"
   },
   {
    "duration": 19,
    "start_time": "2023-02-04T02:42:33.924Z"
   },
   {
    "duration": 15,
    "start_time": "2023-02-04T02:42:33.945Z"
   },
   {
    "duration": 5,
    "start_time": "2023-02-04T02:42:33.963Z"
   },
   {
    "duration": 5,
    "start_time": "2023-02-04T02:42:33.970Z"
   },
   {
    "duration": 18,
    "start_time": "2023-02-04T02:42:33.977Z"
   },
   {
    "duration": 9,
    "start_time": "2023-02-04T02:42:33.997Z"
   },
   {
    "duration": 5,
    "start_time": "2023-02-04T02:42:34.038Z"
   },
   {
    "duration": 12,
    "start_time": "2023-02-04T02:42:34.045Z"
   },
   {
    "duration": 15,
    "start_time": "2023-02-04T02:42:34.059Z"
   },
   {
    "duration": 13,
    "start_time": "2023-02-04T02:42:34.076Z"
   },
   {
    "duration": 12,
    "start_time": "2023-02-04T02:42:34.091Z"
   },
   {
    "duration": 36,
    "start_time": "2023-02-04T02:42:34.105Z"
   },
   {
    "duration": 298,
    "start_time": "2023-02-04T02:42:34.143Z"
   },
   {
    "duration": 311,
    "start_time": "2023-02-04T02:42:34.443Z"
   },
   {
    "duration": 190,
    "start_time": "2023-02-04T02:42:34.755Z"
   },
   {
    "duration": 300,
    "start_time": "2023-02-04T02:42:34.947Z"
   },
   {
    "duration": 253,
    "start_time": "2023-02-04T02:42:35.249Z"
   },
   {
    "duration": 325,
    "start_time": "2023-02-04T02:42:35.504Z"
   },
   {
    "duration": 12,
    "start_time": "2023-02-04T02:42:35.830Z"
   },
   {
    "duration": 163,
    "start_time": "2023-02-04T02:42:35.843Z"
   },
   {
    "duration": 5,
    "start_time": "2023-02-04T02:42:36.008Z"
   },
   {
    "duration": 143,
    "start_time": "2023-02-04T02:42:36.015Z"
   },
   {
    "duration": 137,
    "start_time": "2023-02-04T02:42:36.160Z"
   },
   {
    "duration": 4,
    "start_time": "2023-02-04T02:42:36.299Z"
   },
   {
    "duration": 296,
    "start_time": "2023-02-04T02:42:36.304Z"
   },
   {
    "duration": 193,
    "start_time": "2023-02-04T02:42:36.603Z"
   },
   {
    "duration": 11,
    "start_time": "2023-02-04T02:42:36.798Z"
   },
   {
    "duration": 8,
    "start_time": "2023-02-04T02:42:36.811Z"
   },
   {
    "duration": 4,
    "start_time": "2023-02-04T02:42:36.837Z"
   },
   {
    "duration": 60,
    "start_time": "2023-02-04T02:42:36.842Z"
   },
   {
    "duration": 0,
    "start_time": "2023-02-04T02:42:36.904Z"
   },
   {
    "duration": 72,
    "start_time": "2023-02-07T08:20:00.867Z"
   },
   {
    "duration": 1427,
    "start_time": "2023-02-07T08:20:07.227Z"
   },
   {
    "duration": 186,
    "start_time": "2023-02-07T08:20:08.656Z"
   },
   {
    "duration": 33,
    "start_time": "2023-02-07T08:20:08.845Z"
   },
   {
    "duration": 25,
    "start_time": "2023-02-07T08:20:08.882Z"
   },
   {
    "duration": 69,
    "start_time": "2023-02-07T08:20:08.909Z"
   },
   {
    "duration": 32,
    "start_time": "2023-02-07T08:20:08.980Z"
   },
   {
    "duration": 27,
    "start_time": "2023-02-07T08:20:09.015Z"
   },
   {
    "duration": 23,
    "start_time": "2023-02-07T08:20:09.045Z"
   },
   {
    "duration": 15,
    "start_time": "2023-02-07T08:20:09.070Z"
   },
   {
    "duration": 34,
    "start_time": "2023-02-07T08:20:09.089Z"
   },
   {
    "duration": 23,
    "start_time": "2023-02-07T08:20:09.126Z"
   },
   {
    "duration": 26,
    "start_time": "2023-02-07T08:20:09.152Z"
   },
   {
    "duration": 74,
    "start_time": "2023-02-07T08:20:41.138Z"
   },
   {
    "duration": 6,
    "start_time": "2023-02-07T08:20:47.154Z"
   },
   {
    "duration": 11,
    "start_time": "2023-02-07T08:21:01.987Z"
   },
   {
    "duration": 8,
    "start_time": "2023-02-07T08:29:44.631Z"
   },
   {
    "duration": 9,
    "start_time": "2023-02-07T08:29:54.700Z"
   },
   {
    "duration": 3,
    "start_time": "2023-02-07T08:30:08.090Z"
   },
   {
    "duration": 4,
    "start_time": "2023-02-07T08:30:11.581Z"
   },
   {
    "duration": 16,
    "start_time": "2023-02-07T08:32:54.737Z"
   },
   {
    "duration": 3,
    "start_time": "2023-02-07T08:33:40.119Z"
   },
   {
    "duration": 7,
    "start_time": "2023-02-07T08:34:01.156Z"
   },
   {
    "duration": 8,
    "start_time": "2023-02-07T08:34:11.964Z"
   },
   {
    "duration": 14,
    "start_time": "2023-02-07T08:49:27.340Z"
   },
   {
    "duration": 11,
    "start_time": "2023-02-07T08:49:39.956Z"
   },
   {
    "duration": 12,
    "start_time": "2023-02-07T08:50:01.388Z"
   },
   {
    "duration": 8,
    "start_time": "2023-02-07T08:54:52.041Z"
   },
   {
    "duration": 8,
    "start_time": "2023-02-07T08:54:54.999Z"
   },
   {
    "duration": 11,
    "start_time": "2023-02-07T08:55:02.269Z"
   },
   {
    "duration": 10,
    "start_time": "2023-02-07T09:08:14.865Z"
   },
   {
    "duration": 4,
    "start_time": "2023-02-07T09:08:19.645Z"
   },
   {
    "duration": 9,
    "start_time": "2023-02-07T09:08:22.020Z"
   },
   {
    "duration": 3,
    "start_time": "2023-02-07T09:08:30.532Z"
   },
   {
    "duration": 84,
    "start_time": "2023-02-07T09:08:30.543Z"
   },
   {
    "duration": 18,
    "start_time": "2023-02-07T09:08:30.629Z"
   },
   {
    "duration": 33,
    "start_time": "2023-02-07T09:08:30.649Z"
   },
   {
    "duration": 31,
    "start_time": "2023-02-07T09:08:30.684Z"
   },
   {
    "duration": 17,
    "start_time": "2023-02-07T09:08:30.717Z"
   },
   {
    "duration": 63,
    "start_time": "2023-02-07T09:08:30.736Z"
   },
   {
    "duration": 71,
    "start_time": "2023-02-07T09:08:30.801Z"
   },
   {
    "duration": 28,
    "start_time": "2023-02-07T09:08:30.874Z"
   },
   {
    "duration": 46,
    "start_time": "2023-02-07T09:08:30.904Z"
   },
   {
    "duration": 75,
    "start_time": "2023-02-07T09:08:30.953Z"
   },
   {
    "duration": 43,
    "start_time": "2023-02-07T09:08:31.030Z"
   },
   {
    "duration": 65,
    "start_time": "2023-02-07T09:08:31.075Z"
   },
   {
    "duration": 41,
    "start_time": "2023-02-07T09:08:31.141Z"
   },
   {
    "duration": 30,
    "start_time": "2023-02-07T09:08:31.183Z"
   },
   {
    "duration": 296,
    "start_time": "2023-02-07T09:08:31.215Z"
   },
   {
    "duration": 330,
    "start_time": "2023-02-07T09:08:31.513Z"
   },
   {
    "duration": 210,
    "start_time": "2023-02-07T09:08:31.845Z"
   },
   {
    "duration": 363,
    "start_time": "2023-02-07T09:08:32.057Z"
   },
   {
    "duration": 268,
    "start_time": "2023-02-07T09:08:32.421Z"
   },
   {
    "duration": 302,
    "start_time": "2023-02-07T09:08:32.691Z"
   },
   {
    "duration": 7,
    "start_time": "2023-02-07T09:08:32.995Z"
   },
   {
    "duration": 174,
    "start_time": "2023-02-07T09:08:33.004Z"
   },
   {
    "duration": 5,
    "start_time": "2023-02-07T09:08:33.180Z"
   },
   {
    "duration": 166,
    "start_time": "2023-02-07T09:08:33.186Z"
   },
   {
    "duration": 150,
    "start_time": "2023-02-07T09:08:33.355Z"
   },
   {
    "duration": 6,
    "start_time": "2023-02-07T09:08:33.506Z"
   },
   {
    "duration": 329,
    "start_time": "2023-02-07T09:08:33.513Z"
   },
   {
    "duration": 173,
    "start_time": "2023-02-07T09:08:33.847Z"
   },
   {
    "duration": 20,
    "start_time": "2023-02-07T09:08:34.022Z"
   },
   {
    "duration": 9,
    "start_time": "2023-02-07T09:08:34.044Z"
   },
   {
    "duration": 8,
    "start_time": "2023-02-07T09:08:34.055Z"
   },
   {
    "duration": 3,
    "start_time": "2023-02-07T09:08:37.966Z"
   },
   {
    "duration": 30,
    "start_time": "2023-02-07T09:09:24.161Z"
   },
   {
    "duration": 340,
    "start_time": "2023-02-07T09:12:17.425Z"
   },
   {
    "duration": 339,
    "start_time": "2023-02-07T09:12:28.807Z"
   },
   {
    "duration": 312,
    "start_time": "2023-02-07T09:13:02.837Z"
   },
   {
    "duration": 255,
    "start_time": "2023-02-07T09:13:18.508Z"
   },
   {
    "duration": 315,
    "start_time": "2023-02-07T09:14:19.674Z"
   },
   {
    "duration": 173,
    "start_time": "2023-02-07T09:15:29.921Z"
   },
   {
    "duration": 159,
    "start_time": "2023-02-07T09:19:03.109Z"
   },
   {
    "duration": 142,
    "start_time": "2023-02-07T09:19:56.385Z"
   },
   {
    "duration": 20,
    "start_time": "2023-02-07T09:20:39.258Z"
   },
   {
    "duration": 16,
    "start_time": "2023-02-07T09:26:40.462Z"
   },
   {
    "duration": 54,
    "start_time": "2023-02-08T05:29:37.309Z"
   }
  ],
  "kernelspec": {
   "display_name": "Python 3 (ipykernel)",
   "language": "python",
   "name": "python3"
  },
  "language_info": {
   "codemirror_mode": {
    "name": "ipython",
    "version": 3
   },
   "file_extension": ".py",
   "mimetype": "text/x-python",
   "name": "python",
   "nbconvert_exporter": "python",
   "pygments_lexer": "ipython3",
   "version": "3.9.5"
  },
  "toc": {
   "base_numbering": 1,
   "nav_menu": {},
   "number_sections": true,
   "sideBar": true,
   "skip_h1_title": true,
   "title_cell": "Table of Contents",
   "title_sidebar": "Contents",
   "toc_cell": false,
   "toc_position": {
    "height": "calc(100% - 180px)",
    "left": "10px",
    "top": "150px",
    "width": "182.35px"
   },
   "toc_section_display": true,
   "toc_window_display": true
  }
 },
 "nbformat": 4,
 "nbformat_minor": 2
}
