{
 "cells": [
  {
   "cell_type": "markdown",
   "id": "64e8ce21",
   "metadata": {
    "deletable": false,
    "editable": false,
    "id": "c81daeeb"
   },
   "source": [
    "# Исследование надежности заемщиков\n"
   ]
  },
  {
   "cell_type": "markdown",
   "id": "67a91af4",
   "metadata": {
    "deletable": false,
    "editable": false,
    "id": "827c20bf"
   },
   "source": [
    "Во второй части проекта вы выполните шаги 3 и 4. Их вручную проверит ревьюер.\n",
    "Чтобы вам не пришлось писать код заново для шагов 1 и 2, мы добавили авторские решения в ячейки с кодом. \n",
    "\n"
   ]
  },
  {
   "cell_type": "markdown",
   "id": "34eb569e",
   "metadata": {
    "deletable": false,
    "editable": false,
    "id": "744d7639"
   },
   "source": [
    "## Откройте таблицу и изучите общую информацию о данных"
   ]
  },
  {
   "cell_type": "markdown",
   "id": "5e8edf59",
   "metadata": {
    "deletable": false,
    "editable": false,
    "id": "e7a14c31"
   },
   "source": [
    "**Задание 1. Импортируйте библиотеку pandas. Считайте данные из csv-файла в датафрейм и сохраните в переменную `data`. Путь к файлу:**\n",
    "\n",
    "`/datasets/data.csv`"
   ]
  },
  {
   "cell_type": "code",
   "execution_count": 1,
   "id": "35e4176e",
   "metadata": {
    "deletable": false,
    "id": "7bcf75c9"
   },
   "outputs": [],
   "source": [
    "import pandas as pd\n",
    "\n",
    "try:\n",
    "    data = pd.read_csv('/datasets/data.csv')\n",
    "except:\n",
    "    data = pd.read_csv('https://code.s3.yandex.net/datasets/data.csv')"
   ]
  },
  {
   "cell_type": "markdown",
   "id": "02e21a30",
   "metadata": {
    "deletable": false,
    "editable": false,
    "id": "b8038fe3"
   },
   "source": [
    "**Задание 2. Выведите первые 20 строчек датафрейма `data` на экран.**"
   ]
  },
  {
   "cell_type": "code",
   "execution_count": 2,
   "id": "3b1edbd8",
   "metadata": {
    "deletable": false,
    "id": "2a7cab99",
    "outputId": "1a8f3ef2-d323-4ec2-ddf7-89670b5944c4"
   },
   "outputs": [
    {
     "data": {
      "text/html": [
       "<div>\n",
       "<style scoped>\n",
       "    .dataframe tbody tr th:only-of-type {\n",
       "        vertical-align: middle;\n",
       "    }\n",
       "\n",
       "    .dataframe tbody tr th {\n",
       "        vertical-align: top;\n",
       "    }\n",
       "\n",
       "    .dataframe thead th {\n",
       "        text-align: right;\n",
       "    }\n",
       "</style>\n",
       "<table border=\"1\" class=\"dataframe\">\n",
       "  <thead>\n",
       "    <tr style=\"text-align: right;\">\n",
       "      <th></th>\n",
       "      <th>children</th>\n",
       "      <th>days_employed</th>\n",
       "      <th>dob_years</th>\n",
       "      <th>education</th>\n",
       "      <th>education_id</th>\n",
       "      <th>family_status</th>\n",
       "      <th>family_status_id</th>\n",
       "      <th>gender</th>\n",
       "      <th>income_type</th>\n",
       "      <th>debt</th>\n",
       "      <th>total_income</th>\n",
       "      <th>purpose</th>\n",
       "    </tr>\n",
       "  </thead>\n",
       "  <tbody>\n",
       "    <tr>\n",
       "      <th>0</th>\n",
       "      <td>1</td>\n",
       "      <td>-8437.673028</td>\n",
       "      <td>42</td>\n",
       "      <td>высшее</td>\n",
       "      <td>0</td>\n",
       "      <td>женат / замужем</td>\n",
       "      <td>0</td>\n",
       "      <td>F</td>\n",
       "      <td>сотрудник</td>\n",
       "      <td>0</td>\n",
       "      <td>253875.639453</td>\n",
       "      <td>покупка жилья</td>\n",
       "    </tr>\n",
       "    <tr>\n",
       "      <th>1</th>\n",
       "      <td>1</td>\n",
       "      <td>-4024.803754</td>\n",
       "      <td>36</td>\n",
       "      <td>среднее</td>\n",
       "      <td>1</td>\n",
       "      <td>женат / замужем</td>\n",
       "      <td>0</td>\n",
       "      <td>F</td>\n",
       "      <td>сотрудник</td>\n",
       "      <td>0</td>\n",
       "      <td>112080.014102</td>\n",
       "      <td>приобретение автомобиля</td>\n",
       "    </tr>\n",
       "    <tr>\n",
       "      <th>2</th>\n",
       "      <td>0</td>\n",
       "      <td>-5623.422610</td>\n",
       "      <td>33</td>\n",
       "      <td>Среднее</td>\n",
       "      <td>1</td>\n",
       "      <td>женат / замужем</td>\n",
       "      <td>0</td>\n",
       "      <td>M</td>\n",
       "      <td>сотрудник</td>\n",
       "      <td>0</td>\n",
       "      <td>145885.952297</td>\n",
       "      <td>покупка жилья</td>\n",
       "    </tr>\n",
       "    <tr>\n",
       "      <th>3</th>\n",
       "      <td>3</td>\n",
       "      <td>-4124.747207</td>\n",
       "      <td>32</td>\n",
       "      <td>среднее</td>\n",
       "      <td>1</td>\n",
       "      <td>женат / замужем</td>\n",
       "      <td>0</td>\n",
       "      <td>M</td>\n",
       "      <td>сотрудник</td>\n",
       "      <td>0</td>\n",
       "      <td>267628.550329</td>\n",
       "      <td>дополнительное образование</td>\n",
       "    </tr>\n",
       "    <tr>\n",
       "      <th>4</th>\n",
       "      <td>0</td>\n",
       "      <td>340266.072047</td>\n",
       "      <td>53</td>\n",
       "      <td>среднее</td>\n",
       "      <td>1</td>\n",
       "      <td>гражданский брак</td>\n",
       "      <td>1</td>\n",
       "      <td>F</td>\n",
       "      <td>пенсионер</td>\n",
       "      <td>0</td>\n",
       "      <td>158616.077870</td>\n",
       "      <td>сыграть свадьбу</td>\n",
       "    </tr>\n",
       "    <tr>\n",
       "      <th>5</th>\n",
       "      <td>0</td>\n",
       "      <td>-926.185831</td>\n",
       "      <td>27</td>\n",
       "      <td>высшее</td>\n",
       "      <td>0</td>\n",
       "      <td>гражданский брак</td>\n",
       "      <td>1</td>\n",
       "      <td>M</td>\n",
       "      <td>компаньон</td>\n",
       "      <td>0</td>\n",
       "      <td>255763.565419</td>\n",
       "      <td>покупка жилья</td>\n",
       "    </tr>\n",
       "    <tr>\n",
       "      <th>6</th>\n",
       "      <td>0</td>\n",
       "      <td>-2879.202052</td>\n",
       "      <td>43</td>\n",
       "      <td>высшее</td>\n",
       "      <td>0</td>\n",
       "      <td>женат / замужем</td>\n",
       "      <td>0</td>\n",
       "      <td>F</td>\n",
       "      <td>компаньон</td>\n",
       "      <td>0</td>\n",
       "      <td>240525.971920</td>\n",
       "      <td>операции с жильем</td>\n",
       "    </tr>\n",
       "    <tr>\n",
       "      <th>7</th>\n",
       "      <td>0</td>\n",
       "      <td>-152.779569</td>\n",
       "      <td>50</td>\n",
       "      <td>СРЕДНЕЕ</td>\n",
       "      <td>1</td>\n",
       "      <td>женат / замужем</td>\n",
       "      <td>0</td>\n",
       "      <td>M</td>\n",
       "      <td>сотрудник</td>\n",
       "      <td>0</td>\n",
       "      <td>135823.934197</td>\n",
       "      <td>образование</td>\n",
       "    </tr>\n",
       "    <tr>\n",
       "      <th>8</th>\n",
       "      <td>2</td>\n",
       "      <td>-6929.865299</td>\n",
       "      <td>35</td>\n",
       "      <td>ВЫСШЕЕ</td>\n",
       "      <td>0</td>\n",
       "      <td>гражданский брак</td>\n",
       "      <td>1</td>\n",
       "      <td>F</td>\n",
       "      <td>сотрудник</td>\n",
       "      <td>0</td>\n",
       "      <td>95856.832424</td>\n",
       "      <td>на проведение свадьбы</td>\n",
       "    </tr>\n",
       "    <tr>\n",
       "      <th>9</th>\n",
       "      <td>0</td>\n",
       "      <td>-2188.756445</td>\n",
       "      <td>41</td>\n",
       "      <td>среднее</td>\n",
       "      <td>1</td>\n",
       "      <td>женат / замужем</td>\n",
       "      <td>0</td>\n",
       "      <td>M</td>\n",
       "      <td>сотрудник</td>\n",
       "      <td>0</td>\n",
       "      <td>144425.938277</td>\n",
       "      <td>покупка жилья для семьи</td>\n",
       "    </tr>\n",
       "    <tr>\n",
       "      <th>10</th>\n",
       "      <td>2</td>\n",
       "      <td>-4171.483647</td>\n",
       "      <td>36</td>\n",
       "      <td>высшее</td>\n",
       "      <td>0</td>\n",
       "      <td>женат / замужем</td>\n",
       "      <td>0</td>\n",
       "      <td>M</td>\n",
       "      <td>компаньон</td>\n",
       "      <td>0</td>\n",
       "      <td>113943.491460</td>\n",
       "      <td>покупка недвижимости</td>\n",
       "    </tr>\n",
       "    <tr>\n",
       "      <th>11</th>\n",
       "      <td>0</td>\n",
       "      <td>-792.701887</td>\n",
       "      <td>40</td>\n",
       "      <td>среднее</td>\n",
       "      <td>1</td>\n",
       "      <td>женат / замужем</td>\n",
       "      <td>0</td>\n",
       "      <td>F</td>\n",
       "      <td>сотрудник</td>\n",
       "      <td>0</td>\n",
       "      <td>77069.234271</td>\n",
       "      <td>покупка коммерческой недвижимости</td>\n",
       "    </tr>\n",
       "    <tr>\n",
       "      <th>12</th>\n",
       "      <td>0</td>\n",
       "      <td>NaN</td>\n",
       "      <td>65</td>\n",
       "      <td>среднее</td>\n",
       "      <td>1</td>\n",
       "      <td>гражданский брак</td>\n",
       "      <td>1</td>\n",
       "      <td>M</td>\n",
       "      <td>пенсионер</td>\n",
       "      <td>0</td>\n",
       "      <td>NaN</td>\n",
       "      <td>сыграть свадьбу</td>\n",
       "    </tr>\n",
       "    <tr>\n",
       "      <th>13</th>\n",
       "      <td>0</td>\n",
       "      <td>-1846.641941</td>\n",
       "      <td>54</td>\n",
       "      <td>неоконченное высшее</td>\n",
       "      <td>2</td>\n",
       "      <td>женат / замужем</td>\n",
       "      <td>0</td>\n",
       "      <td>F</td>\n",
       "      <td>сотрудник</td>\n",
       "      <td>0</td>\n",
       "      <td>130458.228857</td>\n",
       "      <td>приобретение автомобиля</td>\n",
       "    </tr>\n",
       "    <tr>\n",
       "      <th>14</th>\n",
       "      <td>0</td>\n",
       "      <td>-1844.956182</td>\n",
       "      <td>56</td>\n",
       "      <td>высшее</td>\n",
       "      <td>0</td>\n",
       "      <td>гражданский брак</td>\n",
       "      <td>1</td>\n",
       "      <td>F</td>\n",
       "      <td>компаньон</td>\n",
       "      <td>1</td>\n",
       "      <td>165127.911772</td>\n",
       "      <td>покупка жилой недвижимости</td>\n",
       "    </tr>\n",
       "    <tr>\n",
       "      <th>15</th>\n",
       "      <td>1</td>\n",
       "      <td>-972.364419</td>\n",
       "      <td>26</td>\n",
       "      <td>среднее</td>\n",
       "      <td>1</td>\n",
       "      <td>женат / замужем</td>\n",
       "      <td>0</td>\n",
       "      <td>F</td>\n",
       "      <td>сотрудник</td>\n",
       "      <td>0</td>\n",
       "      <td>116820.904450</td>\n",
       "      <td>строительство собственной недвижимости</td>\n",
       "    </tr>\n",
       "    <tr>\n",
       "      <th>16</th>\n",
       "      <td>0</td>\n",
       "      <td>-1719.934226</td>\n",
       "      <td>35</td>\n",
       "      <td>среднее</td>\n",
       "      <td>1</td>\n",
       "      <td>женат / замужем</td>\n",
       "      <td>0</td>\n",
       "      <td>F</td>\n",
       "      <td>сотрудник</td>\n",
       "      <td>0</td>\n",
       "      <td>289202.704229</td>\n",
       "      <td>недвижимость</td>\n",
       "    </tr>\n",
       "    <tr>\n",
       "      <th>17</th>\n",
       "      <td>0</td>\n",
       "      <td>-2369.999720</td>\n",
       "      <td>33</td>\n",
       "      <td>высшее</td>\n",
       "      <td>0</td>\n",
       "      <td>гражданский брак</td>\n",
       "      <td>1</td>\n",
       "      <td>M</td>\n",
       "      <td>сотрудник</td>\n",
       "      <td>0</td>\n",
       "      <td>90410.586745</td>\n",
       "      <td>строительство недвижимости</td>\n",
       "    </tr>\n",
       "    <tr>\n",
       "      <th>18</th>\n",
       "      <td>0</td>\n",
       "      <td>400281.136913</td>\n",
       "      <td>53</td>\n",
       "      <td>среднее</td>\n",
       "      <td>1</td>\n",
       "      <td>вдовец / вдова</td>\n",
       "      <td>2</td>\n",
       "      <td>F</td>\n",
       "      <td>пенсионер</td>\n",
       "      <td>0</td>\n",
       "      <td>56823.777243</td>\n",
       "      <td>на покупку подержанного автомобиля</td>\n",
       "    </tr>\n",
       "    <tr>\n",
       "      <th>19</th>\n",
       "      <td>0</td>\n",
       "      <td>-10038.818549</td>\n",
       "      <td>48</td>\n",
       "      <td>СРЕДНЕЕ</td>\n",
       "      <td>1</td>\n",
       "      <td>в разводе</td>\n",
       "      <td>3</td>\n",
       "      <td>F</td>\n",
       "      <td>сотрудник</td>\n",
       "      <td>0</td>\n",
       "      <td>242831.107982</td>\n",
       "      <td>на покупку своего автомобиля</td>\n",
       "    </tr>\n",
       "  </tbody>\n",
       "</table>\n",
       "</div>"
      ],
      "text/plain": [
       "    children  days_employed  dob_years            education  education_id  \\\n",
       "0          1   -8437.673028         42               высшее             0   \n",
       "1          1   -4024.803754         36              среднее             1   \n",
       "2          0   -5623.422610         33              Среднее             1   \n",
       "3          3   -4124.747207         32              среднее             1   \n",
       "4          0  340266.072047         53              среднее             1   \n",
       "5          0    -926.185831         27               высшее             0   \n",
       "6          0   -2879.202052         43               высшее             0   \n",
       "7          0    -152.779569         50              СРЕДНЕЕ             1   \n",
       "8          2   -6929.865299         35               ВЫСШЕЕ             0   \n",
       "9          0   -2188.756445         41              среднее             1   \n",
       "10         2   -4171.483647         36               высшее             0   \n",
       "11         0    -792.701887         40              среднее             1   \n",
       "12         0            NaN         65              среднее             1   \n",
       "13         0   -1846.641941         54  неоконченное высшее             2   \n",
       "14         0   -1844.956182         56               высшее             0   \n",
       "15         1    -972.364419         26              среднее             1   \n",
       "16         0   -1719.934226         35              среднее             1   \n",
       "17         0   -2369.999720         33               высшее             0   \n",
       "18         0  400281.136913         53              среднее             1   \n",
       "19         0  -10038.818549         48              СРЕДНЕЕ             1   \n",
       "\n",
       "       family_status  family_status_id gender income_type  debt  \\\n",
       "0    женат / замужем                 0      F   сотрудник     0   \n",
       "1    женат / замужем                 0      F   сотрудник     0   \n",
       "2    женат / замужем                 0      M   сотрудник     0   \n",
       "3    женат / замужем                 0      M   сотрудник     0   \n",
       "4   гражданский брак                 1      F   пенсионер     0   \n",
       "5   гражданский брак                 1      M   компаньон     0   \n",
       "6    женат / замужем                 0      F   компаньон     0   \n",
       "7    женат / замужем                 0      M   сотрудник     0   \n",
       "8   гражданский брак                 1      F   сотрудник     0   \n",
       "9    женат / замужем                 0      M   сотрудник     0   \n",
       "10   женат / замужем                 0      M   компаньон     0   \n",
       "11   женат / замужем                 0      F   сотрудник     0   \n",
       "12  гражданский брак                 1      M   пенсионер     0   \n",
       "13   женат / замужем                 0      F   сотрудник     0   \n",
       "14  гражданский брак                 1      F   компаньон     1   \n",
       "15   женат / замужем                 0      F   сотрудник     0   \n",
       "16   женат / замужем                 0      F   сотрудник     0   \n",
       "17  гражданский брак                 1      M   сотрудник     0   \n",
       "18    вдовец / вдова                 2      F   пенсионер     0   \n",
       "19         в разводе                 3      F   сотрудник     0   \n",
       "\n",
       "     total_income                                 purpose  \n",
       "0   253875.639453                           покупка жилья  \n",
       "1   112080.014102                 приобретение автомобиля  \n",
       "2   145885.952297                           покупка жилья  \n",
       "3   267628.550329              дополнительное образование  \n",
       "4   158616.077870                         сыграть свадьбу  \n",
       "5   255763.565419                           покупка жилья  \n",
       "6   240525.971920                       операции с жильем  \n",
       "7   135823.934197                             образование  \n",
       "8    95856.832424                   на проведение свадьбы  \n",
       "9   144425.938277                 покупка жилья для семьи  \n",
       "10  113943.491460                    покупка недвижимости  \n",
       "11   77069.234271       покупка коммерческой недвижимости  \n",
       "12            NaN                         сыграть свадьбу  \n",
       "13  130458.228857                 приобретение автомобиля  \n",
       "14  165127.911772              покупка жилой недвижимости  \n",
       "15  116820.904450  строительство собственной недвижимости  \n",
       "16  289202.704229                            недвижимость  \n",
       "17   90410.586745              строительство недвижимости  \n",
       "18   56823.777243      на покупку подержанного автомобиля  \n",
       "19  242831.107982            на покупку своего автомобиля  "
      ]
     },
     "execution_count": 2,
     "metadata": {},
     "output_type": "execute_result"
    }
   ],
   "source": [
    "data.head(20)"
   ]
  },
  {
   "cell_type": "markdown",
   "id": "afeb64d4",
   "metadata": {
    "deletable": false,
    "editable": false,
    "id": "1c12e233"
   },
   "source": [
    "**Задание 3. Выведите основную информацию о датафрейме с помощью метода `info()`.**"
   ]
  },
  {
   "cell_type": "code",
   "execution_count": 3,
   "id": "4e3014f5",
   "metadata": {
    "deletable": false,
    "id": "2b757bca",
    "outputId": "15376089-8dad-46c9-b520-c05248d43158"
   },
   "outputs": [
    {
     "name": "stdout",
     "output_type": "stream",
     "text": [
      "<class 'pandas.core.frame.DataFrame'>\n",
      "RangeIndex: 21525 entries, 0 to 21524\n",
      "Data columns (total 12 columns):\n",
      " #   Column            Non-Null Count  Dtype  \n",
      "---  ------            --------------  -----  \n",
      " 0   children          21525 non-null  int64  \n",
      " 1   days_employed     19351 non-null  float64\n",
      " 2   dob_years         21525 non-null  int64  \n",
      " 3   education         21525 non-null  object \n",
      " 4   education_id      21525 non-null  int64  \n",
      " 5   family_status     21525 non-null  object \n",
      " 6   family_status_id  21525 non-null  int64  \n",
      " 7   gender            21525 non-null  object \n",
      " 8   income_type       21525 non-null  object \n",
      " 9   debt              21525 non-null  int64  \n",
      " 10  total_income      19351 non-null  float64\n",
      " 11  purpose           21525 non-null  object \n",
      "dtypes: float64(2), int64(5), object(5)\n",
      "memory usage: 2.0+ MB\n"
     ]
    }
   ],
   "source": [
    "data.info()"
   ]
  },
  {
   "cell_type": "markdown",
   "id": "5f8cae2e",
   "metadata": {
    "deletable": false,
    "editable": false,
    "id": "333ec665"
   },
   "source": [
    "## Предобработка данных"
   ]
  },
  {
   "cell_type": "markdown",
   "id": "193b4d68",
   "metadata": {
    "deletable": false,
    "editable": false,
    "id": "02d92d53"
   },
   "source": [
    "### Удаление пропусков"
   ]
  },
  {
   "cell_type": "markdown",
   "id": "cfd713f0",
   "metadata": {
    "deletable": false,
    "editable": false,
    "id": "cd84967c"
   },
   "source": [
    "**Задание 4. Выведите количество пропущенных значений для каждого столбца. Используйте комбинацию двух методов.**"
   ]
  },
  {
   "cell_type": "code",
   "execution_count": 4,
   "id": "0367c25d",
   "metadata": {
    "deletable": false,
    "id": "7f9b2309",
    "outputId": "81f4d817-781c-465c-ed15-91ce4446810d"
   },
   "outputs": [
    {
     "data": {
      "text/plain": [
       "children               0\n",
       "days_employed       2174\n",
       "dob_years              0\n",
       "education              0\n",
       "education_id           0\n",
       "family_status          0\n",
       "family_status_id       0\n",
       "gender                 0\n",
       "income_type            0\n",
       "debt                   0\n",
       "total_income        2174\n",
       "purpose                0\n",
       "dtype: int64"
      ]
     },
     "execution_count": 4,
     "metadata": {},
     "output_type": "execute_result"
    }
   ],
   "source": [
    "data.isna().sum()"
   ]
  },
  {
   "cell_type": "markdown",
   "id": "9cc8f754",
   "metadata": {
    "deletable": false,
    "editable": false,
    "id": "db86e27b"
   },
   "source": [
    "**Задание 5. В двух столбцах есть пропущенные значения. Один из них — `days_employed`. Пропуски в этом столбце вы обработаете на следующем этапе. Другой столбец с пропущенными значениями — `total_income` — хранит данные о доходах. На сумму дохода сильнее всего влияет тип занятости, поэтому заполнить пропуски в этом столбце нужно медианным значением по каждому типу из столбца `income_type`. Например, у человека с типом занятости `сотрудник` пропуск в столбце `total_income` должен быть заполнен медианным доходом среди всех записей с тем же типом.**"
   ]
  },
  {
   "cell_type": "code",
   "execution_count": 5,
   "id": "e97cd133",
   "metadata": {
    "deletable": false,
    "id": "42006a93"
   },
   "outputs": [],
   "source": [
    "for t in data['income_type'].unique():\n",
    "    data.loc[(data['income_type'] == t) & (data['total_income'].isna()), 'total_income'] = \\\n",
    "    data.loc[(data['income_type'] == t), 'total_income'].median()"
   ]
  },
  {
   "cell_type": "markdown",
   "id": "99941057",
   "metadata": {
    "deletable": false,
    "editable": false,
    "id": "89da5ece"
   },
   "source": [
    "### Обработка аномальных значений"
   ]
  },
  {
   "cell_type": "markdown",
   "id": "a343c8cd",
   "metadata": {
    "deletable": false,
    "editable": false,
    "id": "57964554"
   },
   "source": [
    "**Задание 6. В данных могут встречаться артефакты (аномалии) — значения, которые не отражают действительность и появились по какой-то ошибке. таким артефактом будет отрицательное количество дней трудового стажа в столбце `days_employed`. Для реальных данных это нормально. Обработайте значения в этом столбце: замените все отрицательные значения положительными с помощью метода `abs()`.**"
   ]
  },
  {
   "cell_type": "code",
   "execution_count": 6,
   "id": "2e48381a",
   "metadata": {
    "deletable": false,
    "id": "f6f055bf"
   },
   "outputs": [],
   "source": [
    "data['days_employed'] = data['days_employed'].abs()"
   ]
  },
  {
   "cell_type": "markdown",
   "id": "493df247",
   "metadata": {
    "deletable": false,
    "editable": false,
    "id": "6107dd2f"
   },
   "source": [
    "**Задание 7. Для каждого типа занятости выведите медианное значение трудового стажа `days_employed` в днях.**"
   ]
  },
  {
   "cell_type": "code",
   "execution_count": 7,
   "id": "2d1758c8",
   "metadata": {
    "deletable": false,
    "id": "85a5faf6",
    "outputId": "801ef80e-522b-4668-f34e-565af7432bcf"
   },
   "outputs": [
    {
     "data": {
      "text/plain": [
       "income_type\n",
       "безработный        366413.652744\n",
       "в декрете            3296.759962\n",
       "госслужащий          2689.368353\n",
       "компаньон            1547.382223\n",
       "пенсионер          365213.306266\n",
       "предприниматель       520.848083\n",
       "сотрудник            1574.202821\n",
       "студент               578.751554\n",
       "Name: days_employed, dtype: float64"
      ]
     },
     "execution_count": 7,
     "metadata": {},
     "output_type": "execute_result"
    }
   ],
   "source": [
    "data.groupby('income_type')['days_employed'].agg('median')"
   ]
  },
  {
   "cell_type": "markdown",
   "id": "de392eec",
   "metadata": {
    "deletable": false,
    "editable": false,
    "id": "38d1a030"
   },
   "source": [
    "У двух типов (безработные и пенсионеры) получатся аномально большие значения. Исправить такие значения сложно, поэтому оставьте их как есть. Тем более этот столбец не понадобится вам для исследования."
   ]
  },
  {
   "cell_type": "markdown",
   "id": "bd0a4ec4",
   "metadata": {
    "deletable": false,
    "editable": false,
    "id": "d8a9f147"
   },
   "source": [
    "**Задание 8. Выведите перечень уникальных значений столбца `children`.**"
   ]
  },
  {
   "cell_type": "code",
   "execution_count": 8,
   "id": "fb83843e",
   "metadata": {
    "deletable": false,
    "id": "ef5056eb",
    "outputId": "6975b15c-7f95-4697-d16d-a0c79b657b03"
   },
   "outputs": [
    {
     "data": {
      "text/plain": [
       "array([ 1,  0,  3,  2, -1,  4, 20,  5])"
      ]
     },
     "execution_count": 8,
     "metadata": {},
     "output_type": "execute_result"
    }
   ],
   "source": [
    "data['children'].unique()"
   ]
  },
  {
   "cell_type": "markdown",
   "id": "91cb61b4",
   "metadata": {
    "deletable": false,
    "editable": false,
    "id": "40b9ebf2"
   },
   "source": [
    "**Задание 9. В столбце `children` есть два аномальных значения. Удалите строки, в которых встречаются такие аномальные значения из датафрейма `data`.**"
   ]
  },
  {
   "cell_type": "code",
   "execution_count": 9,
   "id": "ad553f4e",
   "metadata": {
    "deletable": false,
    "id": "3ff9801d"
   },
   "outputs": [],
   "source": [
    "data = data[(data['children'] != -1) & (data['children'] != 20)]"
   ]
  },
  {
   "cell_type": "markdown",
   "id": "4e0afeb3",
   "metadata": {
    "deletable": false,
    "editable": false,
    "id": "bbc4d0ce"
   },
   "source": [
    "**Задание 10. Ещё раз выведите перечень уникальных значений столбца `children`, чтобы убедиться, что артефакты удалены.**"
   ]
  },
  {
   "cell_type": "code",
   "execution_count": 10,
   "id": "0cddf05a",
   "metadata": {
    "deletable": false,
    "id": "ad4fa8b7",
    "outputId": "b2097101-d49d-44d9-901b-32a65c9463d1"
   },
   "outputs": [
    {
     "data": {
      "text/plain": [
       "array([1, 0, 3, 2, 4, 5])"
      ]
     },
     "execution_count": 10,
     "metadata": {},
     "output_type": "execute_result"
    }
   ],
   "source": [
    "data['children'].unique()"
   ]
  },
  {
   "cell_type": "markdown",
   "id": "f2694da7",
   "metadata": {
    "deletable": false,
    "editable": false,
    "id": "75440b63"
   },
   "source": [
    "### Удаление пропусков (продолжение)"
   ]
  },
  {
   "cell_type": "markdown",
   "id": "d62ba418",
   "metadata": {
    "deletable": false,
    "editable": false,
    "id": "f4ea573f"
   },
   "source": [
    "**Задание 11. Заполните пропуски в столбце `days_employed` медианными значениями по каждого типа занятости `income_type`.**"
   ]
  },
  {
   "cell_type": "code",
   "execution_count": 11,
   "id": "f1570fde",
   "metadata": {
    "deletable": false,
    "id": "af6b1a7e"
   },
   "outputs": [],
   "source": [
    "for t in data['income_type'].unique():\n",
    "    data.loc[(data['income_type'] == t) & (data['days_employed'].isna()), 'days_employed'] = \\\n",
    "    data.loc[(data['income_type'] == t), 'days_employed'].median()"
   ]
  },
  {
   "cell_type": "markdown",
   "id": "f604b3b5",
   "metadata": {
    "deletable": false,
    "editable": false,
    "id": "2753f40d"
   },
   "source": [
    "**Задание 12. Убедитесь, что все пропуски заполнены. Проверьте себя и ещё раз выведите количество пропущенных значений для каждого столбца с помощью двух методов.**"
   ]
  },
  {
   "cell_type": "code",
   "execution_count": 12,
   "id": "b5c573d5",
   "metadata": {
    "deletable": false,
    "id": "55f78bc2",
    "outputId": "8da1e4e1-358e-4e87-98c9-f261bce0a7b2"
   },
   "outputs": [
    {
     "data": {
      "text/plain": [
       "children            0\n",
       "days_employed       0\n",
       "dob_years           0\n",
       "education           0\n",
       "education_id        0\n",
       "family_status       0\n",
       "family_status_id    0\n",
       "gender              0\n",
       "income_type         0\n",
       "debt                0\n",
       "total_income        0\n",
       "purpose             0\n",
       "dtype: int64"
      ]
     },
     "execution_count": 12,
     "metadata": {},
     "output_type": "execute_result"
    }
   ],
   "source": [
    "data.isna().sum()"
   ]
  },
  {
   "cell_type": "markdown",
   "id": "7ca4b786",
   "metadata": {
    "deletable": false,
    "editable": false,
    "id": "ddc81e43"
   },
   "source": [
    "### Изменение типов данных"
   ]
  },
  {
   "cell_type": "markdown",
   "id": "bbf1c5db",
   "metadata": {
    "deletable": false,
    "editable": false,
    "id": "42d19d24"
   },
   "source": [
    "**Задание 13. Замените вещественный тип данных в столбце `total_income` на целочисленный с помощью метода `astype()`.**"
   ]
  },
  {
   "cell_type": "code",
   "execution_count": 13,
   "id": "a123cafb",
   "metadata": {
    "deletable": false,
    "id": "920b65ad"
   },
   "outputs": [],
   "source": [
    "data['total_income'] = data['total_income'].astype(int)"
   ]
  },
  {
   "cell_type": "markdown",
   "id": "32668e97",
   "metadata": {
    "deletable": false,
    "editable": false,
    "id": "80c420ba"
   },
   "source": [
    "### Обработка дубликатов"
   ]
  },
  {
   "cell_type": "markdown",
   "id": "9e2fad03",
   "metadata": {
    "deletable": false,
    "editable": false
   },
   "source": [
    "**Задание 14. Обработайте неявные дубликаты в столбце `education`. В этом столбце есть одни и те же значения, но записанные по-разному: с использованием заглавных и строчных букв. Приведите их к нижнему регистру. Проверьте остальные столбцы.**"
   ]
  },
  {
   "cell_type": "code",
   "execution_count": 14,
   "id": "b9a4d965",
   "metadata": {
    "deletable": false
   },
   "outputs": [],
   "source": [
    "data['education'] = data['education'].str.lower()"
   ]
  },
  {
   "cell_type": "markdown",
   "id": "3edc42db",
   "metadata": {
    "deletable": false,
    "editable": false,
    "id": "dc587695"
   },
   "source": [
    "**Задание 15. Выведите на экран количество строк-дубликатов в данных. Если такие строки присутствуют, удалите их.**"
   ]
  },
  {
   "cell_type": "code",
   "execution_count": 15,
   "id": "9cfab95c",
   "metadata": {
    "deletable": false,
    "id": "3ee445e4",
    "outputId": "9684deba-1934-42d1-99e1-cda61740f822"
   },
   "outputs": [
    {
     "data": {
      "text/plain": [
       "71"
      ]
     },
     "execution_count": 15,
     "metadata": {},
     "output_type": "execute_result"
    }
   ],
   "source": [
    "data.duplicated().sum()"
   ]
  },
  {
   "cell_type": "code",
   "execution_count": 16,
   "id": "375abe54",
   "metadata": {
    "deletable": false,
    "id": "8575fe05"
   },
   "outputs": [],
   "source": [
    "data = data.drop_duplicates()"
   ]
  },
  {
   "cell_type": "markdown",
   "id": "eecfffcc",
   "metadata": {
    "deletable": false,
    "editable": false,
    "id": "9904cf55"
   },
   "source": [
    "### Категоризация данных"
   ]
  },
  {
   "cell_type": "markdown",
   "id": "f62af202",
   "metadata": {
    "deletable": false,
    "editable": false,
    "id": "72fcc8a2"
   },
   "source": [
    "**Задание 16. На основании диапазонов, указанных ниже, создайте в датафрейме `data` столбец `total_income_category` с категориями:**\n",
    "\n",
    "- 0–30000 — `'E'`;\n",
    "- 30001–50000 — `'D'`;\n",
    "- 50001–200000 — `'C'`;\n",
    "- 200001–1000000 — `'B'`;\n",
    "- 1000001 и выше — `'A'`.\n",
    "\n",
    "\n",
    "**Например, кредитополучателю с доходом 25000 нужно назначить категорию `'E'`, а клиенту, получающему 235000, — `'B'`. Используйте собственную функцию с именем `categorize_income()` и метод `apply()`.**"
   ]
  },
  {
   "cell_type": "code",
   "execution_count": 17,
   "id": "c24a1ca5",
   "metadata": {
    "deletable": false,
    "id": "e1771346"
   },
   "outputs": [],
   "source": [
    "def categorize_income(income):\n",
    "    try:\n",
    "        if 0 <= income <= 30000:\n",
    "            return 'E'\n",
    "        elif 30001 <= income <= 50000:\n",
    "            return 'D'\n",
    "        elif 50001 <= income <= 200000:\n",
    "            return 'C'\n",
    "        elif 200001 <= income <= 1000000:\n",
    "            return 'B'\n",
    "        elif income >= 1000001:\n",
    "            return 'A'\n",
    "    except:\n",
    "        pass"
   ]
  },
  {
   "cell_type": "code",
   "execution_count": 18,
   "id": "f018fdda",
   "metadata": {
    "deletable": false,
    "id": "d5f3586d"
   },
   "outputs": [],
   "source": [
    "data['total_income_category'] = data['total_income'].apply(categorize_income)"
   ]
  },
  {
   "cell_type": "markdown",
   "id": "0a9b2f38",
   "metadata": {
    "deletable": false,
    "editable": false,
    "id": "dde49b5c"
   },
   "source": [
    "**Задание 17. Выведите на экран перечень уникальных целей взятия кредита из столбца `purpose`.**"
   ]
  },
  {
   "cell_type": "code",
   "execution_count": 19,
   "id": "ca0ac080",
   "metadata": {
    "deletable": false,
    "id": "f67ce9b3",
    "outputId": "673c12d9-7d7e-4ae0-9812-c622c89dd244"
   },
   "outputs": [
    {
     "data": {
      "text/plain": [
       "array(['покупка жилья', 'приобретение автомобиля',\n",
       "       'дополнительное образование', 'сыграть свадьбу',\n",
       "       'операции с жильем', 'образование', 'на проведение свадьбы',\n",
       "       'покупка жилья для семьи', 'покупка недвижимости',\n",
       "       'покупка коммерческой недвижимости', 'покупка жилой недвижимости',\n",
       "       'строительство собственной недвижимости', 'недвижимость',\n",
       "       'строительство недвижимости', 'на покупку подержанного автомобиля',\n",
       "       'на покупку своего автомобиля',\n",
       "       'операции с коммерческой недвижимостью',\n",
       "       'строительство жилой недвижимости', 'жилье',\n",
       "       'операции со своей недвижимостью', 'автомобили',\n",
       "       'заняться образованием', 'сделка с подержанным автомобилем',\n",
       "       'получение образования', 'автомобиль', 'свадьба',\n",
       "       'получение дополнительного образования', 'покупка своего жилья',\n",
       "       'операции с недвижимостью', 'получение высшего образования',\n",
       "       'свой автомобиль', 'сделка с автомобилем',\n",
       "       'профильное образование', 'высшее образование',\n",
       "       'покупка жилья для сдачи', 'на покупку автомобиля', 'ремонт жилью',\n",
       "       'заняться высшим образованием'], dtype=object)"
      ]
     },
     "execution_count": 19,
     "metadata": {},
     "output_type": "execute_result"
    }
   ],
   "source": [
    "data['purpose'].unique()"
   ]
  },
  {
   "cell_type": "markdown",
   "id": "e63186c5",
   "metadata": {
    "deletable": false,
    "editable": false,
    "id": "85d0aef0"
   },
   "source": [
    "**Задание 18. Создайте функцию, которая на основании данных из столбца `purpose` сформирует новый столбец `purpose_category`, в который войдут следующие категории:**\n",
    "\n",
    "- `'операции с автомобилем'`,\n",
    "- `'операции с недвижимостью'`,\n",
    "- `'проведение свадьбы'`,\n",
    "- `'получение образования'`.\n",
    "\n",
    "**Например, если в столбце `purpose` находится подстрока `'на покупку автомобиля'`, то в столбце `purpose_category` должна появиться строка `'операции с автомобилем'`.**\n",
    "\n",
    "**Используйте собственную функцию с именем `categorize_purpose()` и метод `apply()`. Изучите данные в столбце `purpose` и определите, какие подстроки помогут вам правильно определить категорию.**"
   ]
  },
  {
   "cell_type": "code",
   "execution_count": 20,
   "id": "16223739",
   "metadata": {
    "deletable": false,
    "id": "e149fab4"
   },
   "outputs": [],
   "source": [
    "def categorize_purpose(row):\n",
    "    try:\n",
    "        if 'автом' in row:\n",
    "            return 'операции с автомобилем'\n",
    "        elif 'жил' in row or 'недвиж' in row:\n",
    "            return 'операции с недвижимостью'\n",
    "        elif 'свад' in row:\n",
    "            return 'проведение свадьбы'\n",
    "        elif 'образов' in row:\n",
    "            return 'получение образования'\n",
    "    except:\n",
    "        return 'нет категории'"
   ]
  },
  {
   "cell_type": "code",
   "execution_count": 21,
   "id": "82a2e124",
   "metadata": {
    "deletable": false,
    "id": "bf36e69b"
   },
   "outputs": [],
   "source": [
    "data['purpose_category'] = data['purpose'].apply(categorize_purpose)"
   ]
  },
  {
   "cell_type": "markdown",
   "id": "88600eeb",
   "metadata": {
    "deletable": false,
    "editable": false,
    "id": "09b242bf"
   },
   "source": [
    "### Шаг 3. Исследуйте данные и ответьте на вопросы"
   ]
  },
  {
   "cell_type": "markdown",
   "id": "1c40e7eb",
   "metadata": {
    "deletable": false,
    "editable": false,
    "id": "c5d66278"
   },
   "source": [
    "#### 3.1 Есть ли зависимость между количеством детей и возвратом кредита в срок?"
   ]
  },
  {
   "cell_type": "code",
   "execution_count": 22,
   "id": "342122ed",
   "metadata": {
    "deletable": false,
    "id": "2cacfc4a",
    "scrolled": true
   },
   "outputs": [
    {
     "data": {
      "text/html": [
       "<div>\n",
       "<style scoped>\n",
       "    .dataframe tbody tr th:only-of-type {\n",
       "        vertical-align: middle;\n",
       "    }\n",
       "\n",
       "    .dataframe tbody tr th {\n",
       "        vertical-align: top;\n",
       "    }\n",
       "\n",
       "    .dataframe thead th {\n",
       "        text-align: right;\n",
       "    }\n",
       "</style>\n",
       "<table border=\"1\" class=\"dataframe\">\n",
       "  <thead>\n",
       "    <tr style=\"text-align: right;\">\n",
       "      <th></th>\n",
       "      <th>Доля невозврата</th>\n",
       "      <th>Количество заемщиков</th>\n",
       "      <th>Количество должников</th>\n",
       "    </tr>\n",
       "    <tr>\n",
       "      <th>children</th>\n",
       "      <th></th>\n",
       "      <th></th>\n",
       "      <th></th>\n",
       "    </tr>\n",
       "  </thead>\n",
       "  <tbody>\n",
       "    <tr>\n",
       "      <th>0</th>\n",
       "      <td>0.075438</td>\n",
       "      <td>14091</td>\n",
       "      <td>1063</td>\n",
       "    </tr>\n",
       "    <tr>\n",
       "      <th>1</th>\n",
       "      <td>0.092346</td>\n",
       "      <td>4808</td>\n",
       "      <td>444</td>\n",
       "    </tr>\n",
       "    <tr>\n",
       "      <th>2</th>\n",
       "      <td>0.094542</td>\n",
       "      <td>2052</td>\n",
       "      <td>194</td>\n",
       "    </tr>\n",
       "    <tr>\n",
       "      <th>3</th>\n",
       "      <td>0.081818</td>\n",
       "      <td>330</td>\n",
       "      <td>27</td>\n",
       "    </tr>\n",
       "    <tr>\n",
       "      <th>4</th>\n",
       "      <td>0.097561</td>\n",
       "      <td>41</td>\n",
       "      <td>4</td>\n",
       "    </tr>\n",
       "    <tr>\n",
       "      <th>5</th>\n",
       "      <td>0.000000</td>\n",
       "      <td>9</td>\n",
       "      <td>0</td>\n",
       "    </tr>\n",
       "  </tbody>\n",
       "</table>\n",
       "</div>"
      ],
      "text/plain": [
       "          Доля невозврата  Количество заемщиков  Количество должников\n",
       "children                                                             \n",
       "0                0.075438                 14091                  1063\n",
       "1                0.092346                  4808                   444\n",
       "2                0.094542                  2052                   194\n",
       "3                0.081818                   330                    27\n",
       "4                0.097561                    41                     4\n",
       "5                0.000000                     9                     0"
      ]
     },
     "execution_count": 22,
     "metadata": {},
     "output_type": "execute_result"
    }
   ],
   "source": [
    "part = pd.DataFrame(data.groupby('children')['debt'].agg(['mean']).sort_values(by='mean', ascending = False))\n",
    "num = pd.DataFrame(data.groupby('children')['debt'].agg(['count']).sort_values(by='count', ascending = False))\n",
    "debt = pd.DataFrame(data.groupby('children')['debt'].agg(['sum']).sort_values(by='sum', ascending = False))\n",
    "part=part.merge(num, on='children', how='left')\n",
    "part=part.merge(debt, on='children', how='right')\n",
    "part = part.rename(columns={\n",
    "'mean'\n",
    ": \n",
    "'Доля невозврата'\n",
    ", \n",
    "'count'\n",
    ": \n",
    "'Количество заемщиков',\n",
    "'sum'\n",
    ": \n",
    "'Количество должников'\n",
    "})\n",
    "part"
   ]
  },
  {
   "cell_type": "markdown",
   "id": "73ab639b",
   "metadata": {
    "deletable": false,
    "id": "3a6b99ec"
   },
   "source": [
    "**Вывод: Наибольшее количество задолженников присутствует в группе людей, имеющих четверых детей, наименьшее - среди людей, не имеющих детей. Для большинства групп (людей, имеющих одного ребенка, не имеющих детей и имещих 4 и 2 детей) прослеживается следующая тенденция: чем больше у человека детей, тем скорее он будет задолженником. Эта теория не распространяется на людей, имеющих 3 детей (среди них задолженников меньше, чем у отцов/матерей двух детей и одного ребенка).\n",
    "Важно заметить, что точных выводов в данном случае мы получить не можем, так как категория людей, имеющих пятеро детей, слишком малочисленна для построения тенденции и учета полученных данных в общем выводе (5 клиентов в выборке).**  "
   ]
  },
  {
   "cell_type": "markdown",
   "id": "be8ff97c",
   "metadata": {
    "deletable": false,
    "editable": false,
    "id": "97be82ca"
   },
   "source": [
    "#### 3.2 Есть ли зависимость между семейным положением и возвратом кредита в срок?"
   ]
  },
  {
   "cell_type": "code",
   "execution_count": 23,
   "id": "62322bd3",
   "metadata": {
    "deletable": false,
    "id": "dc3f7ee8"
   },
   "outputs": [
    {
     "data": {
      "text/html": [
       "<div>\n",
       "<style scoped>\n",
       "    .dataframe tbody tr th:only-of-type {\n",
       "        vertical-align: middle;\n",
       "    }\n",
       "\n",
       "    .dataframe tbody tr th {\n",
       "        vertical-align: top;\n",
       "    }\n",
       "\n",
       "    .dataframe thead th {\n",
       "        text-align: right;\n",
       "    }\n",
       "</style>\n",
       "<table border=\"1\" class=\"dataframe\">\n",
       "  <thead>\n",
       "    <tr style=\"text-align: right;\">\n",
       "      <th></th>\n",
       "      <th>Доля невозврата</th>\n",
       "      <th>Количество заемщиков</th>\n",
       "      <th>Количество должников</th>\n",
       "    </tr>\n",
       "    <tr>\n",
       "      <th>family_status</th>\n",
       "      <th></th>\n",
       "      <th></th>\n",
       "      <th></th>\n",
       "    </tr>\n",
       "  </thead>\n",
       "  <tbody>\n",
       "    <tr>\n",
       "      <th>женат / замужем</th>\n",
       "      <td>0.075606</td>\n",
       "      <td>12261</td>\n",
       "      <td>927</td>\n",
       "    </tr>\n",
       "    <tr>\n",
       "      <th>гражданский брак</th>\n",
       "      <td>0.093130</td>\n",
       "      <td>4134</td>\n",
       "      <td>385</td>\n",
       "    </tr>\n",
       "    <tr>\n",
       "      <th>Не женат / не замужем</th>\n",
       "      <td>0.097639</td>\n",
       "      <td>2796</td>\n",
       "      <td>273</td>\n",
       "    </tr>\n",
       "    <tr>\n",
       "      <th>в разводе</th>\n",
       "      <td>0.070648</td>\n",
       "      <td>1189</td>\n",
       "      <td>84</td>\n",
       "    </tr>\n",
       "    <tr>\n",
       "      <th>вдовец / вдова</th>\n",
       "      <td>0.066246</td>\n",
       "      <td>951</td>\n",
       "      <td>63</td>\n",
       "    </tr>\n",
       "  </tbody>\n",
       "</table>\n",
       "</div>"
      ],
      "text/plain": [
       "                       Доля невозврата  Количество заемщиков  \\\n",
       "family_status                                                  \n",
       "женат / замужем               0.075606                 12261   \n",
       "гражданский брак              0.093130                  4134   \n",
       "Не женат / не замужем         0.097639                  2796   \n",
       "в разводе                     0.070648                  1189   \n",
       "вдовец / вдова                0.066246                   951   \n",
       "\n",
       "                       Количество должников  \n",
       "family_status                                \n",
       "женат / замужем                         927  \n",
       "гражданский брак                        385  \n",
       "Не женат / не замужем                   273  \n",
       "в разводе                                84  \n",
       "вдовец / вдова                           63  "
      ]
     },
     "execution_count": 23,
     "metadata": {},
     "output_type": "execute_result"
    }
   ],
   "source": [
    "part = pd.DataFrame(data.groupby('family_status')['debt'].agg(['mean']).sort_values(by='mean', ascending = False))\n",
    "num = pd.DataFrame(data.groupby('family_status')['debt'].agg(['count']).sort_values(by='count', ascending = False))\n",
    "debt = pd.DataFrame(data.groupby('family_status')['debt'].agg(['sum']).sort_values(by='sum', ascending = False))\n",
    "part=part.merge(num, on='family_status', how='left')\n",
    "part=part.merge(debt, on='family_status', how='right')\n",
    "part = part.rename(columns={\n",
    "'mean'\n",
    ": \n",
    "'Доля невозврата'\n",
    ", \n",
    "'count'\n",
    ": \n",
    "'Количество заемщиков',\n",
    "'sum'\n",
    ": \n",
    "'Количество должников'\n",
    "})\n",
    "part"
   ]
  },
  {
   "cell_type": "markdown",
   "id": "e31eb739",
   "metadata": {
    "deletable": false,
    "id": "1cef7837"
   },
   "source": [
    "**Вывод: Больше всего задолженностей имеется у людей, никогда не сосотоящих в браке, меньше всего - у людей, которые больше не состоят в браке (в любом виде) по каким бы то ни было причинам (они находятся в разводе или стали вдовой/вдовцом).** "
   ]
  },
  {
   "cell_type": "markdown",
   "id": "a0b6dd3c",
   "metadata": {
    "deletable": false,
    "editable": false,
    "id": "1e8b2fca"
   },
   "source": [
    "#### 3.3 Есть ли зависимость между уровнем дохода и возвратом кредита в срок?"
   ]
  },
  {
   "cell_type": "code",
   "execution_count": 24,
   "id": "97bdd443",
   "metadata": {
    "deletable": false,
    "id": "cd7e3720"
   },
   "outputs": [
    {
     "data": {
      "text/html": [
       "<div>\n",
       "<style scoped>\n",
       "    .dataframe tbody tr th:only-of-type {\n",
       "        vertical-align: middle;\n",
       "    }\n",
       "\n",
       "    .dataframe tbody tr th {\n",
       "        vertical-align: top;\n",
       "    }\n",
       "\n",
       "    .dataframe thead th {\n",
       "        text-align: right;\n",
       "    }\n",
       "</style>\n",
       "<table border=\"1\" class=\"dataframe\">\n",
       "  <thead>\n",
       "    <tr style=\"text-align: right;\">\n",
       "      <th></th>\n",
       "      <th>Доля невозврата</th>\n",
       "      <th>Количество заемщиков</th>\n",
       "      <th>Количество должников</th>\n",
       "    </tr>\n",
       "    <tr>\n",
       "      <th>total_income_category</th>\n",
       "      <th></th>\n",
       "      <th></th>\n",
       "      <th></th>\n",
       "    </tr>\n",
       "  </thead>\n",
       "  <tbody>\n",
       "    <tr>\n",
       "      <th>E</th>\n",
       "      <td>0.090909</td>\n",
       "      <td>22</td>\n",
       "      <td>2</td>\n",
       "    </tr>\n",
       "    <tr>\n",
       "      <th>C</th>\n",
       "      <td>0.084982</td>\n",
       "      <td>15921</td>\n",
       "      <td>1353</td>\n",
       "    </tr>\n",
       "    <tr>\n",
       "      <th>A</th>\n",
       "      <td>0.080000</td>\n",
       "      <td>25</td>\n",
       "      <td>2</td>\n",
       "    </tr>\n",
       "    <tr>\n",
       "      <th>B</th>\n",
       "      <td>0.070602</td>\n",
       "      <td>5014</td>\n",
       "      <td>354</td>\n",
       "    </tr>\n",
       "    <tr>\n",
       "      <th>D</th>\n",
       "      <td>0.060172</td>\n",
       "      <td>349</td>\n",
       "      <td>21</td>\n",
       "    </tr>\n",
       "  </tbody>\n",
       "</table>\n",
       "</div>"
      ],
      "text/plain": [
       "                       Доля невозврата  Количество заемщиков  \\\n",
       "total_income_category                                          \n",
       "E                             0.090909                    22   \n",
       "C                             0.084982                 15921   \n",
       "A                             0.080000                    25   \n",
       "B                             0.070602                  5014   \n",
       "D                             0.060172                   349   \n",
       "\n",
       "                       Количество должников  \n",
       "total_income_category                        \n",
       "E                                         2  \n",
       "C                                      1353  \n",
       "A                                         2  \n",
       "B                                       354  \n",
       "D                                        21  "
      ]
     },
     "execution_count": 24,
     "metadata": {},
     "output_type": "execute_result"
    }
   ],
   "source": [
    "part = pd.DataFrame(data.groupby('total_income_category')['debt'].agg(['mean']).sort_values(by='mean', ascending = False))\n",
    "num = pd.DataFrame(data.groupby('total_income_category')['debt'].agg(['count']).sort_values(by='count', ascending = False))\n",
    "debt = pd.DataFrame(data.groupby('total_income_category')['debt'].agg(['sum']).sort_values(by='sum', ascending = False))\n",
    "part=part.merge(num, on='total_income_category', how='left')\n",
    "part=part.merge(debt, on='total_income_category', how='right')\n",
    "part = part.rename(columns={\n",
    "'mean'\n",
    ": \n",
    "'Доля невозврата'\n",
    ", \n",
    "'count'\n",
    ": \n",
    "'Количество заемщиков',\n",
    "'sum'\n",
    ": \n",
    "'Количество должников'\n",
    "})\n",
    "part = part.sort_values(by='Доля невозврата', ascending = False)\n",
    "part"
   ]
  },
  {
   "cell_type": "markdown",
   "id": "70580595",
   "metadata": {
    "deletable": false,
    "id": "e8593def"
   },
   "source": [
    "**Вывод: Меньше всего задолженностей у людей с уровнем заработка от 30001 рублей до 50 тыс. рублей. Больше всего задолженностей среди людей с наименьшим уровнем заработка среди всех категорий (от 0 до 30 тыс. рублей). Для остальных трех категорий людей с наибольшим уровнем заработка (A, B, C) тенденция отсутствует - хотя среди людей с уровнем заработка от 200001 до 1000000 рублей задолженников меньше, чем среди людей с уровнем заработка больше 1000001, среди людей с уровнем заработка от 50001 до 200000 рублей задолженников больше, чем в обеих вышеперечисленных категориях(A, B).** "
   ]
  },
  {
   "cell_type": "markdown",
   "id": "90ab488e",
   "metadata": {
    "deletable": false,
    "editable": false,
    "id": "99ecbd1f"
   },
   "source": [
    "#### 3.4 Как разные цели кредита влияют на его возврат в срок?"
   ]
  },
  {
   "cell_type": "code",
   "execution_count": 25,
   "id": "38a6d96f",
   "metadata": {
    "deletable": false,
    "id": "2b687290"
   },
   "outputs": [
    {
     "data": {
      "text/html": [
       "<div>\n",
       "<style scoped>\n",
       "    .dataframe tbody tr th:only-of-type {\n",
       "        vertical-align: middle;\n",
       "    }\n",
       "\n",
       "    .dataframe tbody tr th {\n",
       "        vertical-align: top;\n",
       "    }\n",
       "\n",
       "    .dataframe thead th {\n",
       "        text-align: right;\n",
       "    }\n",
       "</style>\n",
       "<table border=\"1\" class=\"dataframe\">\n",
       "  <thead>\n",
       "    <tr style=\"text-align: right;\">\n",
       "      <th></th>\n",
       "      <th>Доля невозврата</th>\n",
       "      <th>Количество заемщиков</th>\n",
       "      <th>Количество должников</th>\n",
       "    </tr>\n",
       "    <tr>\n",
       "      <th>purpose_category</th>\n",
       "      <th></th>\n",
       "      <th></th>\n",
       "      <th></th>\n",
       "    </tr>\n",
       "  </thead>\n",
       "  <tbody>\n",
       "    <tr>\n",
       "      <th>операции с недвижимостью</th>\n",
       "      <td>0.072551</td>\n",
       "      <td>10751</td>\n",
       "      <td>780</td>\n",
       "    </tr>\n",
       "    <tr>\n",
       "      <th>операции с автомобилем</th>\n",
       "      <td>0.093480</td>\n",
       "      <td>4279</td>\n",
       "      <td>400</td>\n",
       "    </tr>\n",
       "    <tr>\n",
       "      <th>получение образования</th>\n",
       "      <td>0.092528</td>\n",
       "      <td>3988</td>\n",
       "      <td>369</td>\n",
       "    </tr>\n",
       "    <tr>\n",
       "      <th>проведение свадьбы</th>\n",
       "      <td>0.079118</td>\n",
       "      <td>2313</td>\n",
       "      <td>183</td>\n",
       "    </tr>\n",
       "  </tbody>\n",
       "</table>\n",
       "</div>"
      ],
      "text/plain": [
       "                          Доля невозврата  Количество заемщиков  \\\n",
       "purpose_category                                                  \n",
       "операции с недвижимостью         0.072551                 10751   \n",
       "операции с автомобилем           0.093480                  4279   \n",
       "получение образования            0.092528                  3988   \n",
       "проведение свадьбы               0.079118                  2313   \n",
       "\n",
       "                          Количество должников  \n",
       "purpose_category                                \n",
       "операции с недвижимостью                   780  \n",
       "операции с автомобилем                     400  \n",
       "получение образования                      369  \n",
       "проведение свадьбы                         183  "
      ]
     },
     "execution_count": 25,
     "metadata": {},
     "output_type": "execute_result"
    }
   ],
   "source": [
    "part = pd.DataFrame(data.groupby('purpose_category')['debt'].agg(['mean']).sort_values(by='mean', ascending = False))\n",
    "num = pd.DataFrame(data.groupby('purpose_category')['debt'].agg(['count']).sort_values(by='count', ascending = False))\n",
    "debt = pd.DataFrame(data.groupby('purpose_category')['debt'].agg(['sum']).sort_values(by='sum', ascending = False))\n",
    "part=part.merge(num, on='purpose_category', how='left')\n",
    "part=part.merge(debt, on='purpose_category', how='right')\n",
    "part = part.rename(columns={\n",
    "'mean'\n",
    ": \n",
    "'Доля невозврата'\n",
    ", \n",
    "'count'\n",
    ": \n",
    "'Количество заемщиков',\n",
    "'sum'\n",
    ": \n",
    "'Количество должников'\n",
    "})\n",
    "part"
   ]
  },
  {
   "cell_type": "markdown",
   "id": "13da6759",
   "metadata": {
    "deletable": false,
    "id": "b4bb2ce6"
   },
   "source": [
    "**Вывод: наибольшее количество должников наблюдается среди тех людей, которые брали кредиты на покупку автомобиля или для получения образования, наименьшее - среди тех, кто воспользовался кредитом при проведении операций с недвижимостью или для свадьбы. Можно предположить, что в данном случае доля задолженников в каждой категории объясняется психологией клиента: люди чаще долго готовятся и отвественно подходят к таким событиям, как свадьба или покупка недвижимости, нежели получение образования или покупка автомобиля.**"
   ]
  },
  {
   "cell_type": "markdown",
   "id": "a9fbfd18",
   "metadata": {
    "deletable": false,
    "editable": false,
    "id": "09c3ac4c"
   },
   "source": [
    "#### 3.5 Приведите возможные причины появления пропусков в исходных данных."
   ]
  },
  {
   "cell_type": "markdown",
   "id": "304ca4a0",
   "metadata": {
    "deletable": false,
    "id": "9da2ceda"
   },
   "source": [
    "*Ответ: Пропуски в данных встречаются в столбцах, содержащих информацию о доходе и общем трудовом стаже заемщика. Это может быть объяснено двумя причинами: 1) Заемщики неофициально трудоустроены, не имеют постоянного заработка или по каким-то другим причинам не знают точной информации об общем стаже и регулярном доходе. 2)Потеря данных по техническим причинам* "
   ]
  },
  {
   "cell_type": "markdown",
   "id": "0e97e96a",
   "metadata": {
    "deletable": false,
    "editable": false,
    "id": "7b0487d6"
   },
   "source": [
    "#### 3.6 Объясните, почему заполнить пропуски медианным значением — лучшее решение для количественных переменных."
   ]
  },
  {
   "cell_type": "markdown",
   "id": "0ce578da",
   "metadata": {
    "deletable": false,
    "id": "7ecf2b8e"
   },
   "source": [
    "*Ответ: Медиана является наиболее объективным показателем для таких количественных значений, как зарплата или общее время трудового стажа в днях. Медиана показывает актуальное среднее значение для неоднородных данных. Другой показатель среднего значения - среднее аримфметическое - варьируется в зависимости от аномальных значений, составляющих меньшинство данных.* "
   ]
  },
  {
   "cell_type": "markdown",
   "id": "9d22ee29",
   "metadata": {
    "deletable": false,
    "editable": false,
    "id": "6db5255a"
   },
   "source": [
    "### Шаг 4: общий вывод."
   ]
  },
  {
   "cell_type": "markdown",
   "id": "d0911ba3",
   "metadata": {
    "deletable": false,
    "id": "bad65432"
   },
   "source": [
    "Постараемся определить основные параметры клиентов, которые с большей вероятностью не будут должниками.\n",
    "- Целевой аудиторией исследуемого продукта являются люди, не имеющие детей, среди этих клиентов также доля должников имеет наименьший показатель - 0.075438 (самая малая доля должников приходится на клиентов, имеющих пятерых детей, но таких всего 9 человек, что нельзя считать достаточно репрезентативным). \n",
    "- Хотя наименьшее количество должников приходится на клиентов, которые ранее состояли в браке, но уже не состоят в нем (являются вдовами/вдовцами или находятся в разводе), гораздо большее количество людей среди заемщиков женаты, доля должников среди них тоже невелика (находится на третьем месте в списке возрастания долей должников), так что последних можно считать целевой аудиторией продукта.\n",
    "- Больше всего клиентов банка зарабатывают либо от 50001 до 200000 рублей (15921), либо от 200001 до 1000000 рублей (5014). Среди первых доля должников составляет 0.084982, что представляет собой большое значение относительно других категорий заработка (находится на втором месте в списке убывания долей должников). Доля задолженностей среди людей с более высоким уровнем заработка (от 200001 до 1000000 рублей) составляет 0.070602, являясь второй по счету наименьшей долей должников в рассматриваемой выборке (по уровню заработной платы). Таким образом, кажется целесообразным в работе обратить внимание на клиентов, попадающих в категорию С по уровню заработка. \n",
    "- Наименьшее количество должников в соответствии с целями взятия кредита приходится на самую большую по численности клиентов категорию - людей, которые берут кредиты для совершения операций с недвижимостью. Очевидно, именно они представляют собой ЦА продукта. \n"
   ]
  }
 ],
 "metadata": {
  "ExecuteTimeLog": [
   {
    "duration": 47,
    "start_time": "2022-10-12T10:10:26.240Z"
   },
   {
    "duration": 591,
    "start_time": "2022-10-12T10:10:34.633Z"
   },
   {
    "duration": 20,
    "start_time": "2022-10-12T10:10:35.225Z"
   },
   {
    "duration": 13,
    "start_time": "2022-10-12T10:10:35.247Z"
   },
   {
    "duration": 11,
    "start_time": "2022-10-12T10:10:35.261Z"
   },
   {
    "duration": 36,
    "start_time": "2022-10-12T10:10:35.274Z"
   },
   {
    "duration": 3,
    "start_time": "2022-10-12T10:10:35.321Z"
   },
   {
    "duration": 9,
    "start_time": "2022-10-12T10:10:35.326Z"
   },
   {
    "duration": 7,
    "start_time": "2022-10-12T10:10:35.336Z"
   },
   {
    "duration": 32,
    "start_time": "2022-10-12T10:10:35.344Z"
   },
   {
    "duration": 5,
    "start_time": "2022-10-12T10:10:35.378Z"
   },
   {
    "duration": 31,
    "start_time": "2022-10-12T10:10:35.384Z"
   },
   {
    "duration": 8,
    "start_time": "2022-10-12T10:10:35.417Z"
   },
   {
    "duration": 6,
    "start_time": "2022-10-12T10:10:35.426Z"
   },
   {
    "duration": 16,
    "start_time": "2022-10-12T10:10:35.434Z"
   },
   {
    "duration": 17,
    "start_time": "2022-10-12T10:10:35.451Z"
   },
   {
    "duration": 14,
    "start_time": "2022-10-12T10:10:35.469Z"
   },
   {
    "duration": 3,
    "start_time": "2022-10-12T10:10:35.484Z"
   },
   {
    "duration": 11,
    "start_time": "2022-10-12T10:10:35.489Z"
   },
   {
    "duration": 24,
    "start_time": "2022-10-12T10:10:35.501Z"
   },
   {
    "duration": 4,
    "start_time": "2022-10-12T10:10:35.526Z"
   },
   {
    "duration": 13,
    "start_time": "2022-10-12T10:10:35.531Z"
   },
   {
    "duration": 8,
    "start_time": "2022-10-12T10:10:35.545Z"
   },
   {
    "duration": 4,
    "start_time": "2022-10-12T10:10:39.379Z"
   },
   {
    "duration": 6,
    "start_time": "2022-10-12T10:11:00.300Z"
   },
   {
    "duration": 7,
    "start_time": "2022-10-12T10:12:26.040Z"
   },
   {
    "duration": 6,
    "start_time": "2022-10-12T10:12:34.892Z"
   },
   {
    "duration": 5,
    "start_time": "2022-10-12T10:12:49.881Z"
   },
   {
    "duration": 6,
    "start_time": "2022-10-12T10:12:57.992Z"
   },
   {
    "duration": 8,
    "start_time": "2022-10-12T10:14:46.994Z"
   },
   {
    "duration": 8,
    "start_time": "2022-10-12T10:15:41.403Z"
   },
   {
    "duration": 6,
    "start_time": "2022-10-12T10:16:24.170Z"
   },
   {
    "duration": 10,
    "start_time": "2022-10-12T10:16:33.361Z"
   },
   {
    "duration": 10,
    "start_time": "2022-10-12T10:21:22.529Z"
   },
   {
    "duration": 7,
    "start_time": "2022-10-12T10:21:54.939Z"
   },
   {
    "duration": 7,
    "start_time": "2022-10-12T10:32:31.442Z"
   },
   {
    "duration": 43,
    "start_time": "2022-10-12T23:38:44.241Z"
   },
   {
    "duration": 464,
    "start_time": "2022-10-12T23:38:52.760Z"
   },
   {
    "duration": 29,
    "start_time": "2022-10-12T23:39:05.764Z"
   },
   {
    "duration": 27,
    "start_time": "2022-10-12T23:39:19.760Z"
   },
   {
    "duration": 6,
    "start_time": "2022-10-12T23:39:42.578Z"
   },
   {
    "duration": 56,
    "start_time": "2022-10-12T23:39:56.628Z"
   },
   {
    "duration": 14,
    "start_time": "2022-10-12T23:39:56.686Z"
   },
   {
    "duration": 16,
    "start_time": "2022-10-12T23:39:56.701Z"
   },
   {
    "duration": 10,
    "start_time": "2022-10-12T23:39:56.723Z"
   },
   {
    "duration": 34,
    "start_time": "2022-10-12T23:39:56.734Z"
   },
   {
    "duration": 3,
    "start_time": "2022-10-12T23:39:56.769Z"
   },
   {
    "duration": 19,
    "start_time": "2022-10-12T23:39:56.773Z"
   },
   {
    "duration": 4,
    "start_time": "2022-10-12T23:39:56.794Z"
   },
   {
    "duration": 27,
    "start_time": "2022-10-12T23:39:56.799Z"
   },
   {
    "duration": 15,
    "start_time": "2022-10-12T23:39:56.828Z"
   },
   {
    "duration": 32,
    "start_time": "2022-10-12T23:39:56.844Z"
   },
   {
    "duration": 8,
    "start_time": "2022-10-12T23:39:56.878Z"
   },
   {
    "duration": 3,
    "start_time": "2022-10-12T23:39:56.888Z"
   },
   {
    "duration": 12,
    "start_time": "2022-10-12T23:39:56.892Z"
   },
   {
    "duration": 28,
    "start_time": "2022-10-12T23:39:56.905Z"
   },
   {
    "duration": 16,
    "start_time": "2022-10-12T23:39:56.935Z"
   },
   {
    "duration": 4,
    "start_time": "2022-10-12T23:39:56.952Z"
   },
   {
    "duration": 9,
    "start_time": "2022-10-12T23:39:57.083Z"
   },
   {
    "duration": 9,
    "start_time": "2022-10-12T23:39:57.094Z"
   },
   {
    "duration": 2,
    "start_time": "2022-10-12T23:39:57.105Z"
   },
   {
    "duration": 12,
    "start_time": "2022-10-12T23:39:57.109Z"
   },
   {
    "duration": 6,
    "start_time": "2022-10-12T23:39:57.122Z"
   },
   {
    "duration": 7,
    "start_time": "2022-10-12T23:40:01.827Z"
   },
   {
    "duration": 7,
    "start_time": "2022-10-12T23:42:42.029Z"
   },
   {
    "duration": 8,
    "start_time": "2022-10-12T23:43:06.873Z"
   },
   {
    "duration": 7,
    "start_time": "2022-10-12T23:43:54.797Z"
   },
   {
    "duration": 8,
    "start_time": "2022-10-12T23:44:00.667Z"
   },
   {
    "duration": 4,
    "start_time": "2022-10-12T23:44:26.453Z"
   },
   {
    "duration": 1401,
    "start_time": "2022-10-12T23:45:07.562Z"
   },
   {
    "duration": 16,
    "start_time": "2022-10-13T00:00:07.058Z"
   },
   {
    "duration": 31,
    "start_time": "2022-10-13T00:01:19.226Z"
   },
   {
    "duration": 12,
    "start_time": "2022-10-13T00:01:30.113Z"
   },
   {
    "duration": 14,
    "start_time": "2022-10-13T00:01:43.468Z"
   },
   {
    "duration": 78,
    "start_time": "2022-10-13T00:01:59.998Z"
   },
   {
    "duration": 13,
    "start_time": "2022-10-13T00:02:06.838Z"
   },
   {
    "duration": 11,
    "start_time": "2022-10-13T00:02:33.183Z"
   },
   {
    "duration": 9,
    "start_time": "2022-10-13T00:03:13.101Z"
   },
   {
    "duration": 12,
    "start_time": "2022-10-13T00:03:24.050Z"
   },
   {
    "duration": 10,
    "start_time": "2022-10-13T00:03:50.938Z"
   },
   {
    "duration": 24,
    "start_time": "2022-10-13T00:04:27.947Z"
   },
   {
    "duration": 13,
    "start_time": "2022-10-13T00:04:41.995Z"
   },
   {
    "duration": 14,
    "start_time": "2022-10-13T00:04:52.805Z"
   },
   {
    "duration": 124,
    "start_time": "2022-10-13T00:05:02.674Z"
   },
   {
    "duration": 14,
    "start_time": "2022-10-13T00:05:17.869Z"
   },
   {
    "duration": 41,
    "start_time": "2022-10-13T00:05:37.295Z"
   },
   {
    "duration": 16,
    "start_time": "2022-10-13T00:05:52.023Z"
   },
   {
    "duration": 15,
    "start_time": "2022-10-13T00:06:00.720Z"
   },
   {
    "duration": 13,
    "start_time": "2022-10-13T00:06:11.931Z"
   },
   {
    "duration": 59,
    "start_time": "2022-10-13T00:14:04.028Z"
   },
   {
    "duration": 15,
    "start_time": "2022-10-13T00:14:04.089Z"
   },
   {
    "duration": 20,
    "start_time": "2022-10-13T00:14:04.106Z"
   },
   {
    "duration": 9,
    "start_time": "2022-10-13T00:14:04.128Z"
   },
   {
    "duration": 45,
    "start_time": "2022-10-13T00:14:04.139Z"
   },
   {
    "duration": 4,
    "start_time": "2022-10-13T00:14:04.186Z"
   },
   {
    "duration": 16,
    "start_time": "2022-10-13T00:14:04.191Z"
   },
   {
    "duration": 16,
    "start_time": "2022-10-13T00:14:04.209Z"
   },
   {
    "duration": 13,
    "start_time": "2022-10-13T00:14:04.227Z"
   },
   {
    "duration": 5,
    "start_time": "2022-10-13T00:14:04.243Z"
   },
   {
    "duration": 35,
    "start_time": "2022-10-13T00:14:04.250Z"
   },
   {
    "duration": 11,
    "start_time": "2022-10-13T00:14:04.287Z"
   },
   {
    "duration": 27,
    "start_time": "2022-10-13T00:14:04.300Z"
   },
   {
    "duration": 26,
    "start_time": "2022-10-13T00:14:04.329Z"
   },
   {
    "duration": 40,
    "start_time": "2022-10-13T00:14:04.356Z"
   },
   {
    "duration": 18,
    "start_time": "2022-10-13T00:14:04.397Z"
   },
   {
    "duration": 3,
    "start_time": "2022-10-13T00:14:04.416Z"
   },
   {
    "duration": 21,
    "start_time": "2022-10-13T00:14:04.420Z"
   },
   {
    "duration": 16,
    "start_time": "2022-10-13T00:14:04.442Z"
   },
   {
    "duration": 15,
    "start_time": "2022-10-13T00:14:04.459Z"
   },
   {
    "duration": 21,
    "start_time": "2022-10-13T00:14:04.476Z"
   },
   {
    "duration": 91,
    "start_time": "2022-10-13T00:14:07.292Z"
   },
   {
    "duration": 25,
    "start_time": "2022-10-13T00:14:17.158Z"
   },
   {
    "duration": 10,
    "start_time": "2022-10-13T00:15:34.155Z"
   },
   {
    "duration": 11,
    "start_time": "2022-10-13T00:16:08.434Z"
   },
   {
    "duration": 5,
    "start_time": "2022-10-13T00:22:41.576Z"
   },
   {
    "duration": 4,
    "start_time": "2022-10-13T00:22:54.892Z"
   },
   {
    "duration": 10,
    "start_time": "2022-10-13T00:25:04.688Z"
   },
   {
    "duration": 10,
    "start_time": "2022-10-13T00:25:29.876Z"
   },
   {
    "duration": 10,
    "start_time": "2022-10-13T00:29:06.311Z"
   },
   {
    "duration": 9,
    "start_time": "2022-10-13T00:29:15.166Z"
   },
   {
    "duration": 13,
    "start_time": "2022-10-13T00:30:10.787Z"
   },
   {
    "duration": 10,
    "start_time": "2022-10-13T00:30:22.882Z"
   },
   {
    "duration": 11,
    "start_time": "2022-10-13T00:30:37.922Z"
   },
   {
    "duration": 11,
    "start_time": "2022-10-13T00:30:51.003Z"
   },
   {
    "duration": 10,
    "start_time": "2022-10-13T00:31:31.866Z"
   },
   {
    "duration": 11,
    "start_time": "2022-10-13T00:32:08.791Z"
   },
   {
    "duration": 11,
    "start_time": "2022-10-13T00:39:25.819Z"
   },
   {
    "duration": 13,
    "start_time": "2022-10-13T00:40:39.091Z"
   },
   {
    "duration": 11,
    "start_time": "2022-10-13T00:41:01.317Z"
   },
   {
    "duration": 493,
    "start_time": "2022-10-15T08:33:35.643Z"
   },
   {
    "duration": 82,
    "start_time": "2022-10-15T08:33:55.798Z"
   },
   {
    "duration": 93,
    "start_time": "2022-10-15T08:35:09.041Z"
   },
   {
    "duration": 93,
    "start_time": "2022-10-15T08:35:20.030Z"
   },
   {
    "duration": 11,
    "start_time": "2022-10-15T09:29:24.977Z"
   },
   {
    "duration": 749,
    "start_time": "2022-10-15T09:29:34.655Z"
   },
   {
    "duration": 23,
    "start_time": "2022-10-15T09:29:35.406Z"
   },
   {
    "duration": 15,
    "start_time": "2022-10-15T09:29:35.430Z"
   },
   {
    "duration": 9,
    "start_time": "2022-10-15T09:29:35.448Z"
   },
   {
    "duration": 71,
    "start_time": "2022-10-15T09:29:35.459Z"
   },
   {
    "duration": 5,
    "start_time": "2022-10-15T09:29:35.531Z"
   },
   {
    "duration": 14,
    "start_time": "2022-10-15T09:29:35.538Z"
   },
   {
    "duration": 6,
    "start_time": "2022-10-15T09:29:35.555Z"
   },
   {
    "duration": 19,
    "start_time": "2022-10-15T09:29:35.562Z"
   },
   {
    "duration": 6,
    "start_time": "2022-10-15T09:29:35.584Z"
   },
   {
    "duration": 54,
    "start_time": "2022-10-15T09:29:35.592Z"
   },
   {
    "duration": 10,
    "start_time": "2022-10-15T09:29:35.648Z"
   },
   {
    "duration": 10,
    "start_time": "2022-10-15T09:29:35.659Z"
   },
   {
    "duration": 13,
    "start_time": "2022-10-15T09:29:35.670Z"
   },
   {
    "duration": 47,
    "start_time": "2022-10-15T09:29:35.685Z"
   },
   {
    "duration": 18,
    "start_time": "2022-10-15T09:29:35.734Z"
   },
   {
    "duration": 4,
    "start_time": "2022-10-15T09:29:35.753Z"
   },
   {
    "duration": 22,
    "start_time": "2022-10-15T09:29:35.759Z"
   },
   {
    "duration": 14,
    "start_time": "2022-10-15T09:29:35.783Z"
   },
   {
    "duration": 7,
    "start_time": "2022-10-15T09:29:35.799Z"
   },
   {
    "duration": 22,
    "start_time": "2022-10-15T09:29:35.808Z"
   },
   {
    "duration": 53,
    "start_time": "2022-10-15T09:29:35.832Z"
   },
   {
    "duration": 0,
    "start_time": "2022-10-15T09:29:35.887Z"
   },
   {
    "duration": 0,
    "start_time": "2022-10-15T09:29:35.889Z"
   },
   {
    "duration": 0,
    "start_time": "2022-10-15T09:29:35.890Z"
   },
   {
    "duration": 86,
    "start_time": "2022-10-15T09:29:48.102Z"
   },
   {
    "duration": 21,
    "start_time": "2022-10-15T09:29:48.191Z"
   },
   {
    "duration": 40,
    "start_time": "2022-10-15T09:29:48.222Z"
   },
   {
    "duration": 34,
    "start_time": "2022-10-15T09:29:48.264Z"
   },
   {
    "duration": 76,
    "start_time": "2022-10-15T09:29:48.300Z"
   },
   {
    "duration": 18,
    "start_time": "2022-10-15T09:29:48.378Z"
   },
   {
    "duration": 56,
    "start_time": "2022-10-15T09:29:48.398Z"
   },
   {
    "duration": 49,
    "start_time": "2022-10-15T09:29:48.458Z"
   },
   {
    "duration": 62,
    "start_time": "2022-10-15T09:29:48.508Z"
   },
   {
    "duration": 69,
    "start_time": "2022-10-15T09:29:48.573Z"
   },
   {
    "duration": 108,
    "start_time": "2022-10-15T09:29:48.644Z"
   },
   {
    "duration": 16,
    "start_time": "2022-10-15T09:29:48.754Z"
   },
   {
    "duration": 107,
    "start_time": "2022-10-15T09:29:48.771Z"
   },
   {
    "duration": 52,
    "start_time": "2022-10-15T09:29:48.881Z"
   },
   {
    "duration": 67,
    "start_time": "2022-10-15T09:29:48.935Z"
   },
   {
    "duration": 69,
    "start_time": "2022-10-15T09:29:49.005Z"
   },
   {
    "duration": 62,
    "start_time": "2022-10-15T09:29:49.076Z"
   },
   {
    "duration": 62,
    "start_time": "2022-10-15T09:29:49.140Z"
   },
   {
    "duration": 42,
    "start_time": "2022-10-15T09:29:49.204Z"
   },
   {
    "duration": 97,
    "start_time": "2022-10-15T09:29:49.248Z"
   },
   {
    "duration": 43,
    "start_time": "2022-10-15T09:29:49.347Z"
   },
   {
    "duration": 64,
    "start_time": "2022-10-15T09:29:49.392Z"
   },
   {
    "duration": 0,
    "start_time": "2022-10-15T09:29:49.458Z"
   },
   {
    "duration": 0,
    "start_time": "2022-10-15T09:29:49.462Z"
   },
   {
    "duration": 0,
    "start_time": "2022-10-15T09:29:49.463Z"
   },
   {
    "duration": 20,
    "start_time": "2022-10-15T09:30:17.902Z"
   },
   {
    "duration": 30,
    "start_time": "2022-10-15T09:30:31.564Z"
   },
   {
    "duration": 31,
    "start_time": "2022-10-15T09:33:50.278Z"
   },
   {
    "duration": 38,
    "start_time": "2022-10-15T09:37:55.489Z"
   },
   {
    "duration": 25,
    "start_time": "2022-10-15T09:39:01.152Z"
   },
   {
    "duration": 14,
    "start_time": "2022-10-15T09:39:36.690Z"
   },
   {
    "duration": 38,
    "start_time": "2022-10-15T09:39:46.783Z"
   },
   {
    "duration": 25,
    "start_time": "2022-10-15T09:40:53.986Z"
   },
   {
    "duration": 7,
    "start_time": "2022-10-15T09:41:56.632Z"
   },
   {
    "duration": 27,
    "start_time": "2022-10-15T09:42:02.437Z"
   },
   {
    "duration": 37,
    "start_time": "2022-10-15T09:42:15.445Z"
   },
   {
    "duration": 27,
    "start_time": "2022-10-15T09:44:11.987Z"
   },
   {
    "duration": 24,
    "start_time": "2022-10-15T09:44:19.564Z"
   },
   {
    "duration": 528,
    "start_time": "2022-10-15T11:00:30.913Z"
   },
   {
    "duration": 21,
    "start_time": "2022-10-15T11:00:31.443Z"
   },
   {
    "duration": 24,
    "start_time": "2022-10-15T11:00:31.466Z"
   },
   {
    "duration": 23,
    "start_time": "2022-10-15T11:00:31.492Z"
   },
   {
    "duration": 36,
    "start_time": "2022-10-15T11:00:31.517Z"
   },
   {
    "duration": 3,
    "start_time": "2022-10-15T11:00:31.554Z"
   },
   {
    "duration": 43,
    "start_time": "2022-10-15T11:00:31.559Z"
   },
   {
    "duration": 20,
    "start_time": "2022-10-15T11:00:31.604Z"
   },
   {
    "duration": 23,
    "start_time": "2022-10-15T11:00:31.626Z"
   },
   {
    "duration": 4,
    "start_time": "2022-10-15T11:00:31.651Z"
   },
   {
    "duration": 43,
    "start_time": "2022-10-15T11:00:31.656Z"
   },
   {
    "duration": 10,
    "start_time": "2022-10-15T11:00:31.700Z"
   },
   {
    "duration": 9,
    "start_time": "2022-10-15T11:00:31.712Z"
   },
   {
    "duration": 17,
    "start_time": "2022-10-15T11:00:31.723Z"
   },
   {
    "duration": 20,
    "start_time": "2022-10-15T11:00:31.742Z"
   },
   {
    "duration": 16,
    "start_time": "2022-10-15T11:00:31.764Z"
   },
   {
    "duration": 34,
    "start_time": "2022-10-15T11:00:31.782Z"
   },
   {
    "duration": 25,
    "start_time": "2022-10-15T11:00:31.818Z"
   },
   {
    "duration": 15,
    "start_time": "2022-10-15T11:00:31.844Z"
   },
   {
    "duration": 5,
    "start_time": "2022-10-15T11:00:31.861Z"
   },
   {
    "duration": 17,
    "start_time": "2022-10-15T11:00:31.868Z"
   },
   {
    "duration": 26,
    "start_time": "2022-10-15T11:00:31.886Z"
   },
   {
    "duration": 25,
    "start_time": "2022-10-15T11:00:31.914Z"
   },
   {
    "duration": 25,
    "start_time": "2022-10-15T11:00:31.941Z"
   },
   {
    "duration": 47,
    "start_time": "2022-10-15T11:00:31.967Z"
   },
   {
    "duration": 10,
    "start_time": "2022-10-15T11:02:37.522Z"
   },
   {
    "duration": 10,
    "start_time": "2022-10-15T11:02:56.230Z"
   }
  ],
  "colab": {
   "name": "dpp_template_part2.ipynb",
   "provenance": []
  },
  "kernelspec": {
   "display_name": "Python 3 (ipykernel)",
   "language": "python",
   "name": "python3"
  },
  "language_info": {
   "codemirror_mode": {
    "name": "ipython",
    "version": 3
   },
   "file_extension": ".py",
   "mimetype": "text/x-python",
   "name": "python",
   "nbconvert_exporter": "python",
   "pygments_lexer": "ipython3",
   "version": "3.9.5"
  },
  "toc": {
   "base_numbering": 1,
   "nav_menu": {},
   "number_sections": true,
   "sideBar": true,
   "skip_h1_title": true,
   "title_cell": "Table of Contents",
   "title_sidebar": "Contents",
   "toc_cell": false,
   "toc_position": {},
   "toc_section_display": true,
   "toc_window_display": false
  }
 },
 "nbformat": 4,
 "nbformat_minor": 5
}
